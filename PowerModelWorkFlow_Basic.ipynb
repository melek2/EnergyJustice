{
 "cells": [
  {
   "cell_type": "markdown",
   "metadata": {},
   "source": [
    "# Import dependencies"
   ]
  },
  {
   "cell_type": "code",
   "execution_count": 1,
   "metadata": {},
   "outputs": [],
   "source": [
    "begin\n",
    "\tusing PowerModelsDistribution\n",
    "\timport InfrastructureModels\n",
    "\timport JuMP\n",
    "\tusing Ipopt\n",
    "\timport JSON\n",
    "\timport CSV\n",
    "\timport LinearAlgebra\n",
    "end"
   ]
  },
  {
   "cell_type": "markdown",
   "metadata": {},
   "source": [
    "Function to pull bus voltages:"
   ]
  },
  {
   "cell_type": "code",
   "execution_count": 133,
   "metadata": {},
   "outputs": [
    {
     "data": {
      "text/plain": [
       "process_bus_data (generic function with 2 methods)"
      ]
     },
     "execution_count": 133,
     "metadata": {},
     "output_type": "execute_result"
    }
   ],
   "source": [
    "include(\"Functions/process_bus_data.jl\")"
   ]
  },
  {
   "cell_type": "markdown",
   "metadata": {},
   "source": [
    "directory to save result(s):"
   ]
  },
  {
   "cell_type": "code",
   "execution_count": 138,
   "metadata": {},
   "outputs": [
    {
     "data": {
      "text/plain": [
       "\"/Users/melek/Desktop/Research/Research Fall 2023/DER EJ/Results/\""
      ]
     },
     "execution_count": 138,
     "metadata": {},
     "output_type": "execute_result"
    }
   ],
   "source": [
    "results_directory = \"/Users/melek/Desktop/Research/Research Fall 2023/DER EJ/Results/\""
   ]
  },
  {
   "cell_type": "markdown",
   "metadata": {},
   "source": [
    "# Solving"
   ]
  },
  {
   "cell_type": "code",
   "execution_count": null,
   "metadata": {},
   "outputs": [
    {
     "data": {
      "text/plain": [
       "ACPUPowerModel"
      ]
     },
     "execution_count": 37,
     "metadata": {},
     "output_type": "execute_result"
    }
   ],
   "source": [
    "data_file = \"/Users/melek/Desktop/Research/Research Fall 2023/DER EJ/Data/SFO/P22U/p22uhs0_1247/p22uhs0_1247--p22udt287/Master.dss\"\n",
    "ipopt_solver = optimizer_with_attributes(Ipopt.Optimizer, \"print_level\" => 0, \"tol\" => 1e-6)\n",
    "formulation = ACPUPowerModel"
   ]
  },
  {
   "cell_type": "code",
   "execution_count": 38,
   "metadata": {},
   "outputs": [
    {
     "name": "stderr",
     "output_type": "stream",
     "text": [
      "\u001b[36m\u001b[1m[ \u001b[22m\u001b[39m\u001b[36m\u001b[1mPowerModelsDistribution | Info ] : \u001b[22m\u001b[39mCircuit has been reset with the 'clear' on line 1 in 'Master.dss'\n",
      "\u001b[36m\u001b[1m[ \u001b[22m\u001b[39m\u001b[36m\u001b[1mPowerModelsDistribution | Info ] : \u001b[22m\u001b[39mRedirecting to 'transformers.dss' on line 5 in 'Master.dss'\n",
      "\u001b[36m\u001b[1m[ \u001b[22m\u001b[39m\u001b[36m\u001b[1mPowerModelsDistribution | Info ] : \u001b[22m\u001b[39mRedirecting to 'loads.dss' on line 6 in 'Transformers.dss'\n",
      "\u001b[36m\u001b[1m[ \u001b[22m\u001b[39m\u001b[36m\u001b[1mPowerModelsDistribution | Info ] : \u001b[22m\u001b[39mRedirecting to 'linecodes.dss' on line 7 in 'Loads.dss'\n",
      "\u001b[36m\u001b[1m[ \u001b[22m\u001b[39m\u001b[36m\u001b[1mPowerModelsDistribution | Info ] : \u001b[22m\u001b[39mRedirecting to 'lines.dss' on line 8 in 'LineCodes.dss'\n",
      "\u001b[36m\u001b[1m[ \u001b[22m\u001b[39m\u001b[36m\u001b[1mPowerModelsDistribution | Info ] : \u001b[22m\u001b[39mRedirecting to 'capacitors.dss' on line 9 in 'Lines.dss'\n",
      "\u001b[36m\u001b[1m[ \u001b[22m\u001b[39m\u001b[36m\u001b[1mPowerModelsDistribution | Info ] : \u001b[22m\u001b[39mCommand 'calcvoltagebases' on line 13 in 'Master.dss' is not supported, skipping.\n",
      "\u001b[36m\u001b[1m[ \u001b[22m\u001b[39m\u001b[36m\u001b[1mPowerModelsDistribution | Info ] : \u001b[22m\u001b[39mReading Buscoords in 'buscoords.dss' on line 15 in 'Capacitors.dss'\n",
      "\u001b[36m\u001b[1m[ \u001b[22m\u001b[39m\u001b[36m\u001b[1mPowerModelsDistribution | Info ] : \u001b[22m\u001b[39mCommand 'solve' on line 17 in 'Master.dss' is not supported, skipping.\n",
      "\u001b[36m\u001b[1m[ \u001b[22m\u001b[39m\u001b[36m\u001b[1mPowerModelsDistribution | Info ] : \u001b[22m\u001b[39mbasemva=100 is the default value, you may want to adjust sbase_default for better convergence\n"
     ]
    },
    {
     "name": "stdout",
     "output_type": "stream",
     "text": [
      "\n",
      "******************************************************************************\n",
      "This program contains Ipopt, a library for large-scale nonlinear optimization.\n",
      " Ipopt is released as open source code under the Eclipse Public License (EPL).\n",
      "         For more information visit https://github.com/coin-or/Ipopt\n",
      "******************************************************************************\n",
      "\n"
     ]
    },
    {
     "name": "stderr",
     "output_type": "stream",
     "text": [
      "\u001b[36m\u001b[1m[ \u001b[22m\u001b[39m\u001b[36m\u001b[1mPowerModelsDistribution | Info ] : \u001b[22m\u001b[39mno generators found in the given network data, disabling island\n",
      "\u001b[36m\u001b[1m[ \u001b[22m\u001b[39m\u001b[36m\u001b[1mPowerModelsDistribution | Info ] : \u001b[22m\u001b[39mno generators found in the given network data, disabling island\n",
      "\u001b[36m\u001b[1m[ \u001b[22m\u001b[39m\u001b[36m\u001b[1mPowerModelsDistribution | Info ] : \u001b[22m\u001b[39mno generators found in the given network data, disabling island\n",
      "\u001b[36m\u001b[1m[ \u001b[22m\u001b[39m\u001b[36m\u001b[1mPowerModelsDistribution | Info ] : \u001b[22m\u001b[39mno generators found in the given network data, disabling island\n",
      "\u001b[36m\u001b[1m[ \u001b[22m\u001b[39m\u001b[36m\u001b[1mPowerModelsDistribution | Info ] : \u001b[22m\u001b[39mno generators found in the given network data, disabling island\n",
      "\u001b[36m\u001b[1m[ \u001b[22m\u001b[39m\u001b[36m\u001b[1mPowerModelsDistribution | Info ] : \u001b[22m\u001b[39mno generators found in the given network data, disabling island\n",
      "\u001b[36m\u001b[1m[ \u001b[22m\u001b[39m\u001b[36m\u001b[1mPowerModelsDistribution | Info ] : \u001b[22m\u001b[39mno generators found in the given network data, disabling island\n"
     ]
    },
    {
     "data": {
      "text/plain": [
       "Dict{String, Any} with 8 entries:\n",
       "  \"solve_time\"         => 1722.41\n",
       "  \"optimizer\"          => \"Ipopt\"\n",
       "  \"termination_status\" => ITERATION_LIMIT\n",
       "  \"dual_status\"        => UNKNOWN_RESULT_STATUS\n",
       "  \"primal_status\"      => UNKNOWN_RESULT_STATUS\n",
       "  \"objective\"          => 0.0\n",
       "  \"solution\"           => Dict{String, Any}(\"voltage_source\"=>Dict{String, Any}…\n",
       "  \"objective_lb\"       => -Inf"
      ]
     },
     "execution_count": 38,
     "metadata": {},
     "output_type": "execute_result"
    },
    {
     "name": "stderr",
     "output_type": "stream",
     "text": [
      "WARNING: both GMT and LibGEOS export \"simplify\"; uses of it in module Main must be qualified\n",
      "WARNING: both GMT and GeoDataFrames export \"symdifference\"; uses of it in module Main must be qualified\n"
     ]
    }
   ],
   "source": [
    "result  = solve_mc_pf(data_file, formulation,ipopt_solver)"
   ]
  },
  {
   "cell_type": "markdown",
   "metadata": {},
   "source": [
    "## accessing results"
   ]
  },
  {
   "cell_type": "code",
   "execution_count": 128,
   "metadata": {},
   "outputs": [
    {
     "data": {
      "text/plain": [
       "Dict{String, Any} with 2396 entries:\n",
       "  \"p22udt1217\"             => Dict{String, Any}(\"va\"=>[-0.0591169, -119.907, 12…\n",
       "  \"p22ulv4205\"             => Dict{String, Any}(\"va\"=>[119.885, -60.0178], \"vm\"…\n",
       "  \"p22udt1404lv\"           => Dict{String, Any}(\"va\"=>[-0.518176, -120.396, 119…\n",
       "  \"p22ulv2812\"             => Dict{String, Any}(\"va\"=>[120.063, -59.833], \"vm\"=…\n",
       "  \"p22ulv554\"              => Dict{String, Any}(\"va\"=>[-0.399966, 179.708], \"vm…\n",
       "  \"p22udt1419\"             => Dict{String, Any}(\"va\"=>[120.301], \"vm\"=>[7.28816…\n",
       "  \"p22ulv3770\"             => Dict{String, Any}(\"va\"=>[120.114, -59.8179], \"vm\"…\n",
       "  \"p22ulv590\"              => Dict{String, Any}(\"va\"=>[-0.399501, 179.702], \"vm…\n",
       "  \"p22udt1739lv\"           => Dict{String, Any}(\"va\"=>[-120.069, 59.9984], \"vm\"…\n",
       "  \"p22ulv3743\"             => Dict{String, Any}(\"va\"=>[-119.971, 60.1255], \"vm\"…\n",
       "  \"p22udt51lv\"             => Dict{String, Any}(\"va\"=>[-0.0374208, -179.969], \"…\n",
       "  \"p22ulv6753\"             => Dict{String, Any}(\"va\"=>[-0.597086, -120.592, 119…\n",
       "  \"p22udm430\"              => Dict{String, Any}(\"va\"=>[-120.223, 59.8831], \"vm\"…\n",
       "  \"p22ulv2355\"             => Dict{String, Any}(\"va\"=>[-0.263069, 179.843], \"vm…\n",
       "  \"p22ulv2922\"             => Dict{String, Any}(\"va\"=>[-0.298821, 179.782], \"vm…\n",
       "  \"p22ulv3190\"             => Dict{String, Any}(\"va\"=>[-120.143, 59.9554], \"vm\"…\n",
       "  \"p22ulv3200\"             => Dict{String, Any}(\"va\"=>[-120.226, 59.854], \"vm\"=…\n",
       "  \"p22udt1189\"             => Dict{String, Any}(\"va\"=>[-0.0294725, -119.721, 12…\n",
       "  \"p22ulv2895\"             => Dict{String, Any}(\"va\"=>[-0.399809, 179.708], \"vm…\n",
       "  \"p22udt364\"              => Dict{String, Any}(\"va\"=>[-0.0720311, -119.905, 12…\n",
       "  \"p22ulv4222\"             => Dict{String, Any}(\"va\"=>[119.81, -60.0777], \"vm\"=…\n",
       "  \"p22udt2183-p22udt62x\"   => Dict{String, Any}(\"va\"=>[0.147167, -119.831, 120.…\n",
       "  \"p22udt1721lv\"           => Dict{String, Any}(\"va\"=>[-120.219, 59.8888], \"vm\"…\n",
       "  \"p22udt1196-p22udt333xx\" => Dict{String, Any}(\"va\"=>[-0.145057, -119.853, 120…\n",
       "  \"p22ulv2876\"             => Dict{String, Any}(\"va\"=>[-0.275119, 179.831], \"vm…\n",
       "  ⋮                        => ⋮"
      ]
     },
     "execution_count": 128,
     "metadata": {},
     "output_type": "execute_result"
    }
   ],
   "source": [
    "result[\"solution\"][\"bus\"]"
   ]
  },
  {
   "cell_type": "markdown",
   "metadata": {},
   "source": [
    "## reorganizing and saving voltages"
   ]
  },
  {
   "cell_type": "code",
   "execution_count": null,
   "metadata": {},
   "outputs": [
    {
     "data": {
      "text/html": [
       "<div><div style = \"float: left;\"><span>2396×7 DataFrame</span></div><div style = \"float: right;\"><span style = \"font-style: italic;\">2371 rows omitted</span></div><div style = \"clear: both;\"></div></div><div class = \"data-frame\" style = \"overflow-x: scroll;\"><table class = \"data-frame\" style = \"margin-bottom: 6px;\"><thead><tr class = \"header\"><th class = \"rowNumber\" style = \"font-weight: bold; text-align: right;\">Row</th><th style = \"text-align: left;\">Bus</th><th style = \"text-align: left;\">VM_1</th><th style = \"text-align: left;\">VA_1</th><th style = \"text-align: left;\">VM_2</th><th style = \"text-align: left;\">VA_2</th><th style = \"text-align: left;\">VM_3</th><th style = \"text-align: left;\">VA_3</th></tr><tr class = \"subheader headerLastRow\"><th class = \"rowNumber\" style = \"font-weight: bold; text-align: right;\"></th><th title = \"String\" style = \"text-align: left;\">String</th><th title = \"Union{Missing, Float64}\" style = \"text-align: left;\">Float64?</th><th title = \"Union{Missing, Float64}\" style = \"text-align: left;\">Float64?</th><th title = \"Union{Missing, Float64}\" style = \"text-align: left;\">Float64?</th><th title = \"Union{Missing, Float64}\" style = \"text-align: left;\">Float64?</th><th title = \"Union{Missing, Float64}\" style = \"text-align: left;\">Float64?</th><th title = \"Union{Missing, Float64}\" style = \"text-align: left;\">Float64?</th></tr></thead><tbody><tr><td class = \"rowNumber\" style = \"font-weight: bold; text-align: right;\">1</td><td style = \"text-align: left;\">p22udt1217</td><td style = \"text-align: right;\">7.42984</td><td style = \"text-align: right;\">-0.0591169</td><td style = \"text-align: right;\">7.35006</td><td style = \"text-align: right;\">-119.907</td><td style = \"text-align: right;\">7.3999</td><td style = \"text-align: right;\">120.577</td></tr><tr><td class = \"rowNumber\" style = \"font-weight: bold; text-align: right;\">2</td><td style = \"text-align: left;\">p22ulv4205</td><td style = \"text-align: right;\">0.120289</td><td style = \"text-align: right;\">119.885</td><td style = \"text-align: right;\">0.120333</td><td style = \"text-align: right;\">-60.0178</td><td style = \"font-style: italic; text-align: right;\">missing</td><td style = \"font-style: italic; text-align: right;\">missing</td></tr><tr><td class = \"rowNumber\" style = \"font-weight: bold; text-align: right;\">3</td><td style = \"text-align: left;\">p22udt1404lv</td><td style = \"text-align: right;\">0.277846</td><td style = \"text-align: right;\">-0.518176</td><td style = \"text-align: right;\">0.276209</td><td style = \"text-align: right;\">-120.396</td><td style = \"text-align: right;\">0.276378</td><td style = \"text-align: right;\">119.586</td></tr><tr><td class = \"rowNumber\" style = \"font-weight: bold; text-align: right;\">4</td><td style = \"text-align: left;\">p22ulv2812</td><td style = \"text-align: right;\">0.121406</td><td style = \"text-align: right;\">120.063</td><td style = \"text-align: right;\">0.121456</td><td style = \"text-align: right;\">-59.833</td><td style = \"font-style: italic; text-align: right;\">missing</td><td style = \"font-style: italic; text-align: right;\">missing</td></tr><tr><td class = \"rowNumber\" style = \"font-weight: bold; text-align: right;\">5</td><td style = \"text-align: left;\">p22ulv554</td><td style = \"text-align: right;\">0.122149</td><td style = \"text-align: right;\">-0.399966</td><td style = \"text-align: right;\">0.122197</td><td style = \"text-align: right;\">179.708</td><td style = \"font-style: italic; text-align: right;\">missing</td><td style = \"font-style: italic; text-align: right;\">missing</td></tr><tr><td class = \"rowNumber\" style = \"font-weight: bold; text-align: right;\">6</td><td style = \"text-align: left;\">p22udt1419</td><td style = \"text-align: right;\">7.28816</td><td style = \"text-align: right;\">120.301</td><td style = \"font-style: italic; text-align: right;\">missing</td><td style = \"font-style: italic; text-align: right;\">missing</td><td style = \"font-style: italic; text-align: right;\">missing</td><td style = \"font-style: italic; text-align: right;\">missing</td></tr><tr><td class = \"rowNumber\" style = \"font-weight: bold; text-align: right;\">7</td><td style = \"text-align: left;\">p22ulv3770</td><td style = \"text-align: right;\">0.124305</td><td style = \"text-align: right;\">120.114</td><td style = \"text-align: right;\">0.124337</td><td style = \"text-align: right;\">-59.8179</td><td style = \"font-style: italic; text-align: right;\">missing</td><td style = \"font-style: italic; text-align: right;\">missing</td></tr><tr><td class = \"rowNumber\" style = \"font-weight: bold; text-align: right;\">8</td><td style = \"text-align: left;\">p22ulv590</td><td style = \"text-align: right;\">0.121902</td><td style = \"text-align: right;\">-0.399501</td><td style = \"text-align: right;\">0.12195</td><td style = \"text-align: right;\">179.702</td><td style = \"font-style: italic; text-align: right;\">missing</td><td style = \"font-style: italic; text-align: right;\">missing</td></tr><tr><td class = \"rowNumber\" style = \"font-weight: bold; text-align: right;\">9</td><td style = \"text-align: left;\">p22udt1739lv</td><td style = \"text-align: right;\">0.1206</td><td style = \"text-align: right;\">-120.069</td><td style = \"text-align: right;\">0.120631</td><td style = \"text-align: right;\">59.9984</td><td style = \"font-style: italic; text-align: right;\">missing</td><td style = \"font-style: italic; text-align: right;\">missing</td></tr><tr><td class = \"rowNumber\" style = \"font-weight: bold; text-align: right;\">10</td><td style = \"text-align: left;\">p22ulv3743</td><td style = \"text-align: right;\">0.121393</td><td style = \"text-align: right;\">-119.971</td><td style = \"text-align: right;\">0.121437</td><td style = \"text-align: right;\">60.1255</td><td style = \"font-style: italic; text-align: right;\">missing</td><td style = \"font-style: italic; text-align: right;\">missing</td></tr><tr><td class = \"rowNumber\" style = \"font-weight: bold; text-align: right;\">11</td><td style = \"text-align: left;\">p22udt51lv</td><td style = \"text-align: right;\">0.120144</td><td style = \"text-align: right;\">-0.0374208</td><td style = \"text-align: right;\">0.120175</td><td style = \"text-align: right;\">-179.969</td><td style = \"font-style: italic; text-align: right;\">missing</td><td style = \"font-style: italic; text-align: right;\">missing</td></tr><tr><td class = \"rowNumber\" style = \"font-weight: bold; text-align: right;\">12</td><td style = \"text-align: left;\">p22ulv6753</td><td style = \"text-align: right;\">0.280687</td><td style = \"text-align: right;\">-0.597086</td><td style = \"text-align: right;\">0.278347</td><td style = \"text-align: right;\">-120.592</td><td style = \"text-align: right;\">0.280278</td><td style = \"text-align: right;\">119.811</td></tr><tr><td class = \"rowNumber\" style = \"font-weight: bold; text-align: right;\">13</td><td style = \"text-align: left;\">p22udm430</td><td style = \"text-align: right;\">0.120455</td><td style = \"text-align: right;\">-120.223</td><td style = \"text-align: right;\">0.120505</td><td style = \"text-align: right;\">59.8831</td><td style = \"font-style: italic; text-align: right;\">missing</td><td style = \"font-style: italic; text-align: right;\">missing</td></tr><tr><td style = \"text-align: right;\">&vellip;</td><td style = \"text-align: right;\">&vellip;</td><td style = \"text-align: right;\">&vellip;</td><td style = \"text-align: right;\">&vellip;</td><td style = \"text-align: right;\">&vellip;</td><td style = \"text-align: right;\">&vellip;</td><td style = \"text-align: right;\">&vellip;</td><td style = \"text-align: right;\">&vellip;</td></tr><tr><td class = \"rowNumber\" style = \"font-weight: bold; text-align: right;\">2385</td><td style = \"text-align: left;\">p22udm2310</td><td style = \"text-align: right;\">0.119771</td><td style = \"text-align: right;\">-0.0516164</td><td style = \"text-align: right;\">0.119824</td><td style = \"text-align: right;\">-179.966</td><td style = \"font-style: italic; text-align: right;\">missing</td><td style = \"font-style: italic; text-align: right;\">missing</td></tr><tr><td class = \"rowNumber\" style = \"font-weight: bold; text-align: right;\">2386</td><td style = \"text-align: left;\">p22ulv3243</td><td style = \"text-align: right;\">0.12318</td><td style = \"text-align: right;\">119.895</td><td style = \"text-align: right;\">0.123229</td><td style = \"text-align: right;\">-60.0001</td><td style = \"font-style: italic; text-align: right;\">missing</td><td style = \"font-style: italic; text-align: right;\">missing</td></tr><tr><td class = \"rowNumber\" style = \"font-weight: bold; text-align: right;\">2387</td><td style = \"text-align: left;\">p22udt641lv</td><td style = \"text-align: right;\">0.120521</td><td style = \"text-align: right;\">-120.21</td><td style = \"text-align: right;\">0.120565</td><td style = \"text-align: right;\">59.8928</td><td style = \"font-style: italic; text-align: right;\">missing</td><td style = \"font-style: italic; text-align: right;\">missing</td></tr><tr><td class = \"rowNumber\" style = \"font-weight: bold; text-align: right;\">2388</td><td style = \"text-align: left;\">p22udm4984</td><td style = \"text-align: right;\">0.120899</td><td style = \"text-align: right;\">-0.267522</td><td style = \"text-align: right;\">0.120948</td><td style = \"text-align: right;\">179.839</td><td style = \"font-style: italic; text-align: right;\">missing</td><td style = \"font-style: italic; text-align: right;\">missing</td></tr><tr><td class = \"rowNumber\" style = \"font-weight: bold; text-align: right;\">2389</td><td style = \"text-align: left;\">p22udm1719</td><td style = \"text-align: right;\">0.121988</td><td style = \"text-align: right;\">120.069</td><td style = \"text-align: right;\">0.122035</td><td style = \"text-align: right;\">-59.8248</td><td style = \"font-style: italic; text-align: right;\">missing</td><td style = \"font-style: italic; text-align: right;\">missing</td></tr><tr><td class = \"rowNumber\" style = \"font-weight: bold; text-align: right;\">2390</td><td style = \"text-align: left;\">p22udt2184-p22udt63x</td><td style = \"text-align: right;\">7.27305</td><td style = \"text-align: right;\">0.143597</td><td style = \"text-align: right;\">7.2549</td><td style = \"text-align: right;\">-119.836</td><td style = \"text-align: right;\">7.26607</td><td style = \"text-align: right;\">120.289</td></tr><tr><td class = \"rowNumber\" style = \"font-weight: bold; text-align: right;\">2391</td><td style = \"text-align: left;\">p22ulv3187</td><td style = \"text-align: right;\">0.120895</td><td style = \"text-align: right;\">-120.097</td><td style = \"text-align: right;\">0.12094</td><td style = \"text-align: right;\">60.0024</td><td style = \"font-style: italic; text-align: right;\">missing</td><td style = \"font-style: italic; text-align: right;\">missing</td></tr><tr><td class = \"rowNumber\" style = \"font-weight: bold; text-align: right;\">2392</td><td style = \"text-align: left;\">p22ulv2762</td><td style = \"text-align: right;\">0.12098</td><td style = \"text-align: right;\">-0.27025</td><td style = \"text-align: right;\">0.121022</td><td style = \"text-align: right;\">179.822</td><td style = \"font-style: italic; text-align: right;\">missing</td><td style = \"font-style: italic; text-align: right;\">missing</td></tr><tr><td class = \"rowNumber\" style = \"font-weight: bold; text-align: right;\">2393</td><td style = \"text-align: left;\">p22udt68-p22udt923x</td><td style = \"text-align: right;\">7.27949</td><td style = \"text-align: right;\">0.123944</td><td style = \"text-align: right;\">7.2636</td><td style = \"text-align: right;\">-119.873</td><td style = \"text-align: right;\">7.27686</td><td style = \"text-align: right;\">120.325</td></tr><tr><td class = \"rowNumber\" style = \"font-weight: bold; text-align: right;\">2394</td><td style = \"text-align: left;\">p22udt364lv</td><td style = \"text-align: right;\">0.122107</td><td style = \"text-align: right;\">120.077</td><td style = \"text-align: right;\">0.122154</td><td style = \"text-align: right;\">-59.8173</td><td style = \"font-style: italic; text-align: right;\">missing</td><td style = \"font-style: italic; text-align: right;\">missing</td></tr><tr><td class = \"rowNumber\" style = \"font-weight: bold; text-align: right;\">2395</td><td style = \"text-align: left;\">p22udt93</td><td style = \"text-align: right;\">7.2341</td><td style = \"text-align: right;\">0.224591</td><td style = \"text-align: right;\">7.23203</td><td style = \"text-align: right;\">-119.743</td><td style = \"text-align: right;\">7.23205</td><td style = \"text-align: right;\">120.277</td></tr><tr><td class = \"rowNumber\" style = \"font-weight: bold; text-align: right;\">2396</td><td style = \"text-align: left;\">p22udt323-p22udt324x</td><td style = \"text-align: right;\">7.30285</td><td style = \"text-align: right;\">0.110724</td><td style = \"font-style: italic; text-align: right;\">missing</td><td style = \"font-style: italic; text-align: right;\">missing</td><td style = \"font-style: italic; text-align: right;\">missing</td><td style = \"font-style: italic; text-align: right;\">missing</td></tr></tbody></table></div>"
      ],
      "text/latex": [
       "\\begin{tabular}{r|ccccccc}\n",
       "\t& Bus & VM\\_1 & VA\\_1 & VM\\_2 & VA\\_2 & VM\\_3 & VA\\_3\\\\\n",
       "\t\\hline\n",
       "\t& String & Float64? & Float64? & Float64? & Float64? & Float64? & Float64?\\\\\n",
       "\t\\hline\n",
       "\t1 & p22udt1217 & 7.42984 & -0.0591169 & 7.35006 & -119.907 & 7.3999 & 120.577 \\\\\n",
       "\t2 & p22ulv4205 & 0.120289 & 119.885 & 0.120333 & -60.0178 & \\emph{missing} & \\emph{missing} \\\\\n",
       "\t3 & p22udt1404lv & 0.277846 & -0.518176 & 0.276209 & -120.396 & 0.276378 & 119.586 \\\\\n",
       "\t4 & p22ulv2812 & 0.121406 & 120.063 & 0.121456 & -59.833 & \\emph{missing} & \\emph{missing} \\\\\n",
       "\t5 & p22ulv554 & 0.122149 & -0.399966 & 0.122197 & 179.708 & \\emph{missing} & \\emph{missing} \\\\\n",
       "\t6 & p22udt1419 & 7.28816 & 120.301 & \\emph{missing} & \\emph{missing} & \\emph{missing} & \\emph{missing} \\\\\n",
       "\t7 & p22ulv3770 & 0.124305 & 120.114 & 0.124337 & -59.8179 & \\emph{missing} & \\emph{missing} \\\\\n",
       "\t8 & p22ulv590 & 0.121902 & -0.399501 & 0.12195 & 179.702 & \\emph{missing} & \\emph{missing} \\\\\n",
       "\t9 & p22udt1739lv & 0.1206 & -120.069 & 0.120631 & 59.9984 & \\emph{missing} & \\emph{missing} \\\\\n",
       "\t10 & p22ulv3743 & 0.121393 & -119.971 & 0.121437 & 60.1255 & \\emph{missing} & \\emph{missing} \\\\\n",
       "\t11 & p22udt51lv & 0.120144 & -0.0374208 & 0.120175 & -179.969 & \\emph{missing} & \\emph{missing} \\\\\n",
       "\t12 & p22ulv6753 & 0.280687 & -0.597086 & 0.278347 & -120.592 & 0.280278 & 119.811 \\\\\n",
       "\t13 & p22udm430 & 0.120455 & -120.223 & 0.120505 & 59.8831 & \\emph{missing} & \\emph{missing} \\\\\n",
       "\t14 & p22ulv2355 & 0.120743 & -0.263069 & 0.120791 & 179.843 & \\emph{missing} & \\emph{missing} \\\\\n",
       "\t15 & p22ulv2922 & 0.122511 & -0.298821 & 0.122546 & 179.782 & \\emph{missing} & \\emph{missing} \\\\\n",
       "\t16 & p22ulv3190 & 0.120769 & -120.143 & 0.120814 & 59.9554 & \\emph{missing} & \\emph{missing} \\\\\n",
       "\t17 & p22ulv3200 & 0.120933 & -120.226 & 0.120969 & 59.854 & \\emph{missing} & \\emph{missing} \\\\\n",
       "\t18 & p22udt1189 & 7.43449 & -0.0294725 & 7.32323 & -119.721 & 7.3621 & 120.348 \\\\\n",
       "\t19 & p22ulv2895 & 0.121739 & -0.399809 & 0.121789 & 179.708 & \\emph{missing} & \\emph{missing} \\\\\n",
       "\t20 & p22udt364 & 7.37746 & -0.0720311 & 7.31553 & -119.905 & 7.34902 & 120.464 \\\\\n",
       "\t21 & p22ulv4222 & 0.120207 & 119.81 & 0.120258 & -60.0777 & \\emph{missing} & \\emph{missing} \\\\\n",
       "\t22 & p22udt2183-p22udt62x & 7.27167 & 0.147167 & 7.25387 & -119.831 & 7.26434 & 120.286 \\\\\n",
       "\t23 & p22udt1721lv & 0.120466 & -120.219 & 0.120527 & 59.8888 & \\emph{missing} & \\emph{missing} \\\\\n",
       "\t24 & p22udt1196-p22udt333xx & 7.42982 & -0.145057 & 7.36925 & -119.853 & 7.39183 & 120.65 \\\\\n",
       "\t25 & p22ulv2876 & 0.121247 & -0.275119 & 0.121294 & 179.831 & \\emph{missing} & \\emph{missing} \\\\\n",
       "\t26 & p22udt111 & 7.34962 & 0.0440242 & 7.2756 & -119.743 & 7.295 & 120.26 \\\\\n",
       "\t27 & p22udt95 & 7.23169 & 0.226809 & 7.23309 & -119.744 & 7.23219 & 120.294 \\\\\n",
       "\t28 & p22ulv471 & 0.123169 & 119.925 & 0.123218 & -59.9704 & \\emph{missing} & \\emph{missing} \\\\\n",
       "\t29 & p22udt372lv & 0.121592 & 119.885 & 0.121641 & -60.0049 & \\emph{missing} & \\emph{missing} \\\\\n",
       "\t30 & p22ulv6735 & 0.277261 & -0.552384 & 0.276553 & -120.535 & 0.276984 & 119.593 \\\\\n",
       "\t$\\dots$ & $\\dots$ & $\\dots$ & $\\dots$ & $\\dots$ & $\\dots$ & $\\dots$ & $\\dots$ \\\\\n",
       "\\end{tabular}\n"
      ],
      "text/plain": [
       "\u001b[1m2396×7 DataFrame\u001b[0m\n",
       "\u001b[1m  Row \u001b[0m│\u001b[1m Bus                  \u001b[0m\u001b[1m VM_1     \u001b[0m\u001b[1m VA_1         \u001b[0m\u001b[1m VM_2           \u001b[0m\u001b[1m VA_2    \u001b[0m ⋯\n",
       "      │\u001b[90m String               \u001b[0m\u001b[90m Float64? \u001b[0m\u001b[90m Float64?     \u001b[0m\u001b[90m Float64?       \u001b[0m\u001b[90m Float64?\u001b[0m ⋯\n",
       "──────┼─────────────────────────────────────────────────────────────────────────\n",
       "    1 │ p22udt1217            7.42984     -0.0591169        7.35006      -119. ⋯\n",
       "    2 │ p22ulv4205            0.120289   119.885            0.120333      -60.\n",
       "    3 │ p22udt1404lv          0.277846    -0.518176         0.276209     -120.\n",
       "    4 │ p22ulv2812            0.121406   120.063            0.121456      -59.\n",
       "    5 │ p22ulv554             0.122149    -0.399966         0.122197      179. ⋯\n",
       "    6 │ p22udt1419            7.28816    120.301     \u001b[90m missing        \u001b[0m\u001b[90m missing \u001b[0m\n",
       "    7 │ p22ulv3770            0.124305   120.114            0.124337      -59.\n",
       "    8 │ p22ulv590             0.121902    -0.399501         0.12195       179.\n",
       "    9 │ p22udt1739lv          0.1206    -120.069            0.120631       59. ⋯\n",
       "   10 │ p22ulv3743            0.121393  -119.971            0.121437       60.\n",
       "   11 │ p22udt51lv            0.120144    -0.0374208        0.120175     -179.\n",
       "  ⋮   │          ⋮               ⋮           ⋮              ⋮              ⋮   ⋱\n",
       " 2387 │ p22udt641lv           0.120521  -120.21             0.120565       59.\n",
       " 2388 │ p22udm4984            0.120899    -0.267522         0.120948      179. ⋯\n",
       " 2389 │ p22udm1719            0.121988   120.069            0.122035      -59.\n",
       " 2390 │ p22udt2184-p22udt63x  7.27305      0.143597         7.2549       -119.\n",
       " 2391 │ p22ulv3187            0.120895  -120.097            0.12094        60.\n",
       " 2392 │ p22ulv2762            0.12098     -0.27025          0.121022      179. ⋯\n",
       " 2393 │ p22udt68-p22udt923x   7.27949      0.123944         7.2636       -119.\n",
       " 2394 │ p22udt364lv           0.122107   120.077            0.122154      -59.\n",
       " 2395 │ p22udt93              7.2341       0.224591         7.23203      -119.\n",
       " 2396 │ p22udt323-p22udt324x  7.30285      0.110724  \u001b[90m missing        \u001b[0m\u001b[90m missing \u001b[0m ⋯\n",
       "\u001b[36m                                                 3 columns and 2375 rows omitted\u001b[0m"
      ]
     },
     "execution_count": 137,
     "metadata": {},
     "output_type": "execute_result"
    }
   ],
   "source": [
    "df = process_bus_data(result, joinpath(results_directory, \"results.csv\"))"
   ]
  }
 ],
 "metadata": {
  "kernelspec": {
   "display_name": "Julia 1.11.0",
   "language": "julia",
   "name": "julia-1.11"
  },
  "language_info": {
   "file_extension": ".jl",
   "mimetype": "application/julia",
   "name": "julia",
   "version": "1.11.0"
  }
 },
 "nbformat": 4,
 "nbformat_minor": 2
}
