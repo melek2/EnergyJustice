{
 "cells": [
  {
   "cell_type": "code",
   "execution_count": 1,
   "metadata": {},
   "outputs": [
    {
     "name": "stderr",
     "output_type": "stream",
     "text": [
      "/opt/anaconda3/envs/EJ_DER_v01/lib/python3.9/site-packages/pyproj/__init__.py:89: UserWarning: pyproj unable to set database path.\n",
      "  _pyproj_global_context_initialize()\n"
     ]
    }
   ],
   "source": [
    "import pandas as pd\n",
    "import numpy as np\n",
    "import sys\n",
    "import geopandas as gpd\n",
    "from shapely.geometry import Point\n",
    "from tqdm import tqdm"
   ]
  },
  {
   "cell_type": "code",
   "execution_count": 2,
   "metadata": {},
   "outputs": [],
   "source": [
    "CATS_buses = pd.read_csv('/Users/melek/Documents/Data/Synthetic Grids/CATS-CaliforniaTestSystem/GIS/CATS_buses.csv')\n",
    "CATS_gens = pd.read_csv('/Users/melek/Documents/Data/Synthetic Grids/CATS-CaliforniaTestSystem/GIS/CATS_gens.csv')"
   ]
  },
  {
   "cell_type": "code",
   "execution_count": 3,
   "metadata": {},
   "outputs": [],
   "source": [
    "sys.path.append('/Users/melek/Documents/GitHub/EnergyJustice')\n",
    "from Functions.Coordinates2CensusTract import Coordinates2CensusTract"
   ]
  },
  {
   "cell_type": "code",
   "execution_count": 4,
   "metadata": {},
   "outputs": [],
   "source": [
    "CATS_buses_CT = pd.DataFrame(index=CATS_buses.index,\n",
    "                       columns=['bus_i',\n",
    "                                'Census Tract',\n",
    "                                'Lat',\n",
    "                                'Lon'])"
   ]
  },
  {
   "cell_type": "code",
   "execution_count": 5,
   "metadata": {},
   "outputs": [
    {
     "name": "stderr",
     "output_type": "stream",
     "text": [
      "Processing Buses:  21%|██▏       | 1897/8870 [5:02:36<7:08:21,  3.69s/it]   "
     ]
    },
    {
     "name": "stdout",
     "output_type": "stream",
     "text": [
      "No census tract found for bus: 1897\n"
     ]
    },
    {
     "name": "stderr",
     "output_type": "stream",
     "text": [
      "Processing Buses:  21%|██▏       | 1898/8870 [5:02:40<7:07:43,  3.68s/it]"
     ]
    },
    {
     "name": "stdout",
     "output_type": "stream",
     "text": [
      "No census tract found for bus: 1898\n"
     ]
    },
    {
     "name": "stderr",
     "output_type": "stream",
     "text": [
      "Processing Buses:  27%|██▋       | 2408/8870 [5:48:46<6:23:25,  3.56s/it]   "
     ]
    },
    {
     "name": "stdout",
     "output_type": "stream",
     "text": [
      "No census tract found for bus: 2408\n"
     ]
    },
    {
     "name": "stderr",
     "output_type": "stream",
     "text": [
      "Processing Buses:  31%|███       | 2740/8870 [6:08:30<6:05:36,  3.58s/it]"
     ]
    },
    {
     "name": "stdout",
     "output_type": "stream",
     "text": [
      "No census tract found for bus: 2740\n"
     ]
    },
    {
     "name": "stderr",
     "output_type": "stream",
     "text": [
      "Processing Buses:  31%|███       | 2756/8870 [6:09:27<6:01:04,  3.54s/it]"
     ]
    },
    {
     "name": "stdout",
     "output_type": "stream",
     "text": [
      "No census tract found for bus: 2756\n"
     ]
    },
    {
     "name": "stderr",
     "output_type": "stream",
     "text": [
      "Processing Buses:  31%|███       | 2758/8870 [6:09:34<5:59:35,  3.53s/it]"
     ]
    },
    {
     "name": "stdout",
     "output_type": "stream",
     "text": [
      "No census tract found for bus: 2758\n"
     ]
    },
    {
     "name": "stderr",
     "output_type": "stream",
     "text": [
      "Processing Buses:  31%|███       | 2759/8870 [6:09:38<5:58:03,  3.52s/it]"
     ]
    },
    {
     "name": "stdout",
     "output_type": "stream",
     "text": [
      "No census tract found for bus: 2759\n"
     ]
    },
    {
     "name": "stderr",
     "output_type": "stream",
     "text": [
      "Processing Buses:  31%|███       | 2760/8870 [6:09:42<5:59:16,  3.53s/it]"
     ]
    },
    {
     "name": "stdout",
     "output_type": "stream",
     "text": [
      "No census tract found for bus: 2760\n"
     ]
    },
    {
     "name": "stderr",
     "output_type": "stream",
     "text": [
      "Processing Buses:  31%|███▏      | 2776/8870 [6:10:39<6:08:04,  3.62s/it]"
     ]
    },
    {
     "name": "stdout",
     "output_type": "stream",
     "text": [
      "No census tract found for bus: 2776\n"
     ]
    },
    {
     "name": "stderr",
     "output_type": "stream",
     "text": [
      "Processing Buses:  53%|█████▎    | 4707/8870 [10:56:09<4:08:14,  3.58s/it]   "
     ]
    },
    {
     "name": "stdout",
     "output_type": "stream",
     "text": [
      "No census tract found for bus: 4707\n"
     ]
    },
    {
     "name": "stderr",
     "output_type": "stream",
     "text": [
      "Processing Buses:  76%|███████▌  | 6761/8870 [14:38:15<2:12:54,  3.78s/it]   "
     ]
    },
    {
     "name": "stdout",
     "output_type": "stream",
     "text": [
      "No census tract found for bus: 6761\n"
     ]
    },
    {
     "name": "stderr",
     "output_type": "stream",
     "text": [
      "Processing Buses:  76%|███████▋  | 6774/8870 [14:39:02<2:07:52,  3.66s/it]"
     ]
    },
    {
     "name": "stdout",
     "output_type": "stream",
     "text": [
      "No census tract found for bus: 6774\n"
     ]
    },
    {
     "name": "stderr",
     "output_type": "stream",
     "text": [
      "Processing Buses:  76%|███████▋  | 6775/8870 [14:39:06<2:09:01,  3.70s/it]"
     ]
    },
    {
     "name": "stdout",
     "output_type": "stream",
     "text": [
      "No census tract found for bus: 6775\n"
     ]
    },
    {
     "name": "stderr",
     "output_type": "stream",
     "text": [
      "Processing Buses:  76%|███████▋  | 6780/8870 [14:39:25<2:09:40,  3.72s/it]"
     ]
    },
    {
     "name": "stdout",
     "output_type": "stream",
     "text": [
      "No census tract found for bus: 6780\n"
     ]
    },
    {
     "name": "stderr",
     "output_type": "stream",
     "text": [
      "Processing Buses:  79%|███████▉  | 6994/8870 [14:52:54<1:57:49,  3.77s/it]"
     ]
    },
    {
     "name": "stdout",
     "output_type": "stream",
     "text": [
      "No census tract found for bus: 6994\n"
     ]
    },
    {
     "name": "stderr",
     "output_type": "stream",
     "text": [
      "Processing Buses:  79%|███████▉  | 6996/8870 [14:53:02<1:57:04,  3.75s/it]"
     ]
    },
    {
     "name": "stdout",
     "output_type": "stream",
     "text": [
      "No census tract found for bus: 6996\n"
     ]
    },
    {
     "name": "stderr",
     "output_type": "stream",
     "text": [
      "Processing Buses:  85%|████████▌ | 7562/8870 [15:39:06<1:27:33,  4.02s/it]  "
     ]
    },
    {
     "name": "stdout",
     "output_type": "stream",
     "text": [
      "No census tract found for bus: 7562\n"
     ]
    },
    {
     "name": "stderr",
     "output_type": "stream",
     "text": [
      "Processing Buses:  85%|████████▌ | 7583/8870 [15:40:26<1:24:26,  3.94s/it]"
     ]
    },
    {
     "name": "stdout",
     "output_type": "stream",
     "text": [
      "No census tract found for bus: 7583\n"
     ]
    },
    {
     "name": "stderr",
     "output_type": "stream",
     "text": [
      "Processing Buses:  86%|████████▌ | 7604/8870 [15:43:13<3:01:32,  8.60s/it]"
     ]
    },
    {
     "name": "stdout",
     "output_type": "stream",
     "text": [
      "No census tract found for bus: 7604\n"
     ]
    },
    {
     "name": "stderr",
     "output_type": "stream",
     "text": [
      "Processing Buses:  86%|████████▌ | 7610/8870 [15:43:48<2:04:49,  5.94s/it]"
     ]
    },
    {
     "name": "stdout",
     "output_type": "stream",
     "text": [
      "No census tract found for bus: 7610\n"
     ]
    },
    {
     "name": "stderr",
     "output_type": "stream",
     "text": [
      "Processing Buses:  91%|█████████ | 8031/8870 [16:11:26<52:41,  3.77s/it]  "
     ]
    },
    {
     "name": "stdout",
     "output_type": "stream",
     "text": [
      "No census tract found for bus: 8031\n"
     ]
    },
    {
     "name": "stderr",
     "output_type": "stream",
     "text": [
      "Processing Buses:  96%|█████████▌| 8522/8870 [16:49:36<22:47,  3.93s/it]  "
     ]
    },
    {
     "name": "stdout",
     "output_type": "stream",
     "text": [
      "No census tract found for bus: 8522\n"
     ]
    },
    {
     "name": "stderr",
     "output_type": "stream",
     "text": [
      "Processing Buses:  96%|█████████▌| 8523/8870 [16:49:40<22:39,  3.92s/it]"
     ]
    },
    {
     "name": "stdout",
     "output_type": "stream",
     "text": [
      "No census tract found for bus: 8523\n"
     ]
    },
    {
     "name": "stderr",
     "output_type": "stream",
     "text": [
      "Processing Buses:  97%|█████████▋| 8603/8870 [16:54:49<17:45,  3.99s/it]"
     ]
    },
    {
     "name": "stdout",
     "output_type": "stream",
     "text": [
      "No census tract found for bus: 8603\n"
     ]
    },
    {
     "name": "stderr",
     "output_type": "stream",
     "text": [
      "Processing Buses:  97%|█████████▋| 8604/8870 [16:54:53<17:32,  3.96s/it]"
     ]
    },
    {
     "name": "stdout",
     "output_type": "stream",
     "text": [
      "No census tract found for bus: 8604\n"
     ]
    },
    {
     "name": "stderr",
     "output_type": "stream",
     "text": [
      "Processing Buses: 100%|██████████| 8870/8870 [17:12:14<00:00,  6.98s/it]"
     ]
    },
    {
     "name": "stdout",
     "output_type": "stream",
     "text": [
      "Saved the DataFrame to CATS_buses_CT.csv\n"
     ]
    },
    {
     "name": "stderr",
     "output_type": "stream",
     "text": [
      "\n"
     ]
    }
   ],
   "source": [
    "from tqdm import tqdm\n",
    "\n",
    "# Loop through each bus with a progress bar\n",
    "for bus in tqdm(range(len(CATS_buses)), desc=\"Processing Buses\"):\n",
    "    # Get coordinates for the current bus\n",
    "    x = Coordinates2CensusTract(\n",
    "        longitude=CATS_buses['Lon'][bus],\n",
    "        latitude=CATS_buses['Lat'][bus]\n",
    "    )\n",
    "    \n",
    "    # Check if exactly one census tract is found\n",
    "    if len(x['TRACTCE']) == 1:\n",
    "        # Update the CATS_buses_CT DataFrame for the current bus\n",
    "        CATS_buses_CT.loc[bus, ['bus_i', 'Census Tract', 'Lat', 'Lon']] = [\n",
    "            CATS_buses['bus_i'][bus],\n",
    "            int(x['TRACTCE'].iloc[0]),\n",
    "            CATS_buses['Lat'][bus],\n",
    "            CATS_buses['Lon'][bus]\n",
    "        ]\n",
    "    else:\n",
    "        # Print a warning message if no census tract is found\n",
    "        print('No census tract found for bus:', CATS_buses['bus_i'][bus])\n",
    "\n",
    "# Save the updated DataFrame to a CSV file\n",
    "output_file = \"CATS_buses_CT.csv\"\n",
    "CATS_buses_CT.to_csv(output_file, index=True)\n",
    "print(f\"Saved the DataFrame to {output_file}\")"
   ]
  },
  {
   "cell_type": "code",
   "execution_count": 6,
   "metadata": {},
   "outputs": [
    {
     "name": "stderr",
     "output_type": "stream",
     "text": [
      "Processing Buses:  55%|█████▍    | 2125/3892 [2:16:33<1:49:11,  3.71s/it]"
     ]
    },
    {
     "name": "stdout",
     "output_type": "stream",
     "text": [
      "No census tract found for bus: 8191\n"
     ]
    },
    {
     "name": "stderr",
     "output_type": "stream",
     "text": [
      "Processing Buses:  55%|█████▍    | 2128/3892 [2:16:44<1:49:08,  3.71s/it]"
     ]
    },
    {
     "name": "stdout",
     "output_type": "stream",
     "text": [
      "No census tract found for bus: 2740\n"
     ]
    },
    {
     "name": "stderr",
     "output_type": "stream",
     "text": [
      "Processing Buses:  55%|█████▍    | 2129/3892 [2:16:48<1:49:22,  3.72s/it]"
     ]
    },
    {
     "name": "stdout",
     "output_type": "stream",
     "text": [
      "No census tract found for bus: 2756\n"
     ]
    },
    {
     "name": "stderr",
     "output_type": "stream",
     "text": [
      "Processing Buses:  55%|█████▍    | 2130/3892 [2:16:52<1:48:59,  3.71s/it]"
     ]
    },
    {
     "name": "stdout",
     "output_type": "stream",
     "text": [
      "No census tract found for bus: 2758\n"
     ]
    },
    {
     "name": "stderr",
     "output_type": "stream",
     "text": [
      "Processing Buses:  55%|█████▍    | 2131/3892 [2:16:55<1:49:07,  3.72s/it]"
     ]
    },
    {
     "name": "stdout",
     "output_type": "stream",
     "text": [
      "No census tract found for bus: 2760\n"
     ]
    },
    {
     "name": "stderr",
     "output_type": "stream",
     "text": [
      "Processing Buses:  55%|█████▍    | 2132/3892 [2:16:59<1:49:16,  3.73s/it]"
     ]
    },
    {
     "name": "stdout",
     "output_type": "stream",
     "text": [
      "No census tract found for bus: 2776\n"
     ]
    },
    {
     "name": "stderr",
     "output_type": "stream",
     "text": [
      "Processing Buses:  55%|█████▍    | 2133/3892 [2:17:03<1:50:44,  3.78s/it]"
     ]
    },
    {
     "name": "stdout",
     "output_type": "stream",
     "text": [
      "No census tract found for bus: 4707\n"
     ]
    },
    {
     "name": "stderr",
     "output_type": "stream",
     "text": [
      "Processing Buses:  55%|█████▍    | 2134/3892 [2:17:07<1:50:28,  3.77s/it]"
     ]
    },
    {
     "name": "stdout",
     "output_type": "stream",
     "text": [
      "No census tract found for bus: 8031\n"
     ]
    },
    {
     "name": "stderr",
     "output_type": "stream",
     "text": [
      "Processing Buses:  55%|█████▍    | 2138/3892 [2:17:22<1:49:11,  3.74s/it]"
     ]
    },
    {
     "name": "stdout",
     "output_type": "stream",
     "text": [
      "No census tract found for bus: 6690\n"
     ]
    },
    {
     "name": "stderr",
     "output_type": "stream",
     "text": [
      "Processing Buses:  55%|█████▍    | 2139/3892 [2:17:25<1:49:10,  3.74s/it]"
     ]
    },
    {
     "name": "stdout",
     "output_type": "stream",
     "text": [
      "No census tract found for bus: 6761\n"
     ]
    },
    {
     "name": "stderr",
     "output_type": "stream",
     "text": [
      "Processing Buses:  55%|█████▍    | 2140/3892 [2:17:29<1:48:51,  3.73s/it]"
     ]
    },
    {
     "name": "stdout",
     "output_type": "stream",
     "text": [
      "No census tract found for bus: 6774\n"
     ]
    },
    {
     "name": "stderr",
     "output_type": "stream",
     "text": [
      "Processing Buses:  55%|█████▌    | 2141/3892 [2:17:33<1:49:02,  3.74s/it]"
     ]
    },
    {
     "name": "stdout",
     "output_type": "stream",
     "text": [
      "No census tract found for bus: 6775\n"
     ]
    },
    {
     "name": "stderr",
     "output_type": "stream",
     "text": [
      "Processing Buses:  55%|█████▌    | 2142/3892 [2:17:37<1:49:13,  3.75s/it]"
     ]
    },
    {
     "name": "stdout",
     "output_type": "stream",
     "text": [
      "No census tract found for bus: 6780\n"
     ]
    },
    {
     "name": "stderr",
     "output_type": "stream",
     "text": [
      "Processing Buses:  55%|█████▌    | 2143/3892 [2:17:40<1:48:46,  3.73s/it]"
     ]
    },
    {
     "name": "stdout",
     "output_type": "stream",
     "text": [
      "No census tract found for bus: 6996\n"
     ]
    },
    {
     "name": "stderr",
     "output_type": "stream",
     "text": [
      "Processing Buses:  55%|█████▌    | 2144/3892 [2:17:44<1:48:48,  3.73s/it]"
     ]
    },
    {
     "name": "stdout",
     "output_type": "stream",
     "text": [
      "No census tract found for bus: 7562\n"
     ]
    },
    {
     "name": "stderr",
     "output_type": "stream",
     "text": [
      "Processing Buses:  55%|█████▌    | 2145/3892 [2:17:48<1:48:40,  3.73s/it]"
     ]
    },
    {
     "name": "stdout",
     "output_type": "stream",
     "text": [
      "No census tract found for bus: 7583\n"
     ]
    },
    {
     "name": "stderr",
     "output_type": "stream",
     "text": [
      "Processing Buses:  55%|█████▌    | 2146/3892 [2:17:51<1:48:42,  3.74s/it]"
     ]
    },
    {
     "name": "stdout",
     "output_type": "stream",
     "text": [
      "No census tract found for bus: 7604\n"
     ]
    },
    {
     "name": "stderr",
     "output_type": "stream",
     "text": [
      "Processing Buses:  55%|█████▌    | 2148/3892 [2:17:59<1:49:26,  3.77s/it]"
     ]
    },
    {
     "name": "stdout",
     "output_type": "stream",
     "text": [
      "No census tract found for bus: 1898\n"
     ]
    },
    {
     "name": "stderr",
     "output_type": "stream",
     "text": [
      "Processing Buses:  70%|██████▉   | 2706/3892 [2:52:39<1:13:19,  3.71s/it]"
     ]
    },
    {
     "name": "stdout",
     "output_type": "stream",
     "text": [
      "No census tract found for bus: 1898\n"
     ]
    },
    {
     "name": "stderr",
     "output_type": "stream",
     "text": [
      "Processing Buses:  81%|████████▏ | 3165/3892 [3:20:56<40:57,  3.38s/it]   "
     ]
    },
    {
     "name": "stdout",
     "output_type": "stream",
     "text": [
      "No census tract found for bus: 4707\n"
     ]
    },
    {
     "name": "stderr",
     "output_type": "stream",
     "text": [
      "Processing Buses:  86%|████████▌ | 3356/3892 [3:31:28<29:20,  3.28s/it]"
     ]
    },
    {
     "name": "stdout",
     "output_type": "stream",
     "text": [
      "No census tract found for bus: 6761\n"
     ]
    },
    {
     "name": "stderr",
     "output_type": "stream",
     "text": [
      "Processing Buses:  87%|████████▋ | 3385/3892 [3:33:02<27:32,  3.26s/it]"
     ]
    },
    {
     "name": "stdout",
     "output_type": "stream",
     "text": [
      "No census tract found for bus: 6994\n"
     ]
    },
    {
     "name": "stderr",
     "output_type": "stream",
     "text": [
      "Processing Buses:  92%|█████████▏| 3595/3892 [3:44:51<16:07,  3.26s/it]"
     ]
    },
    {
     "name": "stdout",
     "output_type": "stream",
     "text": [
      "No census tract found for bus: 8031\n"
     ]
    },
    {
     "name": "stderr",
     "output_type": "stream",
     "text": [
      "Processing Buses:  97%|█████████▋| 3757/3892 [3:53:49<07:11,  3.20s/it]"
     ]
    },
    {
     "name": "stdout",
     "output_type": "stream",
     "text": [
      "No census tract found for bus: 8522\n"
     ]
    },
    {
     "name": "stderr",
     "output_type": "stream",
     "text": [
      "Processing Buses:  97%|█████████▋| 3758/3892 [3:53:52<07:10,  3.21s/it]"
     ]
    },
    {
     "name": "stdout",
     "output_type": "stream",
     "text": [
      "No census tract found for bus: 8523\n"
     ]
    },
    {
     "name": "stderr",
     "output_type": "stream",
     "text": [
      "Processing Buses:  97%|█████████▋| 3783/3892 [4:02:57<06:09,  3.39s/it]   "
     ]
    },
    {
     "name": "stdout",
     "output_type": "stream",
     "text": [
      "No census tract found for bus: 8603\n"
     ]
    },
    {
     "name": "stderr",
     "output_type": "stream",
     "text": [
      "Processing Buses:  97%|█████████▋| 3784/3892 [4:03:00<06:01,  3.34s/it]"
     ]
    },
    {
     "name": "stdout",
     "output_type": "stream",
     "text": [
      "No census tract found for bus: 8604\n"
     ]
    },
    {
     "name": "stderr",
     "output_type": "stream",
     "text": [
      "Processing Buses: 100%|██████████| 3892/3892 [4:19:32<00:00,  4.00s/it]"
     ]
    },
    {
     "name": "stdout",
     "output_type": "stream",
     "text": [
      "Saved the DataFrame to CATS_gens_CT.csv\n"
     ]
    },
    {
     "name": "stderr",
     "output_type": "stream",
     "text": [
      "\n"
     ]
    }
   ],
   "source": [
    "CATS_gens_CT = pd.DataFrame(index=CATS_gens.index,\n",
    "                       columns=['bus',\n",
    "                                'PlantCode',\n",
    "                                'GenID',\n",
    "                                'Census Tract',\n",
    "                                'Lat',\n",
    "                                'Lon'])\n",
    "\n",
    "# Loop through each bus with a progress bar\n",
    "for bus in tqdm(range(len(CATS_gens)), desc=\"Processing Buses\"):\n",
    "    # Get coordinates for the current bus\n",
    "    x = Coordinates2CensusTract(\n",
    "        longitude=CATS_gens['Lon'][bus],\n",
    "        latitude=CATS_gens['Lat'][bus]\n",
    "    )\n",
    "    \n",
    "    # Check if exactly one census tract is found\n",
    "    if len(x['TRACTCE']) == 1:\n",
    "        # Update the CATS_buses_CT DataFrame for the current bus\n",
    "        CATS_gens_CT.loc[bus, ['bus',\n",
    "                                'PlantCode',\n",
    "                                'GenID',\n",
    "                                'Census Tract',\n",
    "                                'Lat',\n",
    "                                'Lon']] = [\n",
    "            CATS_gens['bus'][bus],\n",
    "            CATS_gens['PlantCode'][bus],\n",
    "            CATS_gens['GenID'][bus],\n",
    "            int(x['TRACTCE'].iloc[0]),\n",
    "            CATS_gens['Lat'][bus],\n",
    "            CATS_gens['Lon'][bus]\n",
    "        ]\n",
    "    else:\n",
    "        # Print a warning message if no census tract is found\n",
    "        print('No census tract found for bus:', CATS_gens['bus'][bus])\n",
    "\n",
    "# Save the updated DataFrame to a CSV file\n",
    "output_file = \"CATS_gens_CT.csv\"\n",
    "CATS_gens_CT.to_csv(output_file, index=True)\n",
    "print(f\"Saved the DataFrame to {output_file}\")"
   ]
  },
  {
   "cell_type": "code",
   "execution_count": null,
   "metadata": {},
   "outputs": [],
   "source": []
  }
 ],
 "metadata": {
  "kernelspec": {
   "display_name": "EJ_DER_v01",
   "language": "python",
   "name": "python3"
  },
  "language_info": {
   "codemirror_mode": {
    "name": "ipython",
    "version": 3
   },
   "file_extension": ".py",
   "mimetype": "text/x-python",
   "name": "python",
   "nbconvert_exporter": "python",
   "pygments_lexer": "ipython3",
   "version": "3.9.18"
  }
 },
 "nbformat": 4,
 "nbformat_minor": 2
}
