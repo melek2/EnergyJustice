{
 "cells": [
  {
   "cell_type": "markdown",
   "metadata": {},
   "source": [
    "# Coordinate to Census Tract"
   ]
  },
  {
   "cell_type": "markdown",
   "metadata": {},
   "source": [
    "see `CATS_Tracts_Mapping.ipnyb` for an example of converting mass coordinates to census tracts"
   ]
  },
  {
   "cell_type": "markdown",
   "metadata": {},
   "source": [
    "# California Census Tracts EJ Metrics"
   ]
  },
  {
   "cell_type": "markdown",
   "metadata": {},
   "source": [
    "code should develop a pipeline that takes a list of census tracts and returns \\\n",
    "- a dataframe that has all the data relevant to provided dataframes\n",
    "    - this may include multiple sources (e.g. EJScreen, LEAD, CalEnviron, etc.)\n",
    "- a dataframe with definitions of each coloumn"
   ]
  },
  {
   "cell_type": "code",
   "execution_count": 4,
   "metadata": {},
   "outputs": [],
   "source": [
    "import pandas as pd\n",
    "import numpy as np\n"
   ]
  },
  {
   "cell_type": "code",
   "execution_count": null,
   "metadata": {},
   "outputs": [],
   "source": [
    "def extract_data(df, Metadata_File):\n",
    "    import os\n",
    "    import pandas as pd\n",
    "\n",
    "    # Check if the metadata file exists\n",
    "    if not os.path.exists(Metadata_File):\n",
    "        raise FileNotFoundError(f\"Error: The file {Metadata_File} does not exist.\")\n",
    "    \n",
    "    # Read the metadata file\n",
    "    df_MD = pd.read_csv(Metadata_File)\n",
    "    \n",
    "    # Check if the necessary column exists in the metadata DataFrame\n",
    "    \n",
    "    if 'Keep' not in df_MD.columns:\n",
    "        print(f\"Warning: Missing `keep` column in the metadata file ({Metadata_File}). All columns were kept\")\n",
    "        df_MD['Keep'] = 1  # Create 'Keep' column and set all entries to 1\n",
    "    if 'Column' not in df_MD.columns:\n",
    "        print(f\"Warning: Missing `Column` column in the metadata file ({Metadata_File}). All columns were kept\")\n",
    "        df_MD['Column'] = df.columns\n",
    "        df_MD['Keep'] = 1  # Create 'Keep' column and set all entries to 1\n",
    "\n",
    "    # Get columns to keep based on the 'Keep' column\n",
    "    df_col_kept = df_MD[df_MD['Keep'] == 1]['Column']\n",
    "    \n",
    "    # Check if all columns to keep exist in the input DataFrame\n",
    "    missing_columns = [col for col in df_col_kept if col not in df.columns]\n",
    "    if missing_columns:\n",
    "        raise ValueError(f\"Error: The following columns are missing from the data frame: {', '.join(missing_columns)}\")\n",
    "    \n",
    "    # Extract the data based on the 'Column' values from the metadata\n",
    "    new_data = df[df_col_kept]\n",
    "    \n",
    "    return new_data, df_MD"
   ]
  },
  {
   "cell_type": "code",
   "execution_count": 104,
   "metadata": {},
   "outputs": [],
   "source": [
    "def combine_dfs(data_df, new_df,new_df_col_name='CTs',data_df_col_name='Census Tract'):\n",
    "    combined_df = pd.merge(data_df, new_df, left_on=data_df_col_name, right_on=new_df_col_name, how='inner')\n",
    "    combined_df = combined_df.drop('CTs', axis=1)\n",
    "    return combined_df"
   ]
  },
  {
   "cell_type": "code",
   "execution_count": 106,
   "metadata": {},
   "outputs": [],
   "source": [
    "\n",
    "def combine_dfs(data_df, new_df, new_df_col_name='CTs', data_df_col_name='Census Tract'):\n",
    "    import pandas as pd\n",
    "    # Check if the specified columns exist in both DataFrames\n",
    "    if new_df_col_name not in new_df.columns:\n",
    "        raise ValueError(f\"Column '{new_df_col_name}' does not exist in the new DataFrame.\")\n",
    "    \n",
    "    if data_df_col_name not in data_df.columns:\n",
    "        raise ValueError(f\"Column '{data_df_col_name}' does not exist in the data DataFrame.\")\n",
    "    \n",
    "    try:\n",
    "        # Perform the merge operation\n",
    "        combined_df = pd.merge(data_df, new_df, left_on=data_df_col_name, right_on=new_df_col_name, how='inner')\n",
    "        \n",
    "        # Drop the 'CTs' column\n",
    "        combined_df = combined_df.drop(new_df_col_name, axis=1)\n",
    "        \n",
    "        return combined_df\n",
    "    \n",
    "    except Exception as e:\n",
    "        # If any error occurs during the merge, show the error\n",
    "        raise RuntimeError(f\"An error occurred during the merge: {e}\")"
   ]
  },
  {
   "cell_type": "markdown",
   "metadata": {},
   "source": [
    "## Census Tracts ([US Census Bureau](census.gov))"
   ]
  },
  {
   "cell_type": "code",
   "execution_count": 93,
   "metadata": {},
   "outputs": [],
   "source": [
    "USCB_DECENNIALDP2020 = pd.read_csv('/Users/melek/Documents/Data/Census/Cenus.gov/California/DECENNIALDP2020.DP1_2024-12-05T145935/DECENNIALDP2020.DP1-Data.csv',\n",
    "                                   low_memory=False)\n",
    "USCB_DECENNIALDP2020_meta_file = '/Users/melek/Documents/GitHub/EnergyJustice/Data/Metadata/DECENNIALDP2020.DP1-Column-Metadata.csv'"
   ]
  },
  {
   "cell_type": "markdown",
   "metadata": {},
   "source": [
    "### Data Dataframe:"
   ]
  },
  {
   "cell_type": "code",
   "execution_count": 103,
   "metadata": {},
   "outputs": [],
   "source": [
    "Data = pd.DataFrame()\n",
    "Data['Census Tract'] = USCB_DECENNIALDP2020['GEO_ID'][1:len(USCB_DECENNIALDP2020)].str[-11:].astype(int)"
   ]
  },
  {
   "cell_type": "markdown",
   "metadata": {},
   "source": [
    "### Extract data"
   ]
  },
  {
   "cell_type": "code",
   "execution_count": 95,
   "metadata": {},
   "outputs": [],
   "source": [
    "USCB_df, USCB_MD =extract_data(USCB_DECENNIALDP2020,USCB_DECENNIALDP2020_meta_file)"
   ]
  },
  {
   "cell_type": "markdown",
   "metadata": {},
   "source": [
    "### Data cleanup"
   ]
  },
  {
   "cell_type": "code",
   "execution_count": 96,
   "metadata": {},
   "outputs": [],
   "source": [
    "USCB_df = USCB_df.drop(0, axis=0)\n",
    "USCB_df = USCB_df.reset_index(drop=True)\n",
    "USCB_df['CTs'] = USCB_df['GEO_ID'].str[-11:].astype(int)"
   ]
  },
  {
   "cell_type": "markdown",
   "metadata": {},
   "source": [
    "### Update data"
   ]
  },
  {
   "cell_type": "code",
   "execution_count": 109,
   "metadata": {},
   "outputs": [],
   "source": [
    "Data = combine_dfs(Data,USCB_df,new_df_col_name='CTs',data_df_col_name='Census Tract')"
   ]
  },
  {
   "cell_type": "markdown",
   "metadata": {},
   "source": [
    "## EJScreen ([EPA](https://www.epa.gov/ejscreen/download-ejscreen-data))"
   ]
  },
  {
   "cell_type": "code",
   "execution_count": 116,
   "metadata": {},
   "outputs": [],
   "source": [
    "EPA_EJScreen =  pd.read_csv('/Users/melek/Documents/Data/Energy Justice/EJScreen (Environmental Justice Screening and Mapping Tool)/Census Tracts/State Level/EJScreen_2024_Tract_StatePct_with_AS_CNMI_GU_VI.csv',\n",
    "                            low_memory=False)\n",
    "EPA_EJScreen = EPA_EJScreen[EPA_EJScreen['STATE_NAME']=='CALIFORNIA']\n",
    "\n",
    "EPA_EJScreen_meta_file = '/Users/melek/Documents/GitHub/EnergyJustice/Data/Metadata/EJScreen_2024_Tract_State_Percentiles_Columns.csv'"
   ]
  },
  {
   "cell_type": "markdown",
   "metadata": {},
   "source": [
    "### Extract data"
   ]
  },
  {
   "cell_type": "code",
   "execution_count": 119,
   "metadata": {},
   "outputs": [],
   "source": [
    "EJScreen, EJScreen_MD =extract_data(EPA_EJScreen,EPA_EJScreen_meta_file)"
   ]
  },
  {
   "cell_type": "markdown",
   "metadata": {},
   "source": [
    "### Data cleanup"
   ]
  },
  {
   "cell_type": "code",
   "execution_count": 124,
   "metadata": {},
   "outputs": [],
   "source": [
    "EJScreen.loc[:, 'ID'] = EJScreen['ID'].astype(int)\n",
    "EJScreen = EJScreen.reset_index()"
   ]
  },
  {
   "cell_type": "markdown",
   "metadata": {},
   "source": [
    "### Update data"
   ]
  },
  {
   "cell_type": "code",
   "execution_count": 126,
   "metadata": {},
   "outputs": [],
   "source": [
    "Data = combine_dfs(Data,EJScreen,new_df_col_name='ID',data_df_col_name='Census Tract')"
   ]
  },
  {
   "cell_type": "markdown",
   "metadata": {},
   "source": [
    "# CalEnviron4"
   ]
  },
  {
   "cell_type": "markdown",
   "metadata": {},
   "source": [
    "### Extract data"
   ]
  },
  {
   "cell_type": "markdown",
   "metadata": {},
   "source": [
    "### Data cleanup"
   ]
  },
  {
   "cell_type": "code",
   "execution_count": null,
   "metadata": {},
   "outputs": [],
   "source": []
  },
  {
   "cell_type": "markdown",
   "metadata": {},
   "source": [
    "### Update data"
   ]
  }
 ],
 "metadata": {
  "kernelspec": {
   "display_name": "base",
   "language": "python",
   "name": "python3"
  },
  "language_info": {
   "codemirror_mode": {
    "name": "ipython",
    "version": 3
   },
   "file_extension": ".py",
   "mimetype": "text/x-python",
   "name": "python",
   "nbconvert_exporter": "python",
   "pygments_lexer": "ipython3",
   "version": "3.9.18"
  }
 },
 "nbformat": 4,
 "nbformat_minor": 2
}
