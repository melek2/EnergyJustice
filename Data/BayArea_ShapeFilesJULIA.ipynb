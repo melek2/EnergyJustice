{
 "cells": [
  {
   "cell_type": "markdown",
   "metadata": {},
   "source": [
    "This notebook attempts to replicate the work done in [`BayArea_ShapeFiles.ipynb`](https://github.com/melek2/EnergyJustice/blob/main/Data/BayArea_ShapeFiles.ipynb). The work is obviously incomplete (for now)."
   ]
  },
  {
   "cell_type": "markdown",
   "metadata": {},
   "source": [
    "I will probably come back to this notebook to work on it further. The main hurdle I'm encountering is finding a reliable (and fast) package to process the data."
   ]
  },
  {
   "cell_type": "markdown",
   "metadata": {},
   "source": [
    "# Importing dependencies"
   ]
  },
  {
   "cell_type": "code",
   "execution_count": null,
   "metadata": {},
   "outputs": [
    {
     "data": {
      "text/plain": [
       "GeoDataFrames"
      ]
     },
     "metadata": {},
     "output_type": "display_data"
    }
   ],
   "source": [
    "using DataFrames, ArchGDAL, LibGEOS\n",
    "using GeoDataFrames; const GDF=GeoDataFrames\n"
   ]
  },
  {
   "cell_type": "code",
   "execution_count": null,
   "metadata": {},
   "outputs": [],
   "source": [
    "using CSV, DataFrames"
   ]
  },
  {
   "cell_type": "markdown",
   "metadata": {},
   "source": [
    "# Coordinates"
   ]
  },
  {
   "cell_type": "markdown",
   "metadata": {},
   "source": [
    "## Bus Locations"
   ]
  },
  {
   "cell_type": "code",
   "execution_count": null,
   "metadata": {},
   "outputs": [
    {
     "data": {
      "text/html": [
       "<div><div style = \"float: left;\"><span>167789×3 DataFrame</span></div><div style = \"float: right;\"><span style = \"font-style: italic;\">167764 rows omitted</span></div><div style = \"clear: both;\"></div></div><div class = \"data-frame\" style = \"overflow-x: scroll;\"><table class = \"data-frame\" style = \"margin-bottom: 6px;\"><thead><tr class = \"header\"><th class = \"rowNumber\" style = \"font-weight: bold; text-align: right;\">Row</th><th style = \"text-align: left;\">Bus</th><th style = \"text-align: left;\">Longitude</th><th style = \"text-align: left;\">Latitude</th></tr><tr class = \"subheader headerLastRow\"><th class = \"rowNumber\" style = \"font-weight: bold; text-align: right;\"></th><th title = \"String31\" style = \"text-align: left;\">String31</th><th title = \"Float64\" style = \"text-align: left;\">Float64</th><th title = \"Float64\" style = \"text-align: left;\">Float64</th></tr></thead><tbody><tr><td class = \"rowNumber\" style = \"font-weight: bold; text-align: right;\">1</td><td style = \"text-align: left;\">sb2_p22uhs0_1247_node_2_11</td><td style = \"text-align: right;\">-122.369</td><td style = \"text-align: right;\">37.5908</td></tr><tr><td class = \"rowNumber\" style = \"font-weight: bold; text-align: right;\">2</td><td style = \"text-align: left;\">sb2_p22uhs0_1247_node_2_13</td><td style = \"text-align: right;\">-122.37</td><td style = \"text-align: right;\">37.5905</td></tr><tr><td class = \"rowNumber\" style = \"font-weight: bold; text-align: right;\">3</td><td style = \"text-align: left;\">sb2_p22uhs0_1247_node_2_15</td><td style = \"text-align: right;\">-122.37</td><td style = \"text-align: right;\">37.5904</td></tr><tr><td class = \"rowNumber\" style = \"font-weight: bold; text-align: right;\">4</td><td style = \"text-align: left;\">sb2_p22uhs0_1247_node_2_18</td><td style = \"text-align: right;\">-122.369</td><td style = \"text-align: right;\">37.5909</td></tr><tr><td class = \"rowNumber\" style = \"font-weight: bold; text-align: right;\">5</td><td style = \"text-align: left;\">sb2_p22uhs0_1247_node_2_17</td><td style = \"text-align: right;\">-122.369</td><td style = \"text-align: right;\">37.5903</td></tr><tr><td class = \"rowNumber\" style = \"font-weight: bold; text-align: right;\">6</td><td style = \"text-align: left;\">sb2_p22uhs0_1247_node_2_6</td><td style = \"text-align: right;\">-122.37</td><td style = \"text-align: right;\">37.5911</td></tr><tr><td class = \"rowNumber\" style = \"font-weight: bold; text-align: right;\">7</td><td style = \"text-align: left;\">sb2_p22uhs0_1247_node_2_10</td><td style = \"text-align: right;\">-122.369</td><td style = \"text-align: right;\">37.5909</td></tr><tr><td class = \"rowNumber\" style = \"font-weight: bold; text-align: right;\">8</td><td style = \"text-align: left;\">sb2_p22uhs0_1247_node_2_12</td><td style = \"text-align: right;\">-122.37</td><td style = \"text-align: right;\">37.5905</td></tr><tr><td class = \"rowNumber\" style = \"font-weight: bold; text-align: right;\">9</td><td style = \"text-align: left;\">sb2_p22uhs0_1247_node_2_14</td><td style = \"text-align: right;\">-122.369</td><td style = \"text-align: right;\">37.5905</td></tr><tr><td class = \"rowNumber\" style = \"font-weight: bold; text-align: right;\">10</td><td style = \"text-align: left;\">sb2_p22uhs0_1247_node_2_16</td><td style = \"text-align: right;\">-122.37</td><td style = \"text-align: right;\">37.5904</td></tr><tr><td class = \"rowNumber\" style = \"font-weight: bold; text-align: right;\">11</td><td style = \"text-align: left;\">p22uhs0_69</td><td style = \"text-align: right;\">-122.37</td><td style = \"text-align: right;\">37.5913</td></tr><tr><td class = \"rowNumber\" style = \"font-weight: bold; text-align: right;\">12</td><td style = \"text-align: left;\">sb2_p22uhs0_1247_node_2_5</td><td style = \"text-align: right;\">-122.37</td><td style = \"text-align: right;\">37.5912</td></tr><tr><td class = \"rowNumber\" style = \"font-weight: bold; text-align: right;\">13</td><td style = \"text-align: left;\">sb2_p22uhs0_1247_bus_2_6</td><td style = \"text-align: right;\">-122.369</td><td style = \"text-align: right;\">37.5903</td></tr><tr><td style = \"text-align: right;\">&vellip;</td><td style = \"text-align: right;\">&vellip;</td><td style = \"text-align: right;\">&vellip;</td><td style = \"text-align: right;\">&vellip;</td></tr><tr><td class = \"rowNumber\" style = \"font-weight: bold; text-align: right;\">167778</td><td style = \"text-align: left;\">p22uhs13_69-p22uts9_69x</td><td style = \"text-align: right;\">-122.469</td><td style = \"text-align: right;\">37.6484</td></tr><tr><td class = \"rowNumber\" style = \"font-weight: bold; text-align: right;\">167779</td><td style = \"text-align: left;\">p22uhs6_69-p22uts5_69xx</td><td style = \"text-align: right;\">-122.4</td><td style = \"text-align: right;\">37.6611</td></tr><tr><td class = \"rowNumber\" style = \"font-weight: bold; text-align: right;\">167780</td><td style = \"text-align: left;\">p22uhs6_69-p22uts5_69x</td><td style = \"text-align: right;\">-122.392</td><td style = \"text-align: right;\">37.6589</td></tr><tr><td class = \"rowNumber\" style = \"font-weight: bold; text-align: right;\">167781</td><td style = \"text-align: left;\">p22uhs0_69-p22uts4_69xx</td><td style = \"text-align: right;\">-122.373</td><td style = \"text-align: right;\">37.5821</td></tr><tr><td class = \"rowNumber\" style = \"font-weight: bold; text-align: right;\">167782</td><td style = \"text-align: left;\">p22uhs0_69-p22uts4_69x</td><td style = \"text-align: right;\">-122.37</td><td style = \"text-align: right;\">37.5901</td></tr><tr><td class = \"rowNumber\" style = \"font-weight: bold; text-align: right;\">167783</td><td style = \"text-align: left;\">p22uhs11_69-p22uts4_69xx</td><td style = \"text-align: right;\">-122.373</td><td style = \"text-align: right;\">37.5821</td></tr><tr><td class = \"rowNumber\" style = \"font-weight: bold; text-align: right;\">167784</td><td style = \"text-align: left;\">p22uhs11_69-p22uts4_69x</td><td style = \"text-align: right;\">-122.381</td><td style = \"text-align: right;\">37.5887</td></tr><tr><td class = \"rowNumber\" style = \"font-weight: bold; text-align: right;\">167785</td><td style = \"text-align: left;\">p22uhs8_69-p22uts3_69xx</td><td style = \"text-align: right;\">-122.406</td><td style = \"text-align: right;\">37.6139</td></tr><tr><td class = \"rowNumber\" style = \"font-weight: bold; text-align: right;\">167786</td><td style = \"text-align: left;\">p22uhs8_69-p22uts3_69x</td><td style = \"text-align: right;\">-122.417</td><td style = \"text-align: right;\">37.6107</td></tr><tr><td class = \"rowNumber\" style = \"font-weight: bold; text-align: right;\">167787</td><td style = \"text-align: left;\">p22uhs10_69-p22uts3_69xx</td><td style = \"text-align: right;\">-122.406</td><td style = \"text-align: right;\">37.614</td></tr><tr><td class = \"rowNumber\" style = \"font-weight: bold; text-align: right;\">167788</td><td style = \"text-align: left;\">p22uhs10_69-p22uts3_69x</td><td style = \"text-align: right;\">-122.413</td><td style = \"text-align: right;\">37.6158</td></tr><tr><td class = \"rowNumber\" style = \"font-weight: bold; text-align: right;\">167789</td><td style = \"text-align: left;\">st_mat</td><td style = \"text-align: right;\">-122.429</td><td style = \"text-align: right;\">37.7087</td></tr></tbody></table></div>"
      ],
      "text/latex": [
       "\\begin{tabular}{r|ccc}\n",
       "\t& Bus & Longitude & Latitude\\\\\n",
       "\t\\hline\n",
       "\t& String31 & Float64 & Float64\\\\\n",
       "\t\\hline\n",
       "\t1 & sb2\\_p22uhs0\\_1247\\_node\\_2\\_11 & -122.369 & 37.5908 \\\\\n",
       "\t2 & sb2\\_p22uhs0\\_1247\\_node\\_2\\_13 & -122.37 & 37.5905 \\\\\n",
       "\t3 & sb2\\_p22uhs0\\_1247\\_node\\_2\\_15 & -122.37 & 37.5904 \\\\\n",
       "\t4 & sb2\\_p22uhs0\\_1247\\_node\\_2\\_18 & -122.369 & 37.5909 \\\\\n",
       "\t5 & sb2\\_p22uhs0\\_1247\\_node\\_2\\_17 & -122.369 & 37.5903 \\\\\n",
       "\t6 & sb2\\_p22uhs0\\_1247\\_node\\_2\\_6 & -122.37 & 37.5911 \\\\\n",
       "\t7 & sb2\\_p22uhs0\\_1247\\_node\\_2\\_10 & -122.369 & 37.5909 \\\\\n",
       "\t8 & sb2\\_p22uhs0\\_1247\\_node\\_2\\_12 & -122.37 & 37.5905 \\\\\n",
       "\t9 & sb2\\_p22uhs0\\_1247\\_node\\_2\\_14 & -122.369 & 37.5905 \\\\\n",
       "\t10 & sb2\\_p22uhs0\\_1247\\_node\\_2\\_16 & -122.37 & 37.5904 \\\\\n",
       "\t11 & p22uhs0\\_69 & -122.37 & 37.5913 \\\\\n",
       "\t12 & sb2\\_p22uhs0\\_1247\\_node\\_2\\_5 & -122.37 & 37.5912 \\\\\n",
       "\t13 & sb2\\_p22uhs0\\_1247\\_bus\\_2\\_6 & -122.369 & 37.5903 \\\\\n",
       "\t14 & sb2\\_p22uhs0\\_1247\\_bus\\_2\\_2 & -122.37 & 37.5906 \\\\\n",
       "\t15 & sb2\\_p22uhs0\\_1247\\_bus\\_2\\_5 & -122.37 & 37.5903 \\\\\n",
       "\t16 & sb2\\_p22uhs0\\_1247\\_bus\\_2\\_1 & -122.37 & 37.591 \\\\\n",
       "\t17 & sb2\\_p22uhs0\\_1247\\_bus\\_2\\_3 & -122.37 & 37.5904 \\\\\n",
       "\t18 & sb2\\_p22uhs0\\_1247\\_bus\\_2\\_4 & -122.37 & 37.5903 \\\\\n",
       "\t19 & p22udm299 & -122.343 & 37.5862 \\\\\n",
       "\t20 & p22udm300 & -122.343 & 37.5858 \\\\\n",
       "\t21 & p22udm302 & -122.344 & 37.5857 \\\\\n",
       "\t22 & p22udm303 & -122.343 & 37.5861 \\\\\n",
       "\t23 & p22udm313 & -122.342 & 37.583 \\\\\n",
       "\t24 & p22udm314 & -122.343 & 37.5826 \\\\\n",
       "\t25 & p22udm315 & -122.342 & 37.5832 \\\\\n",
       "\t26 & p22udm316 & -122.342 & 37.5831 \\\\\n",
       "\t27 & p22udm318 & -122.342 & 37.5828 \\\\\n",
       "\t28 & p22udm319 & -122.343 & 37.5827 \\\\\n",
       "\t29 & p22udm321 & -122.342 & 37.583 \\\\\n",
       "\t30 & p22udm324 & -122.341 & 37.5867 \\\\\n",
       "\t$\\dots$ & $\\dots$ & $\\dots$ & $\\dots$ \\\\\n",
       "\\end{tabular}\n"
      ],
      "text/plain": [
       "\u001b[1m167789×3 DataFrame\u001b[0m\n",
       "\u001b[1m    Row \u001b[0m│\u001b[1m Bus                        \u001b[0m\u001b[1m Longitude \u001b[0m\u001b[1m Latitude \u001b[0m\n",
       "        │\u001b[90m String31                   \u001b[0m\u001b[90m Float64   \u001b[0m\u001b[90m Float64  \u001b[0m\n",
       "────────┼─────────────────────────────────────────────────\n",
       "      1 │ sb2_p22uhs0_1247_node_2_11   -122.369   37.5908\n",
       "      2 │ sb2_p22uhs0_1247_node_2_13   -122.37    37.5905\n",
       "      3 │ sb2_p22uhs0_1247_node_2_15   -122.37    37.5904\n",
       "      4 │ sb2_p22uhs0_1247_node_2_18   -122.369   37.5909\n",
       "      5 │ sb2_p22uhs0_1247_node_2_17   -122.369   37.5903\n",
       "      6 │ sb2_p22uhs0_1247_node_2_6    -122.37    37.5911\n",
       "      7 │ sb2_p22uhs0_1247_node_2_10   -122.369   37.5909\n",
       "      8 │ sb2_p22uhs0_1247_node_2_12   -122.37    37.5905\n",
       "      9 │ sb2_p22uhs0_1247_node_2_14   -122.369   37.5905\n",
       "     10 │ sb2_p22uhs0_1247_node_2_16   -122.37    37.5904\n",
       "     11 │ p22uhs0_69                   -122.37    37.5913\n",
       "   ⋮    │             ⋮                   ⋮         ⋮\n",
       " 167780 │ p22uhs6_69-p22uts5_69x       -122.392   37.6589\n",
       " 167781 │ p22uhs0_69-p22uts4_69xx      -122.373   37.5821\n",
       " 167782 │ p22uhs0_69-p22uts4_69x       -122.37    37.5901\n",
       " 167783 │ p22uhs11_69-p22uts4_69xx     -122.373   37.5821\n",
       " 167784 │ p22uhs11_69-p22uts4_69x      -122.381   37.5887\n",
       " 167785 │ p22uhs8_69-p22uts3_69xx      -122.406   37.6139\n",
       " 167786 │ p22uhs8_69-p22uts3_69x       -122.417   37.6107\n",
       " 167787 │ p22uhs10_69-p22uts3_69xx     -122.406   37.614\n",
       " 167788 │ p22uhs10_69-p22uts3_69x      -122.413   37.6158\n",
       " 167789 │ st_mat                       -122.429   37.7087\n",
       "\u001b[36m                                       167768 rows omitted\u001b[0m"
      ]
     },
     "metadata": {},
     "output_type": "display_data"
    }
   ],
   "source": [
    "bus_location_file = \"/Users/melek/Desktop/Research/Research Fall 2023/DER EJ/Data/SFO/P22U/Long_lat_buscoords.txt\"\n",
    "bus_data = CSV.read(\n",
    "    bus_location_file,\n",
    "    DataFrame,\n",
    "    header=false\n",
    "    )\n",
    "rename!(bus_data, [:Bus, :Longitude, :Latitude])"
   ]
  },
  {
   "cell_type": "markdown",
   "metadata": {},
   "source": [
    "## Census Tracts"
   ]
  },
  {
   "cell_type": "code",
   "execution_count": null,
   "metadata": {},
   "outputs": [
    {
     "data": {
      "text/html": [
       "<div><div style = \"float: left;\"><span>9129×14 DataFrame</span></div><div style = \"float: right;\"><span style = \"font-style: italic;\">9104 rows omitted</span></div><div style = \"clear: both;\"></div></div><div class = \"data-frame\" style = \"overflow-x: scroll;\"><table class = \"data-frame\" style = \"margin-bottom: 6px;\"><thead><tr class = \"header\"><th class = \"rowNumber\" style = \"font-weight: bold; text-align: right;\">Row</th><th style = \"text-align: left;\">geometry</th><th style = \"text-align: left;\">STATEFP</th><th style = \"text-align: left;\">COUNTYFP</th><th style = \"text-align: left;\">TRACTCE</th><th style = \"text-align: left;\">GEOID</th><th style = \"text-align: left;\">GEOIDFQ</th><th style = \"text-align: left;\">NAME</th><th style = \"text-align: left;\">NAMELSAD</th><th style = \"text-align: left;\">MTFCC</th><th style = \"text-align: left;\">FUNCSTAT</th><th style = \"text-align: left;\">ALAND</th><th style = \"text-align: left;\">AWATER</th><th style = \"text-align: left;\">INTPTLAT</th><th style = \"text-align: left;\">INTPTLON</th></tr><tr class = \"subheader headerLastRow\"><th class = \"rowNumber\" style = \"font-weight: bold; text-align: right;\"></th><th title = \"ArchGDAL.IGeometry\" style = \"text-align: left;\">IGeometry</th><th title = \"String\" style = \"text-align: left;\">String</th><th title = \"String\" style = \"text-align: left;\">String</th><th title = \"String\" style = \"text-align: left;\">String</th><th title = \"String\" style = \"text-align: left;\">String</th><th title = \"String\" style = \"text-align: left;\">String</th><th title = \"String\" style = \"text-align: left;\">String</th><th title = \"String\" style = \"text-align: left;\">String</th><th title = \"String\" style = \"text-align: left;\">String</th><th title = \"String\" style = \"text-align: left;\">String</th><th title = \"Int64\" style = \"text-align: left;\">Int64</th><th title = \"Int64\" style = \"text-align: left;\">Int64</th><th title = \"String\" style = \"text-align: left;\">String</th><th title = \"String\" style = \"text-align: left;\">String</th></tr></thead><tbody><tr><td class = \"rowNumber\" style = \"font-weight: bold; text-align: right;\">1</td><td style = \"text-align: left;\">Geometry: wkbPolygon</td><td style = \"text-align: left;\">06</td><td style = \"text-align: left;\">001</td><td style = \"text-align: left;\">442700</td><td style = \"text-align: left;\">06001442700</td><td style = \"text-align: left;\">1400000US06001442700</td><td style = \"text-align: left;\">4427</td><td style = \"text-align: left;\">Census Tract 4427</td><td style = \"text-align: left;\">G5020</td><td style = \"text-align: left;\">S</td><td style = \"text-align: right;\">1234016</td><td style = \"text-align: right;\">0</td><td style = \"text-align: left;\">+37.5371513</td><td style = \"text-align: left;\">-122.0081095</td></tr><tr><td class = \"rowNumber\" style = \"font-weight: bold; text-align: right;\">2</td><td style = \"text-align: left;\">Geometry: wkbPolygon</td><td style = \"text-align: left;\">06</td><td style = \"text-align: left;\">001</td><td style = \"text-align: left;\">442800</td><td style = \"text-align: left;\">06001442800</td><td style = \"text-align: left;\">1400000US06001442800</td><td style = \"text-align: left;\">4428</td><td style = \"text-align: left;\">Census Tract 4428</td><td style = \"text-align: left;\">G5020</td><td style = \"text-align: left;\">S</td><td style = \"text-align: right;\">1278646</td><td style = \"text-align: right;\">0</td><td style = \"text-align: left;\">+37.5293619</td><td style = \"text-align: left;\">-121.9931002</td></tr><tr><td class = \"rowNumber\" style = \"font-weight: bold; text-align: right;\">3</td><td style = \"text-align: left;\">Geometry: wkbPolygon</td><td style = \"text-align: left;\">06</td><td style = \"text-align: left;\">037</td><td style = \"text-align: left;\">204920</td><td style = \"text-align: left;\">06037204920</td><td style = \"text-align: left;\">1400000US06037204920</td><td style = \"text-align: left;\">2049.20</td><td style = \"text-align: left;\">Census Tract 2049.20</td><td style = \"text-align: left;\">G5020</td><td style = \"text-align: left;\">S</td><td style = \"text-align: right;\">909972</td><td style = \"text-align: right;\">0</td><td style = \"text-align: left;\">+34.0175004</td><td style = \"text-align: left;\">-118.1974975</td></tr><tr><td class = \"rowNumber\" style = \"font-weight: bold; text-align: right;\">4</td><td style = \"text-align: left;\">Geometry: wkbPolygon</td><td style = \"text-align: left;\">06</td><td style = \"text-align: left;\">037</td><td style = \"text-align: left;\">205110</td><td style = \"text-align: left;\">06037205110</td><td style = \"text-align: left;\">1400000US06037205110</td><td style = \"text-align: left;\">2051.10</td><td style = \"text-align: left;\">Census Tract 2051.10</td><td style = \"text-align: left;\">G5020</td><td style = \"text-align: left;\">S</td><td style = \"text-align: right;\">286962</td><td style = \"text-align: right;\">0</td><td style = \"text-align: left;\">+34.0245059</td><td style = \"text-align: left;\">-118.2142985</td></tr><tr><td class = \"rowNumber\" style = \"font-weight: bold; text-align: right;\">5</td><td style = \"text-align: left;\">Geometry: wkbPolygon</td><td style = \"text-align: left;\">06</td><td style = \"text-align: left;\">037</td><td style = \"text-align: left;\">205120</td><td style = \"text-align: left;\">06037205120</td><td style = \"text-align: left;\">1400000US06037205120</td><td style = \"text-align: left;\">2051.20</td><td style = \"text-align: left;\">Census Tract 2051.20</td><td style = \"text-align: left;\">G5020</td><td style = \"text-align: left;\">S</td><td style = \"text-align: right;\">1466242</td><td style = \"text-align: right;\">0</td><td style = \"text-align: left;\">+34.0187542</td><td style = \"text-align: left;\">-118.2117951</td></tr><tr><td class = \"rowNumber\" style = \"font-weight: bold; text-align: right;\">6</td><td style = \"text-align: left;\">Geometry: wkbPolygon</td><td style = \"text-align: left;\">06</td><td style = \"text-align: left;\">037</td><td style = \"text-align: left;\">206010</td><td style = \"text-align: left;\">06037206010</td><td style = \"text-align: left;\">1400000US06037206010</td><td style = \"text-align: left;\">2060.10</td><td style = \"text-align: left;\">Census Tract 2060.10</td><td style = \"text-align: left;\">G5020</td><td style = \"text-align: left;\">S</td><td style = \"text-align: right;\">1418137</td><td style = \"text-align: right;\">20551</td><td style = \"text-align: left;\">+34.0682177</td><td style = \"text-align: left;\">-118.2320356</td></tr><tr><td class = \"rowNumber\" style = \"font-weight: bold; text-align: right;\">7</td><td style = \"text-align: left;\">Geometry: wkbPolygon</td><td style = \"text-align: left;\">06</td><td style = \"text-align: left;\">037</td><td style = \"text-align: left;\">206020</td><td style = \"text-align: left;\">06037206020</td><td style = \"text-align: left;\">1400000US06037206020</td><td style = \"text-align: left;\">2060.20</td><td style = \"text-align: left;\">Census Tract 2060.20</td><td style = \"text-align: left;\">G5020</td><td style = \"text-align: left;\">S</td><td style = \"text-align: right;\">843243</td><td style = \"text-align: right;\">30290</td><td style = \"text-align: left;\">+34.0571230</td><td style = \"text-align: left;\">-118.2311021</td></tr><tr><td class = \"rowNumber\" style = \"font-weight: bold; text-align: right;\">8</td><td style = \"text-align: left;\">Geometry: wkbPolygon</td><td style = \"text-align: left;\">06</td><td style = \"text-align: left;\">037</td><td style = \"text-align: left;\">206050</td><td style = \"text-align: left;\">06037206050</td><td style = \"text-align: left;\">1400000US06037206050</td><td style = \"text-align: left;\">2060.50</td><td style = \"text-align: left;\">Census Tract 2060.50</td><td style = \"text-align: left;\">G5020</td><td style = \"text-align: left;\">S</td><td style = \"text-align: right;\">1643425</td><td style = \"text-align: right;\">141255</td><td style = \"text-align: left;\">+34.0325743</td><td style = \"text-align: left;\">-118.2243204</td></tr><tr><td class = \"rowNumber\" style = \"font-weight: bold; text-align: right;\">9</td><td style = \"text-align: left;\">Geometry: wkbPolygon</td><td style = \"text-align: left;\">06</td><td style = \"text-align: left;\">037</td><td style = \"text-align: left;\">111402</td><td style = \"text-align: left;\">06037111402</td><td style = \"text-align: left;\">1400000US06037111402</td><td style = \"text-align: left;\">1114.02</td><td style = \"text-align: left;\">Census Tract 1114.02</td><td style = \"text-align: left;\">G5020</td><td style = \"text-align: left;\">S</td><td style = \"text-align: right;\">971230</td><td style = \"text-align: right;\">0</td><td style = \"text-align: left;\">+34.2611726</td><td style = \"text-align: left;\">-118.4957411</td></tr><tr><td class = \"rowNumber\" style = \"font-weight: bold; text-align: right;\">10</td><td style = \"text-align: left;\">Geometry: wkbPolygon</td><td style = \"text-align: left;\">06</td><td style = \"text-align: left;\">037</td><td style = \"text-align: left;\">111303</td><td style = \"text-align: left;\">06037111303</td><td style = \"text-align: left;\">1400000US06037111303</td><td style = \"text-align: left;\">1113.03</td><td style = \"text-align: left;\">Census Tract 1113.03</td><td style = \"text-align: left;\">G5020</td><td style = \"text-align: left;\">S</td><td style = \"text-align: right;\">1563907</td><td style = \"text-align: right;\">0</td><td style = \"text-align: left;\">+34.2612078</td><td style = \"text-align: left;\">-118.5128459</td></tr><tr><td class = \"rowNumber\" style = \"font-weight: bold; text-align: right;\">11</td><td style = \"text-align: left;\">Geometry: wkbPolygon</td><td style = \"text-align: left;\">06</td><td style = \"text-align: left;\">037</td><td style = \"text-align: left;\">104321</td><td style = \"text-align: left;\">06037104321</td><td style = \"text-align: left;\">1400000US06037104321</td><td style = \"text-align: left;\">1043.21</td><td style = \"text-align: left;\">Census Tract 1043.21</td><td style = \"text-align: left;\">G5020</td><td style = \"text-align: left;\">S</td><td style = \"text-align: right;\">519857</td><td style = \"text-align: right;\">0</td><td style = \"text-align: left;\">+34.2716582</td><td style = \"text-align: left;\">-118.4180839</td></tr><tr><td class = \"rowNumber\" style = \"font-weight: bold; text-align: right;\">12</td><td style = \"text-align: left;\">Geometry: wkbPolygon</td><td style = \"text-align: left;\">06</td><td style = \"text-align: left;\">037</td><td style = \"text-align: left;\">104322</td><td style = \"text-align: left;\">06037104322</td><td style = \"text-align: left;\">1400000US06037104322</td><td style = \"text-align: left;\">1043.22</td><td style = \"text-align: left;\">Census Tract 1043.22</td><td style = \"text-align: left;\">G5020</td><td style = \"text-align: left;\">S</td><td style = \"text-align: right;\">692312</td><td style = \"text-align: right;\">0</td><td style = \"text-align: left;\">+34.2742393</td><td style = \"text-align: left;\">-118.4218751</td></tr><tr><td class = \"rowNumber\" style = \"font-weight: bold; text-align: right;\">13</td><td style = \"text-align: left;\">Geometry: wkbPolygon</td><td style = \"text-align: left;\">06</td><td style = \"text-align: left;\">037</td><td style = \"text-align: left;\">108203</td><td style = \"text-align: left;\">06037108203</td><td style = \"text-align: left;\">1400000US06037108203</td><td style = \"text-align: left;\">1082.03</td><td style = \"text-align: left;\">Census Tract 1082.03</td><td style = \"text-align: left;\">G5020</td><td style = \"text-align: left;\">S</td><td style = \"text-align: right;\">1372380</td><td style = \"text-align: right;\">0</td><td style = \"text-align: left;\">+34.2930831</td><td style = \"text-align: left;\">-118.5616551</td></tr><tr><td style = \"text-align: right;\">&vellip;</td><td style = \"text-align: right;\">&vellip;</td><td style = \"text-align: right;\">&vellip;</td><td style = \"text-align: right;\">&vellip;</td><td style = \"text-align: right;\">&vellip;</td><td style = \"text-align: right;\">&vellip;</td><td style = \"text-align: right;\">&vellip;</td><td style = \"text-align: right;\">&vellip;</td><td style = \"text-align: right;\">&vellip;</td><td style = \"text-align: right;\">&vellip;</td><td style = \"text-align: right;\">&vellip;</td><td style = \"text-align: right;\">&vellip;</td><td style = \"text-align: right;\">&vellip;</td><td style = \"text-align: right;\">&vellip;</td><td style = \"text-align: right;\">&vellip;</td></tr><tr><td class = \"rowNumber\" style = \"font-weight: bold; text-align: right;\">9118</td><td style = \"text-align: left;\">Geometry: wkbPolygon</td><td style = \"text-align: left;\">06</td><td style = \"text-align: left;\">065</td><td style = \"text-align: left;\">041910</td><td style = \"text-align: left;\">06065041910</td><td style = \"text-align: left;\">1400000US06065041910</td><td style = \"text-align: left;\">419.10</td><td style = \"text-align: left;\">Census Tract 419.10</td><td style = \"text-align: left;\">G5020</td><td style = \"text-align: left;\">S</td><td style = \"text-align: right;\">11139872</td><td style = \"text-align: right;\">2955</td><td style = \"text-align: left;\">+33.7892199</td><td style = \"text-align: left;\">-117.4949771</td></tr><tr><td class = \"rowNumber\" style = \"font-weight: bold; text-align: right;\">9119</td><td style = \"text-align: left;\">Geometry: wkbPolygon</td><td style = \"text-align: left;\">06</td><td style = \"text-align: left;\">065</td><td style = \"text-align: left;\">042217</td><td style = \"text-align: left;\">06065042217</td><td style = \"text-align: left;\">1400000US06065042217</td><td style = \"text-align: left;\">422.17</td><td style = \"text-align: left;\">Census Tract 422.17</td><td style = \"text-align: left;\">G5020</td><td style = \"text-align: left;\">S</td><td style = \"text-align: right;\">5036130</td><td style = \"text-align: right;\">0</td><td style = \"text-align: left;\">+33.9278407</td><td style = \"text-align: left;\">-117.3222401</td></tr><tr><td class = \"rowNumber\" style = \"font-weight: bold; text-align: right;\">9120</td><td style = \"text-align: left;\">Geometry: wkbPolygon</td><td style = \"text-align: left;\">06</td><td style = \"text-align: left;\">013</td><td style = \"text-align: left;\">313102</td><td style = \"text-align: left;\">06013313102</td><td style = \"text-align: left;\">1400000US06013313102</td><td style = \"text-align: left;\">3131.02</td><td style = \"text-align: left;\">Census Tract 3131.02</td><td style = \"text-align: left;\">G5020</td><td style = \"text-align: left;\">S</td><td style = \"text-align: right;\">1949097</td><td style = \"text-align: right;\">27064</td><td style = \"text-align: left;\">+38.0054139</td><td style = \"text-align: left;\">-121.8636983</td></tr><tr><td class = \"rowNumber\" style = \"font-weight: bold; text-align: right;\">9121</td><td style = \"text-align: left;\">Geometry: wkbPolygon</td><td style = \"text-align: left;\">06</td><td style = \"text-align: left;\">013</td><td style = \"text-align: left;\">314102</td><td style = \"text-align: left;\">06013314102</td><td style = \"text-align: left;\">1400000US06013314102</td><td style = \"text-align: left;\">3141.02</td><td style = \"text-align: left;\">Census Tract 3141.02</td><td style = \"text-align: left;\">G5020</td><td style = \"text-align: left;\">S</td><td style = \"text-align: right;\">4687850</td><td style = \"text-align: right;\">875445</td><td style = \"text-align: left;\">+38.0314112</td><td style = \"text-align: left;\">-121.9170116</td></tr><tr><td class = \"rowNumber\" style = \"font-weight: bold; text-align: right;\">9122</td><td style = \"text-align: left;\">Geometry: wkbPolygon</td><td style = \"text-align: left;\">06</td><td style = \"text-align: left;\">013</td><td style = \"text-align: left;\">316000</td><td style = \"text-align: left;\">06013316000</td><td style = \"text-align: left;\">1400000US06013316000</td><td style = \"text-align: left;\">3160</td><td style = \"text-align: left;\">Census Tract 3160</td><td style = \"text-align: left;\">G5020</td><td style = \"text-align: left;\">S</td><td style = \"text-align: right;\">1507028</td><td style = \"text-align: right;\">1370458</td><td style = \"text-align: left;\">+38.0234589</td><td style = \"text-align: left;\">-122.1383209</td></tr><tr><td class = \"rowNumber\" style = \"font-weight: bold; text-align: right;\">9123</td><td style = \"text-align: left;\">Geometry: wkbPolygon</td><td style = \"text-align: left;\">06</td><td style = \"text-align: left;\">013</td><td style = \"text-align: left;\">366002</td><td style = \"text-align: left;\">06013366002</td><td style = \"text-align: left;\">1400000US06013366002</td><td style = \"text-align: left;\">3660.02</td><td style = \"text-align: left;\">Census Tract 3660.02</td><td style = \"text-align: left;\">G5020</td><td style = \"text-align: left;\">S</td><td style = \"text-align: right;\">1036483</td><td style = \"text-align: right;\">0</td><td style = \"text-align: left;\">+37.9689923</td><td style = \"text-align: left;\">-122.3509224</td></tr><tr><td class = \"rowNumber\" style = \"font-weight: bold; text-align: right;\">9124</td><td style = \"text-align: left;\">Geometry: wkbPolygon</td><td style = \"text-align: left;\">06</td><td style = \"text-align: left;\">059</td><td style = \"text-align: left;\">001303</td><td style = \"text-align: left;\">06059001303</td><td style = \"text-align: left;\">1400000US06059001303</td><td style = \"text-align: left;\">13.03</td><td style = \"text-align: left;\">Census Tract 13.03</td><td style = \"text-align: left;\">G5020</td><td style = \"text-align: left;\">S</td><td style = \"text-align: right;\">1179647</td><td style = \"text-align: right;\">0</td><td style = \"text-align: left;\">+33.9209014</td><td style = \"text-align: left;\">-117.9511671</td></tr><tr><td class = \"rowNumber\" style = \"font-weight: bold; text-align: right;\">9125</td><td style = \"text-align: left;\">Geometry: wkbPolygon</td><td style = \"text-align: left;\">06</td><td style = \"text-align: left;\">059</td><td style = \"text-align: left;\">001304</td><td style = \"text-align: left;\">06059001304</td><td style = \"text-align: left;\">1400000US06059001304</td><td style = \"text-align: left;\">13.04</td><td style = \"text-align: left;\">Census Tract 13.04</td><td style = \"text-align: left;\">G5020</td><td style = \"text-align: left;\">S</td><td style = \"text-align: right;\">1252716</td><td style = \"text-align: right;\">0</td><td style = \"text-align: left;\">+33.9244375</td><td style = \"text-align: left;\">-117.9455411</td></tr><tr><td class = \"rowNumber\" style = \"font-weight: bold; text-align: right;\">9126</td><td style = \"text-align: left;\">Geometry: wkbPolygon</td><td style = \"text-align: left;\">06</td><td style = \"text-align: left;\">059</td><td style = \"text-align: left;\">001401</td><td style = \"text-align: left;\">06059001401</td><td style = \"text-align: left;\">1400000US06059001401</td><td style = \"text-align: left;\">14.01</td><td style = \"text-align: left;\">Census Tract 14.01</td><td style = \"text-align: left;\">G5020</td><td style = \"text-align: left;\">S</td><td style = \"text-align: right;\">1605183</td><td style = \"text-align: right;\">3669</td><td style = \"text-align: left;\">+33.9408240</td><td style = \"text-align: left;\">-117.9410039</td></tr><tr><td class = \"rowNumber\" style = \"font-weight: bold; text-align: right;\">9127</td><td style = \"text-align: left;\">Geometry: wkbPolygon</td><td style = \"text-align: left;\">06</td><td style = \"text-align: left;\">013</td><td style = \"text-align: left;\">367200</td><td style = \"text-align: left;\">06013367200</td><td style = \"text-align: left;\">1400000US06013367200</td><td style = \"text-align: left;\">3672</td><td style = \"text-align: left;\">Census Tract 3672</td><td style = \"text-align: left;\">G5020</td><td style = \"text-align: left;\">S</td><td style = \"text-align: right;\">1322255</td><td style = \"text-align: right;\">0</td><td style = \"text-align: left;\">+37.9660275</td><td style = \"text-align: left;\">-122.3355517</td></tr><tr><td class = \"rowNumber\" style = \"font-weight: bold; text-align: right;\">9128</td><td style = \"text-align: left;\">Geometry: wkbPolygon</td><td style = \"text-align: left;\">06</td><td style = \"text-align: left;\">037</td><td style = \"text-align: left;\">578100</td><td style = \"text-align: left;\">06037578100</td><td style = \"text-align: left;\">1400000US06037578100</td><td style = \"text-align: left;\">5781</td><td style = \"text-align: left;\">Census Tract 5781</td><td style = \"text-align: left;\">G5020</td><td style = \"text-align: left;\">S</td><td style = \"text-align: right;\">1717560</td><td style = \"text-align: right;\">0</td><td style = \"text-align: left;\">+33.7824816</td><td style = \"text-align: left;\">-118.1157436</td></tr><tr><td class = \"rowNumber\" style = \"font-weight: bold; text-align: right;\">9129</td><td style = \"text-align: left;\">Geometry: wkbPolygon</td><td style = \"text-align: left;\">06</td><td style = \"text-align: left;\">037</td><td style = \"text-align: left;\">702900</td><td style = \"text-align: left;\">06037702900</td><td style = \"text-align: left;\">1400000US06037702900</td><td style = \"text-align: left;\">7029</td><td style = \"text-align: left;\">Census Tract 7029</td><td style = \"text-align: left;\">G5020</td><td style = \"text-align: left;\">S</td><td style = \"text-align: right;\">2209652</td><td style = \"text-align: right;\">1546421</td><td style = \"text-align: left;\">+33.9766581</td><td style = \"text-align: left;\">-118.4536582</td></tr></tbody></table></div>"
      ],
      "text/latex": [
       "\\begin{tabular}{r|ccccccc}\n",
       "\t& geometry & STATEFP & COUNTYFP & TRACTCE & GEOID & GEOIDFQ & \\\\\n",
       "\t\\hline\n",
       "\t& IGeometry & String & String & String & String & String & \\\\\n",
       "\t\\hline\n",
       "\t1 & Geometry: wkbPolygon & 06 & 001 & 442700 & 06001442700 & 1400000US06001442700 & $\\dots$ \\\\\n",
       "\t2 & Geometry: wkbPolygon & 06 & 001 & 442800 & 06001442800 & 1400000US06001442800 & $\\dots$ \\\\\n",
       "\t3 & Geometry: wkbPolygon & 06 & 037 & 204920 & 06037204920 & 1400000US06037204920 & $\\dots$ \\\\\n",
       "\t4 & Geometry: wkbPolygon & 06 & 037 & 205110 & 06037205110 & 1400000US06037205110 & $\\dots$ \\\\\n",
       "\t5 & Geometry: wkbPolygon & 06 & 037 & 205120 & 06037205120 & 1400000US06037205120 & $\\dots$ \\\\\n",
       "\t6 & Geometry: wkbPolygon & 06 & 037 & 206010 & 06037206010 & 1400000US06037206010 & $\\dots$ \\\\\n",
       "\t7 & Geometry: wkbPolygon & 06 & 037 & 206020 & 06037206020 & 1400000US06037206020 & $\\dots$ \\\\\n",
       "\t8 & Geometry: wkbPolygon & 06 & 037 & 206050 & 06037206050 & 1400000US06037206050 & $\\dots$ \\\\\n",
       "\t9 & Geometry: wkbPolygon & 06 & 037 & 111402 & 06037111402 & 1400000US06037111402 & $\\dots$ \\\\\n",
       "\t10 & Geometry: wkbPolygon & 06 & 037 & 111303 & 06037111303 & 1400000US06037111303 & $\\dots$ \\\\\n",
       "\t11 & Geometry: wkbPolygon & 06 & 037 & 104321 & 06037104321 & 1400000US06037104321 & $\\dots$ \\\\\n",
       "\t12 & Geometry: wkbPolygon & 06 & 037 & 104322 & 06037104322 & 1400000US06037104322 & $\\dots$ \\\\\n",
       "\t13 & Geometry: wkbPolygon & 06 & 037 & 108203 & 06037108203 & 1400000US06037108203 & $\\dots$ \\\\\n",
       "\t14 & Geometry: wkbPolygon & 06 & 037 & 320101 & 06037320101 & 1400000US06037320101 & $\\dots$ \\\\\n",
       "\t15 & Geometry: wkbPolygon & 06 & 037 & 920121 & 06037920121 & 1400000US06037920121 & $\\dots$ \\\\\n",
       "\t16 & Geometry: wkbPolygon & 06 & 037 & 231901 & 06037231901 & 1400000US06037231901 & $\\dots$ \\\\\n",
       "\t17 & Geometry: wkbPolygon & 06 & 037 & 232402 & 06037232402 & 1400000US06037232402 & $\\dots$ \\\\\n",
       "\t18 & Geometry: wkbPolygon & 06 & 037 & 135204 & 06037135204 & 1400000US06037135204 & $\\dots$ \\\\\n",
       "\t19 & Geometry: wkbPolygon & 06 & 037 & 460101 & 06037460101 & 1400000US06037460101 & $\\dots$ \\\\\n",
       "\t20 & Geometry: wkbPolygon & 06 & 037 & 132302 & 06037132302 & 1400000US06037132302 & $\\dots$ \\\\\n",
       "\t21 & Geometry: wkbPolygon & 06 & 037 & 135115 & 06037135115 & 1400000US06037135115 & $\\dots$ \\\\\n",
       "\t22 & Geometry: wkbPolygon & 06 & 037 & 132301 & 06037132301 & 1400000US06037132301 & $\\dots$ \\\\\n",
       "\t23 & Geometry: wkbPolygon & 06 & 037 & 134907 & 06037134907 & 1400000US06037134907 & $\\dots$ \\\\\n",
       "\t24 & Geometry: wkbPolygon & 06 & 037 & 119003 & 06037119003 & 1400000US06037119003 & $\\dots$ \\\\\n",
       "\t25 & Geometry: wkbPolygon & 06 & 037 & 111401 & 06037111401 & 1400000US06037111401 & $\\dots$ \\\\\n",
       "\t26 & Geometry: wkbPolygon & 06 & 037 & 103401 & 06037103401 & 1400000US06037103401 & $\\dots$ \\\\\n",
       "\t27 & Geometry: wkbPolygon & 06 & 037 & 207400 & 06037207400 & 1400000US06037207400 & $\\dots$ \\\\\n",
       "\t28 & Geometry: wkbPolygon & 06 & 001 & 442900 & 06001442900 & 1400000US06001442900 & $\\dots$ \\\\\n",
       "\t29 & Geometry: wkbPolygon & 06 & 037 & 192410 & 06037192410 & 1400000US06037192410 & $\\dots$ \\\\\n",
       "\t30 & Geometry: wkbPolygon & 06 & 037 & 192510 & 06037192510 & 1400000US06037192510 & $\\dots$ \\\\\n",
       "\t$\\dots$ & $\\dots$ & $\\dots$ & $\\dots$ & $\\dots$ & $\\dots$ & $\\dots$ &  \\\\\n",
       "\\end{tabular}\n"
      ],
      "text/plain": [
       "\u001b[1m9129×14 DataFrame\u001b[0m\n",
       "\u001b[1m  Row \u001b[0m│\u001b[1m geometry             \u001b[0m\u001b[1m STATEFP \u001b[0m\u001b[1m COUNTYFP \u001b[0m\u001b[1m TRACTCE \u001b[0m\u001b[1m GEOID       \u001b[0m\u001b[1m GEOIDFQ\u001b[0m ⋯\n",
       "      │\u001b[90m IGeometry            \u001b[0m\u001b[90m String  \u001b[0m\u001b[90m String   \u001b[0m\u001b[90m String  \u001b[0m\u001b[90m String      \u001b[0m\u001b[90m String \u001b[0m ⋯\n",
       "──────┼─────────────────────────────────────────────────────────────────────────\n",
       "    1 │ Geometry: wkbPolygon  06       001       442700   06001442700  1400000 ⋯\n",
       "    2 │ Geometry: wkbPolygon  06       001       442800   06001442800  1400000\n",
       "    3 │ Geometry: wkbPolygon  06       037       204920   06037204920  1400000\n",
       "    4 │ Geometry: wkbPolygon  06       037       205110   06037205110  1400000\n",
       "    5 │ Geometry: wkbPolygon  06       037       205120   06037205120  1400000 ⋯\n",
       "    6 │ Geometry: wkbPolygon  06       037       206010   06037206010  1400000\n",
       "    7 │ Geometry: wkbPolygon  06       037       206020   06037206020  1400000\n",
       "    8 │ Geometry: wkbPolygon  06       037       206050   06037206050  1400000\n",
       "    9 │ Geometry: wkbPolygon  06       037       111402   06037111402  1400000 ⋯\n",
       "   10 │ Geometry: wkbPolygon  06       037       111303   06037111303  1400000\n",
       "   11 │ Geometry: wkbPolygon  06       037       104321   06037104321  1400000\n",
       "  ⋮   │          ⋮               ⋮        ⋮         ⋮          ⋮               ⋱\n",
       " 9120 │ Geometry: wkbPolygon  06       013       313102   06013313102  1400000\n",
       " 9121 │ Geometry: wkbPolygon  06       013       314102   06013314102  1400000 ⋯\n",
       " 9122 │ Geometry: wkbPolygon  06       013       316000   06013316000  1400000\n",
       " 9123 │ Geometry: wkbPolygon  06       013       366002   06013366002  1400000\n",
       " 9124 │ Geometry: wkbPolygon  06       059       001303   06059001303  1400000\n",
       " 9125 │ Geometry: wkbPolygon  06       059       001304   06059001304  1400000 ⋯\n",
       " 9126 │ Geometry: wkbPolygon  06       059       001401   06059001401  1400000\n",
       " 9127 │ Geometry: wkbPolygon  06       013       367200   06013367200  1400000\n",
       " 9128 │ Geometry: wkbPolygon  06       037       578100   06037578100  1400000\n",
       " 9129 │ Geometry: wkbPolygon  06       037       702900   06037702900  1400000 ⋯\n",
       "\u001b[36m                                                 9 columns and 9108 rows omitted\u001b[0m"
      ]
     },
     "metadata": {},
     "output_type": "display_data"
    }
   ],
   "source": [
    "tracts = GDF.read(\"/Users/melek/Desktop/Research/Research Fall 2023/DER EJ/Data/tl_2024_06_tract/tl_2024_06_tract.shp\")"
   ]
  },
  {
   "cell_type": "code",
   "execution_count": null,
   "metadata": {},
   "outputs": [],
   "source": []
  }
 ],
 "metadata": {
  "language_info": {
   "name": "python"
  }
 },
 "nbformat": 4,
 "nbformat_minor": 2
}
