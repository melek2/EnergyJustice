{
 "cells": [
  {
   "cell_type": "markdown",
   "metadata": {},
   "source": [
    "# Import dependencies"
   ]
  },
  {
   "cell_type": "code",
   "execution_count": 1,
   "metadata": {},
   "outputs": [],
   "source": [
    "begin\n",
    "\tusing PowerModelsDistribution\n",
    "\timport InfrastructureModels\n",
    "\timport JuMP\n",
    "\tusing Ipopt\n",
    "\timport JSON\n",
    "\timport CSV\n",
    "\timport LinearAlgebra\n",
    "end"
   ]
  },
  {
   "cell_type": "markdown",
   "metadata": {},
   "source": [
    "Function to pull bus voltages:"
   ]
  },
  {
   "cell_type": "code",
   "execution_count": 2,
   "metadata": {},
   "outputs": [
    {
     "data": {
      "text/plain": [
       "process_bus_data (generic function with 2 methods)"
      ]
     },
     "execution_count": 2,
     "metadata": {},
     "output_type": "execute_result"
    }
   ],
   "source": [
    "include(\"Functions/process_bus_data.jl\")"
   ]
  },
  {
   "cell_type": "markdown",
   "metadata": {},
   "source": [
    "Function for solve PowerModelDistribution solver using [`solve_mc_pf`](https://github.com/lanl-ansi/PowerModelsDistribution.jl/blob/main/docs/src/manual/power-flow.md#generic-power-flow)"
   ]
  },
  {
   "cell_type": "code",
   "execution_count": 3,
   "metadata": {},
   "outputs": [
    {
     "data": {
      "text/plain": [
       "PMD_solve_mc_pf (generic function with 1 method)"
      ]
     },
     "execution_count": 3,
     "metadata": {},
     "output_type": "execute_result"
    }
   ],
   "source": [
    "include(\"Functions/PMD_solve_mc_pf.jl\")"
   ]
  },
  {
   "cell_type": "markdown",
   "metadata": {},
   "source": [
    "directory to save result(s):"
   ]
  },
  {
   "cell_type": "code",
   "execution_count": 4,
   "metadata": {},
   "outputs": [
    {
     "data": {
      "text/plain": [
       "\"/Users/melek/Desktop/Research/Research Fall 2023/DER EJ/Results/\""
      ]
     },
     "execution_count": 4,
     "metadata": {},
     "output_type": "execute_result"
    }
   ],
   "source": [
    "results_directory = \"/Users/melek/Desktop/Research/Research Fall 2023/DER EJ/Results/\""
   ]
  },
  {
   "cell_type": "markdown",
   "metadata": {},
   "source": [
    "# Systems to solve"
   ]
  },
  {
   "cell_type": "code",
   "execution_count": 5,
   "metadata": {},
   "outputs": [
    {
     "name": "stdout",
     "output_type": "stream",
     "text": [
      "[\"/Users/melek/Desktop/Research/Research Fall 2023/DER EJ/Data/SFO/P22U/p22uhs9_1247/Master.dss\", \"/Users/melek/Desktop/Research/Research Fall 2023/DER EJ/Data/SFO/P22U/p22uhs8_1247/Master.dss\", \"/Users/melek/Desktop/Research/Research Fall 2023/DER EJ/Data/SFO/P22U/p22uhs7_1247/Master.dss\", \"/Users/melek/Desktop/Research/Research Fall 2023/DER EJ/Data/SFO/P22U/p22uhs6_1247/Master.dss\", \"/Users/melek/Desktop/Research/Research Fall 2023/DER EJ/Data/SFO/P22U/p22uhs0_1247/Master.dss\", \"/Users/melek/Desktop/Research/Research Fall 2023/DER EJ/Data/SFO/P22U/p22uhs10_1247/Master.dss\", \"/Users/melek/Desktop/Research/Research Fall 2023/DER EJ/Data/SFO/P22U/p22uhs11_1247/Master.dss\", \"/Users/melek/Desktop/Research/Research Fall 2023/DER EJ/Data/SFO/P22U/p22uhs12_1247/Master.dss\", \"/Users/melek/Desktop/Research/Research Fall 2023/DER EJ/Data/SFO/P22U/p22uhs13_1247/Master.dss\", \"/Users/melek/Desktop/Research/Research Fall 2023/DER EJ/Data/SFO/P22U/p22uhs14_1247/Master.dss\", \"/Users/melek/Desktop/Research/Research Fall 2023/DER EJ/Data/SFO/P22U/p22uhs15_1247/Master.dss\", \"/Users/melek/Desktop/Research/Research Fall 2023/DER EJ/Data/SFO/P22U/p22uhs1_1247/Master.dss\", \"/Users/melek/Desktop/Research/Research Fall 2023/DER EJ/Data/SFO/P22U/p22uhs2_1247/Master.dss\", \"/Users/melek/Desktop/Research/Research Fall 2023/DER EJ/Data/SFO/P22U/p22uhs3_1247/Master.dss\", \"/Users/melek/Desktop/Research/Research Fall 2023/DER EJ/Data/SFO/P22U/p22uhs4_1247/Master.dss\", \"/Users/melek/Desktop/Research/Research Fall 2023/DER EJ/Data/SFO/P22U/p22uhs5_1247/Master.dss\"]"
     ]
    }
   ],
   "source": [
    "using Glob\n",
    "folder_directory = \"/Users/melek/Desktop/Research/Research Fall 2023/DER EJ/Data/SFO/P22U\"\n",
    "files = glob(\"**/Master.dss\",folder_directory)\n",
    "print(files)"
   ]
  },
  {
   "cell_type": "code",
   "execution_count": 6,
   "metadata": {},
   "outputs": [
    {
     "name": "stdout",
     "output_type": "stream",
     "text": [
      "/Users/melek/Desktop/Research/Research Fall 2023/DER EJ/Data/SFO/P22U/p22uhs9_1247/Master.dss/Users/melek/Desktop/Research/Research Fall 2023/DER EJ/Data/SFO/P22U/p22uhs8_1247/Master.dss/Users/melek/Desktop/Research/Research Fall 2023/DER EJ/Data/SFO/P22U/p22uhs7_1247/Master.dss/Users/melek/Desktop/Research/Research Fall 2023/DER EJ/Data/SFO/P22U/p22uhs6_1247/Master.dss/Users/melek/Desktop/Research/Research Fall 2023/DER EJ/Data/SFO/P22U/p22uhs0_1247/Master.dss/Users/melek/Desktop/Research/Research Fall 2023/DER EJ/Data/SFO/P22U/p22uhs10_1247/Master.dss/Users/melek/Desktop/Research/Research Fall 2023/DER EJ/Data/SFO/P22U/p22uhs11_1247/Master.dss/Users/melek/Desktop/Research/Research Fall 2023/DER EJ/Data/SFO/P22U/p22uhs12_1247/Master.dss/Users/melek/Desktop/Research/Research Fall 2023/DER EJ/Data/SFO/P22U/p22uhs13_1247/Master.dss/Users/melek/Desktop/Research/Research Fall 2023/DER EJ/Data/SFO/P22U/p22uhs14_1247/Master.dss/Users/melek/Desktop/Research/Research Fall 2023/DER EJ/Data/SFO/P22U/p22uhs15_1247/Master.dss/Users/melek/Desktop/Research/Research Fall 2023/DER EJ/Data/SFO/P22U/p22uhs1_1247/Master.dss/Users/melek/Desktop/Research/Research Fall 2023/DER EJ/Data/SFO/P22U/p22uhs2_1247/Master.dss/Users/melek/Desktop/Research/Research Fall 2023/DER EJ/Data/SFO/P22U/p22uhs3_1247/Master.dss/Users/melek/Desktop/Research/Research Fall 2023/DER EJ/Data/SFO/P22U/p22uhs4_1247/Master.dss/Users/melek/Desktop/Research/Research Fall 2023/DER EJ/Data/SFO/P22U/p22uhs5_1247/Master.dss"
     ]
    }
   ],
   "source": [
    "for file in files\n",
    "    print(file)\n",
    "end"
   ]
  },
  {
   "cell_type": "code",
   "execution_count": null,
   "metadata": {},
   "outputs": [
    {
     "name": "stdout",
     "output_type": "stream",
     "text": [
      "p22uhs9_1247\n"
     ]
    },
    {
     "name": "stderr",
     "output_type": "stream",
     "text": [
      "\u001b[36m\u001b[1m[ \u001b[22m\u001b[39m\u001b[36m\u001b[1mPowerModelsDistribution | Info ] : \u001b[22m\u001b[39mCircuit has been reset with the 'clear' on line 1 in 'Master.dss'\n",
      "\u001b[36m\u001b[1m[ \u001b[22m\u001b[39m\u001b[36m\u001b[1mPowerModelsDistribution | Info ] : \u001b[22m\u001b[39mRedirecting to 'transformers.dss' on line 5 in 'Master.dss'\n",
      "\u001b[36m\u001b[1m[ \u001b[22m\u001b[39m\u001b[36m\u001b[1mPowerModelsDistribution | Info ] : \u001b[22m\u001b[39mRedirecting to 'p22uhs9_1247--p22udt2060/transformers.dss' on line 6 in 'Transformers.dss'\n",
      "\u001b[36m\u001b[1m[ \u001b[22m\u001b[39m\u001b[36m\u001b[1mPowerModelsDistribution | Info ] : \u001b[22m\u001b[39mRedirecting to 'p22uhs9_1247--p22udt2072/transformers.dss' on line 7 in 'Transformers.dss'\n",
      "\u001b[36m\u001b[1m[ \u001b[22m\u001b[39m\u001b[36m\u001b[1mPowerModelsDistribution | Info ] : \u001b[22m\u001b[39mRedirecting to 'p22uhs9_1247--p22udt2178/transformers.dss' on line 8 in 'Transformers.dss'\n",
      "\u001b[36m\u001b[1m[ \u001b[22m\u001b[39m\u001b[36m\u001b[1mPowerModelsDistribution | Info ] : \u001b[22m\u001b[39mRedirecting to 'p22uhs9_1247--p22udt2013/transformers.dss' on line 9 in 'Transformers.dss'\n",
      "\u001b[36m\u001b[1m[ \u001b[22m\u001b[39m\u001b[36m\u001b[1mPowerModelsDistribution | Info ] : \u001b[22m\u001b[39mRedirecting to 'regulators.dss' on line 10 in 'Transformers.dss'\n",
      "\u001b[36m\u001b[1m[ \u001b[22m\u001b[39m\u001b[36m\u001b[1mPowerModelsDistribution | Info ] : \u001b[22m\u001b[39mRedirecting to 'p22uhs9_1247--p22udt2178/loads.dss' on line 11 in 'Regulators.dss'\n",
      "\u001b[36m\u001b[1m[ \u001b[22m\u001b[39m\u001b[36m\u001b[1mPowerModelsDistribution | Info ] : \u001b[22m\u001b[39mRedirecting to 'p22uhs9_1247--p22udt2013/loads.dss' on line 12 in 'Loads.dss'\n",
      "\u001b[36m\u001b[1m[ \u001b[22m\u001b[39m\u001b[36m\u001b[1mPowerModelsDistribution | Info ] : \u001b[22m\u001b[39mRedirecting to 'p22uhs9_1247--p22udt2060/loads.dss' on line 13 in 'Loads.dss'\n",
      "\u001b[36m\u001b[1m[ \u001b[22m\u001b[39m\u001b[36m\u001b[1mPowerModelsDistribution | Info ] : \u001b[22m\u001b[39mRedirecting to 'p22uhs9_1247--p22udt2072/loads.dss' on line 14 in 'Loads.dss'\n",
      "\u001b[36m\u001b[1m[ \u001b[22m\u001b[39m\u001b[36m\u001b[1mPowerModelsDistribution | Info ] : \u001b[22m\u001b[39mRedirecting to 'linecodes.dss' on line 15 in 'Loads.dss'\n",
      "\u001b[36m\u001b[1m[ \u001b[22m\u001b[39m\u001b[36m\u001b[1mPowerModelsDistribution | Info ] : \u001b[22m\u001b[39mRedirecting to 'p22uhs9_1247--p22udt2060/linecodes.dss' on line 16 in 'LineCodes.dss'\n",
      "\u001b[36m\u001b[1m[ \u001b[22m\u001b[39m\u001b[36m\u001b[1mPowerModelsDistribution | Info ] : \u001b[22m\u001b[39mRedirecting to 'p22uhs9_1247--p22udt2072/linecodes.dss' on line 17 in 'LineCodes.dss'\n",
      "\u001b[36m\u001b[1m[ \u001b[22m\u001b[39m\u001b[36m\u001b[1mPowerModelsDistribution | Info ] : \u001b[22m\u001b[39mRedirecting to 'p22uhs9_1247--p22udt2178/linecodes.dss' on line 18 in 'LineCodes.dss'\n",
      "\u001b[36m\u001b[1m[ \u001b[22m\u001b[39m\u001b[36m\u001b[1mPowerModelsDistribution | Info ] : \u001b[22m\u001b[39mRedirecting to 'p22uhs9_1247--p22udt2013/linecodes.dss' on line 19 in 'LineCodes.dss'\n",
      "\u001b[36m\u001b[1m[ \u001b[22m\u001b[39m\u001b[36m\u001b[1mPowerModelsDistribution | Info ] : \u001b[22m\u001b[39mRedirecting to 'lines.dss' on line 20 in 'LineCodes.dss'\n",
      "\u001b[36m\u001b[1m[ \u001b[22m\u001b[39m\u001b[36m\u001b[1mPowerModelsDistribution | Info ] : \u001b[22m\u001b[39mRedirecting to 'p22uhs9_1247--p22udt2060/lines.dss' on line 21 in 'Lines.dss'\n",
      "\u001b[36m\u001b[1m[ \u001b[22m\u001b[39m\u001b[36m\u001b[1mPowerModelsDistribution | Info ] : \u001b[22m\u001b[39mRedirecting to 'p22uhs9_1247--p22udt2072/lines.dss' on line 22 in 'Lines.dss'\n",
      "\u001b[36m\u001b[1m[ \u001b[22m\u001b[39m\u001b[36m\u001b[1mPowerModelsDistribution | Info ] : \u001b[22m\u001b[39mRedirecting to 'p22uhs9_1247--p22udt2178/lines.dss' on line 23 in 'Lines.dss'\n",
      "\u001b[36m\u001b[1m[ \u001b[22m\u001b[39m\u001b[36m\u001b[1mPowerModelsDistribution | Info ] : \u001b[22m\u001b[39mRedirecting to 'p22uhs9_1247--p22udt2013/lines.dss' on line 24 in 'Lines.dss'\n",
      "\u001b[36m\u001b[1m[ \u001b[22m\u001b[39m\u001b[36m\u001b[1mPowerModelsDistribution | Info ] : \u001b[22m\u001b[39mRedirecting to 'p22uhs9_1247--p22udt2178/capacitors.dss' on line 25 in 'Lines.dss'\n",
      "\u001b[36m\u001b[1m[ \u001b[22m\u001b[39m\u001b[36m\u001b[1mPowerModelsDistribution | Info ] : \u001b[22m\u001b[39mRedirecting to 'p22uhs9_1247--p22udt2060/capacitors.dss' on line 26 in 'Capacitors.dss'\n",
      "\u001b[36m\u001b[1m[ \u001b[22m\u001b[39m\u001b[36m\u001b[1mPowerModelsDistribution | Info ] : \u001b[22m\u001b[39mRedirecting to 'p22uhs9_1247--p22udt2072/capacitors.dss' on line 27 in 'Capacitors.dss'\n",
      "\u001b[36m\u001b[1m[ \u001b[22m\u001b[39m\u001b[36m\u001b[1mPowerModelsDistribution | Info ] : \u001b[22m\u001b[39mCommand 'calcvoltagebases' on line 31 in 'Master.dss' is not supported, skipping.\n",
      "\u001b[36m\u001b[1m[ \u001b[22m\u001b[39m\u001b[36m\u001b[1mPowerModelsDistribution | Info ] : \u001b[22m\u001b[39mReading Buscoords in 'buscoords.dss' on line 33 in 'Capacitors.dss'\n",
      "\u001b[36m\u001b[1m[ \u001b[22m\u001b[39m\u001b[36m\u001b[1mPowerModelsDistribution | Info ] : \u001b[22m\u001b[39mCommand 'solve' on line 35 in 'Master.dss' is not supported, skipping.\n",
      "\u001b[36m\u001b[1m[ \u001b[22m\u001b[39m\u001b[36m\u001b[1mPowerModelsDistribution | Info ] : \u001b[22m\u001b[39mbasemva=100 is the default value, you may want to adjust sbase_default for better convergence\n"
     ]
    },
    {
     "name": "stdout",
     "output_type": "stream",
     "text": [
      "\n",
      "******************************************************************************\n",
      "This program contains Ipopt, a library for large-scale nonlinear optimization.\n",
      " Ipopt is released as open source code under the Eclipse Public License (EPL).\n",
      "         For more information visit https://github.com/coin-or/Ipopt\n",
      "******************************************************************************\n",
      "\n",
      "10363.212636 seconds (992.25 M allocations: 29.713 GiB, 0.07% gc time)\n",
      "p22uhs8_1247"
     ]
    },
    {
     "name": "stderr",
     "output_type": "stream",
     "text": [
      "\u001b[36m\u001b[1m[ \u001b[22m\u001b[39m\u001b[36m\u001b[1mPowerModelsDistribution | Info ] : \u001b[22m\u001b[39mno generators found in the given network data, disabling island\n",
      "\u001b[36m\u001b[1m[ \u001b[22m\u001b[39m\u001b[36m\u001b[1mPowerModelsDistribution | Info ] : \u001b[22m\u001b[39mno generators found in the given network data, disabling island\n"
     ]
    },
    {
     "name": "stdout",
     "output_type": "stream",
     "text": [
      "\n"
     ]
    },
    {
     "name": "stderr",
     "output_type": "stream",
     "text": [
      "\u001b[36m\u001b[1m[ \u001b[22m\u001b[39m\u001b[36m\u001b[1mPowerModelsDistribution | Info ] : \u001b[22m\u001b[39mCircuit has been reset with the 'clear' on line 1 in 'Master.dss'\n",
      "\u001b[36m\u001b[1m[ \u001b[22m\u001b[39m\u001b[36m\u001b[1mPowerModelsDistribution | Info ] : \u001b[22m\u001b[39mRedirecting to 'transformers.dss' on line 5 in 'Master.dss'\n",
      "\u001b[36m\u001b[1m[ \u001b[22m\u001b[39m\u001b[36m\u001b[1mPowerModelsDistribution | Info ] : \u001b[22m\u001b[39mRedirecting to 'p22uhs8_1247--p22udt11438/transformers.dss' on line 6 in 'Transformers.dss'\n",
      "\u001b[36m\u001b[1m[ \u001b[22m\u001b[39m\u001b[36m\u001b[1mPowerModelsDistribution | Info ] : \u001b[22m\u001b[39mRedirecting to 'p22uhs8_1247--p22udt11311/transformers.dss' on line 7 in 'Transformers.dss'\n",
      "\u001b[36m\u001b[1m[ \u001b[22m\u001b[39m\u001b[36m\u001b[1mPowerModelsDistribution | Info ] : \u001b[22m\u001b[39mRedirecting to 'regulators.dss' on line 8 in 'Transformers.dss'\n",
      "\u001b[36m\u001b[1m[ \u001b[22m\u001b[39m\u001b[36m\u001b[1mPowerModelsDistribution | Info ] : \u001b[22m\u001b[39mRedirecting to 'p22uhs8_1247--p22udt11438/loads.dss' on line 9 in 'Regulators.dss'\n",
      "\u001b[36m\u001b[1m[ \u001b[22m\u001b[39m\u001b[36m\u001b[1mPowerModelsDistribution | Info ] : \u001b[22m\u001b[39mRedirecting to 'p22uhs8_1247--p22udt11311/loads.dss' on line 10 in 'Loads.dss'\n",
      "\u001b[36m\u001b[1m[ \u001b[22m\u001b[39m\u001b[36m\u001b[1mPowerModelsDistribution | Info ] : \u001b[22m\u001b[39mRedirecting to 'linecodes.dss' on line 11 in 'Loads.dss'\n",
      "\u001b[36m\u001b[1m[ \u001b[22m\u001b[39m\u001b[36m\u001b[1mPowerModelsDistribution | Info ] : \u001b[22m\u001b[39mRedirecting to 'p22uhs8_1247--p22udt11438/linecodes.dss' on line 12 in 'LineCodes.dss'\n",
      "\u001b[36m\u001b[1m[ \u001b[22m\u001b[39m\u001b[36m\u001b[1mPowerModelsDistribution | Info ] : \u001b[22m\u001b[39mRedirecting to 'p22uhs8_1247--p22udt11311/linecodes.dss' on line 13 in 'LineCodes.dss'\n",
      "\u001b[36m\u001b[1m[ \u001b[22m\u001b[39m\u001b[36m\u001b[1mPowerModelsDistribution | Info ] : \u001b[22m\u001b[39mRedirecting to 'lines.dss' on line 14 in 'LineCodes.dss'\n",
      "\u001b[36m\u001b[1m[ \u001b[22m\u001b[39m\u001b[36m\u001b[1mPowerModelsDistribution | Info ] : \u001b[22m\u001b[39mRedirecting to 'p22uhs8_1247--p22udt11438/lines.dss' on line 15 in 'Lines.dss'\n",
      "\u001b[36m\u001b[1m[ \u001b[22m\u001b[39m\u001b[36m\u001b[1mPowerModelsDistribution | Info ] : \u001b[22m\u001b[39mRedirecting to 'p22uhs8_1247--p22udt11311/lines.dss' on line 16 in 'Lines.dss'\n",
      "\u001b[36m\u001b[1m[ \u001b[22m\u001b[39m\u001b[36m\u001b[1mPowerModelsDistribution | Info ] : \u001b[22m\u001b[39mRedirecting to 'p22uhs8_1247--p22udt11311/capacitors.dss' on line 17 in 'Lines.dss'\n",
      "\u001b[36m\u001b[1m[ \u001b[22m\u001b[39m\u001b[36m\u001b[1mPowerModelsDistribution | Info ] : \u001b[22m\u001b[39mCommand 'calcvoltagebases' on line 21 in 'Master.dss' is not supported, skipping.\n",
      "\u001b[36m\u001b[1m[ \u001b[22m\u001b[39m\u001b[36m\u001b[1mPowerModelsDistribution | Info ] : \u001b[22m\u001b[39mReading Buscoords in 'buscoords.dss' on line 23 in 'Capacitors.dss'\n",
      "\u001b[36m\u001b[1m[ \u001b[22m\u001b[39m\u001b[36m\u001b[1mPowerModelsDistribution | Info ] : \u001b[22m\u001b[39mCommand 'solve' on line 25 in 'Master.dss' is not supported, skipping.\n",
      "\u001b[36m\u001b[1m[ \u001b[22m\u001b[39m\u001b[36m\u001b[1mPowerModelsDistribution | Info ] : \u001b[22m\u001b[39mbasemva=100 is the default value, you may want to adjust sbase_default for better convergence\n"
     ]
    },
    {
     "name": "stdout",
     "output_type": "stream",
     "text": [
      "3299.214018 seconds (687.45 M allocations: 20.221 GiB, 0.14% gc time)\n",
      "p22uhs7_1247"
     ]
    },
    {
     "name": "stderr",
     "output_type": "stream",
     "text": [
      "\u001b[36m\u001b[1m[ \u001b[22m\u001b[39m\u001b[36m\u001b[1mPowerModelsDistribution | Info ] : \u001b[22m\u001b[39mno generators found in the given network data, disabling island\n",
      "\u001b[36m\u001b[1m[ \u001b[22m\u001b[39m\u001b[36m\u001b[1mPowerModelsDistribution | Info ] : \u001b[22m\u001b[39mno generators found in the given network data, disabling island\n",
      "\u001b[36m\u001b[1m[ \u001b[22m\u001b[39m\u001b[36m\u001b[1mPowerModelsDistribution | Info ] : \u001b[22m\u001b[39mno generators found in the given network data, disabling island\n"
     ]
    },
    {
     "name": "stdout",
     "output_type": "stream",
     "text": [
      "\n"
     ]
    },
    {
     "name": "stderr",
     "output_type": "stream",
     "text": [
      "\u001b[36m\u001b[1m[ \u001b[22m\u001b[39m\u001b[36m\u001b[1mPowerModelsDistribution | Info ] : \u001b[22m\u001b[39mCircuit has been reset with the 'clear' on line 1 in 'Master.dss'\n",
      "\u001b[36m\u001b[1m[ \u001b[22m\u001b[39m\u001b[36m\u001b[1mPowerModelsDistribution | Info ] : \u001b[22m\u001b[39mRedirecting to 'transformers.dss' on line 5 in 'Master.dss'\n",
      "\u001b[36m\u001b[1m[ \u001b[22m\u001b[39m\u001b[36m\u001b[1mPowerModelsDistribution | Info ] : \u001b[22m\u001b[39mRedirecting to 'p22uhs7_1247--p22udt8292/transformers.dss' on line 6 in 'Transformers.dss'\n",
      "\u001b[36m\u001b[1m[ \u001b[22m\u001b[39m\u001b[36m\u001b[1mPowerModelsDistribution | Info ] : \u001b[22m\u001b[39mRedirecting to 'p22uhs7_1247--p22udt8294/transformers.dss' on line 7 in 'Transformers.dss'\n",
      "\u001b[36m\u001b[1m[ \u001b[22m\u001b[39m\u001b[36m\u001b[1mPowerModelsDistribution | Info ] : \u001b[22m\u001b[39mRedirecting to 'p22uhs7_1247--p22udt5860/transformers.dss' on line 8 in 'Transformers.dss'\n",
      "\u001b[36m\u001b[1m[ \u001b[22m\u001b[39m\u001b[36m\u001b[1mPowerModelsDistribution | Info ] : \u001b[22m\u001b[39mRedirecting to 'p22uhs7_1247--p22udt5859/transformers.dss' on line 9 in 'Transformers.dss'\n",
      "\u001b[36m\u001b[1m[ \u001b[22m\u001b[39m\u001b[36m\u001b[1mPowerModelsDistribution | Info ] : \u001b[22m\u001b[39mRedirecting to 'regulators.dss' on line 10 in 'Transformers.dss'\n",
      "\u001b[36m\u001b[1m[ \u001b[22m\u001b[39m\u001b[36m\u001b[1mPowerModelsDistribution | Info ] : \u001b[22m\u001b[39mRedirecting to 'p22uhs7_1247--p22udt5860/loads.dss' on line 11 in 'Regulators.dss'\n",
      "\u001b[36m\u001b[1m[ \u001b[22m\u001b[39m\u001b[36m\u001b[1mPowerModelsDistribution | Info ] : \u001b[22m\u001b[39mRedirecting to 'p22uhs7_1247--p22udt8292/loads.dss' on line 12 in 'Loads.dss'\n",
      "\u001b[36m\u001b[1m[ \u001b[22m\u001b[39m\u001b[36m\u001b[1mPowerModelsDistribution | Info ] : \u001b[22m\u001b[39mRedirecting to 'p22uhs7_1247--p22udt8294/loads.dss' on line 13 in 'Loads.dss'\n",
      "\u001b[36m\u001b[1m[ \u001b[22m\u001b[39m\u001b[36m\u001b[1mPowerModelsDistribution | Info ] : \u001b[22m\u001b[39mRedirecting to 'p22uhs7_1247--p22udt5859/loads.dss' on line 14 in 'Loads.dss'\n",
      "\u001b[36m\u001b[1m[ \u001b[22m\u001b[39m\u001b[36m\u001b[1mPowerModelsDistribution | Info ] : \u001b[22m\u001b[39mRedirecting to 'linecodes.dss' on line 15 in 'Loads.dss'\n",
      "\u001b[36m\u001b[1m[ \u001b[22m\u001b[39m\u001b[36m\u001b[1mPowerModelsDistribution | Info ] : \u001b[22m\u001b[39mRedirecting to 'p22uhs7_1247--p22udt8292/linecodes.dss' on line 16 in 'LineCodes.dss'\n",
      "\u001b[36m\u001b[1m[ \u001b[22m\u001b[39m\u001b[36m\u001b[1mPowerModelsDistribution | Info ] : \u001b[22m\u001b[39mRedirecting to 'p22uhs7_1247--p22udt8294/linecodes.dss' on line 17 in 'LineCodes.dss'\n",
      "\u001b[36m\u001b[1m[ \u001b[22m\u001b[39m\u001b[36m\u001b[1mPowerModelsDistribution | Info ] : \u001b[22m\u001b[39mRedirecting to 'p22uhs7_1247--p22udt5860/linecodes.dss' on line 18 in 'LineCodes.dss'\n",
      "\u001b[36m\u001b[1m[ \u001b[22m\u001b[39m\u001b[36m\u001b[1mPowerModelsDistribution | Info ] : \u001b[22m\u001b[39mRedirecting to 'p22uhs7_1247--p22udt5859/linecodes.dss' on line 19 in 'LineCodes.dss'\n",
      "\u001b[36m\u001b[1m[ \u001b[22m\u001b[39m\u001b[36m\u001b[1mPowerModelsDistribution | Info ] : \u001b[22m\u001b[39mRedirecting to 'lines.dss' on line 20 in 'LineCodes.dss'\n",
      "\u001b[36m\u001b[1m[ \u001b[22m\u001b[39m\u001b[36m\u001b[1mPowerModelsDistribution | Info ] : \u001b[22m\u001b[39mRedirecting to 'p22uhs7_1247--p22udt8292/lines.dss' on line 21 in 'Lines.dss'\n",
      "\u001b[36m\u001b[1m[ \u001b[22m\u001b[39m\u001b[36m\u001b[1mPowerModelsDistribution | Info ] : \u001b[22m\u001b[39mRedirecting to 'p22uhs7_1247--p22udt8294/lines.dss' on line 22 in 'Lines.dss'\n",
      "\u001b[36m\u001b[1m[ \u001b[22m\u001b[39m\u001b[36m\u001b[1mPowerModelsDistribution | Info ] : \u001b[22m\u001b[39mRedirecting to 'p22uhs7_1247--p22udt5860/lines.dss' on line 23 in 'Lines.dss'\n",
      "\u001b[36m\u001b[1m[ \u001b[22m\u001b[39m\u001b[36m\u001b[1mPowerModelsDistribution | Info ] : \u001b[22m\u001b[39mRedirecting to 'p22uhs7_1247--p22udt5859/lines.dss' on line 24 in 'Lines.dss'\n",
      "\u001b[36m\u001b[1m[ \u001b[22m\u001b[39m\u001b[36m\u001b[1mPowerModelsDistribution | Info ] : \u001b[22m\u001b[39mRedirecting to 'p22uhs7_1247--p22udt5860/capacitors.dss' on line 25 in 'Lines.dss'\n",
      "\u001b[36m\u001b[1m[ \u001b[22m\u001b[39m\u001b[36m\u001b[1mPowerModelsDistribution | Info ] : \u001b[22m\u001b[39mRedirecting to 'p22uhs7_1247--p22udt8294/capacitors.dss' on line 26 in 'Capacitors.dss'\n",
      "\u001b[36m\u001b[1m[ \u001b[22m\u001b[39m\u001b[36m\u001b[1mPowerModelsDistribution | Info ] : \u001b[22m\u001b[39mRedirecting to 'p22uhs7_1247--p22udt5859/capacitors.dss' on line 27 in 'Capacitors.dss'\n",
      "\u001b[36m\u001b[1m[ \u001b[22m\u001b[39m\u001b[36m\u001b[1mPowerModelsDistribution | Info ] : \u001b[22m\u001b[39mCommand 'calcvoltagebases' on line 31 in 'Master.dss' is not supported, skipping.\n",
      "\u001b[36m\u001b[1m[ \u001b[22m\u001b[39m\u001b[36m\u001b[1mPowerModelsDistribution | Info ] : \u001b[22m\u001b[39mReading Buscoords in 'buscoords.dss' on line 33 in 'Capacitors.dss'\n",
      "\u001b[36m\u001b[1m[ \u001b[22m\u001b[39m\u001b[36m\u001b[1mPowerModelsDistribution | Info ] : \u001b[22m\u001b[39mCommand 'solve' on line 35 in 'Master.dss' is not supported, skipping.\n",
      "\u001b[36m\u001b[1m[ \u001b[22m\u001b[39m\u001b[36m\u001b[1mPowerModelsDistribution | Info ] : \u001b[22m\u001b[39mbasemva=100 is the default value, you may want to adjust sbase_default for better convergence\n"
     ]
    },
    {
     "name": "stdout",
     "output_type": "stream",
     "text": [
      "26804.898101 seconds (1.11 G allocations: 32.582 GiB, 0.03% gc time)\n",
      "p22uhs6_1247"
     ]
    },
    {
     "name": "stderr",
     "output_type": "stream",
     "text": [
      "\u001b[36m\u001b[1m[ \u001b[22m\u001b[39m\u001b[36m\u001b[1mPowerModelsDistribution | Info ] : \u001b[22m\u001b[39mno generators found in the given network data, disabling island\n",
      "\u001b[36m\u001b[1m[ \u001b[22m\u001b[39m\u001b[36m\u001b[1mPowerModelsDistribution | Info ] : \u001b[22m\u001b[39mno generators found in the given network data, disabling island\n",
      "\u001b[36m\u001b[1m[ \u001b[22m\u001b[39m\u001b[36m\u001b[1mPowerModelsDistribution | Info ] : \u001b[22m\u001b[39mno generators found in the given network data, disabling island\n",
      "\u001b[36m\u001b[1m[ \u001b[22m\u001b[39m\u001b[36m\u001b[1mPowerModelsDistribution | Info ] : \u001b[22m\u001b[39mno generators found in the given network data, disabling island\n"
     ]
    },
    {
     "name": "stdout",
     "output_type": "stream",
     "text": [
      "\n"
     ]
    },
    {
     "name": "stderr",
     "output_type": "stream",
     "text": [
      "\u001b[36m\u001b[1m[ \u001b[22m\u001b[39m\u001b[36m\u001b[1mPowerModelsDistribution | Info ] : \u001b[22m\u001b[39mCircuit has been reset with the 'clear' on line 1 in 'Master.dss'\n",
      "\u001b[36m\u001b[1m[ \u001b[22m\u001b[39m\u001b[36m\u001b[1mPowerModelsDistribution | Info ] : \u001b[22m\u001b[39mRedirecting to 'transformers.dss' on line 5 in 'Master.dss'\n",
      "\u001b[36m\u001b[1m[ \u001b[22m\u001b[39m\u001b[36m\u001b[1mPowerModelsDistribution | Info ] : \u001b[22m\u001b[39mRedirecting to 'p22uhs6_1247--p22udt5736/transformers.dss' on line 6 in 'Transformers.dss'\n",
      "\u001b[36m\u001b[1m[ \u001b[22m\u001b[39m\u001b[36m\u001b[1mPowerModelsDistribution | Info ] : \u001b[22m\u001b[39mRedirecting to 'p22uhs6_1247--p22udt9241/transformers.dss' on line 7 in 'Transformers.dss'\n",
      "\u001b[36m\u001b[1m[ \u001b[22m\u001b[39m\u001b[36m\u001b[1mPowerModelsDistribution | Info ] : \u001b[22m\u001b[39mRedirecting to 'p22uhs6_1247--p22udt8374/transformers.dss' on line 8 in 'Transformers.dss'\n",
      "\u001b[36m\u001b[1m[ \u001b[22m\u001b[39m\u001b[36m\u001b[1mPowerModelsDistribution | Info ] : \u001b[22m\u001b[39mRedirecting to 'p22uhs6_1247--p22udt8441/transformers.dss' on line 9 in 'Transformers.dss'\n",
      "\u001b[36m\u001b[1m[ \u001b[22m\u001b[39m\u001b[36m\u001b[1mPowerModelsDistribution | Info ] : \u001b[22m\u001b[39mRedirecting to 'p22uhs6_1247--p22udt8384/transformers.dss' on line 10 in 'Transformers.dss'\n",
      "\u001b[36m\u001b[1m[ \u001b[22m\u001b[39m\u001b[36m\u001b[1mPowerModelsDistribution | Info ] : \u001b[22m\u001b[39mRedirecting to 'p22uhs6_1247--p22udt9298/transformers.dss' on line 11 in 'Transformers.dss'\n",
      "\u001b[36m\u001b[1m[ \u001b[22m\u001b[39m\u001b[36m\u001b[1mPowerModelsDistribution | Info ] : \u001b[22m\u001b[39mRedirecting to 'p22uhs6_1247--p22udt8415/transformers.dss' on line 12 in 'Transformers.dss'\n",
      "\u001b[36m\u001b[1m[ \u001b[22m\u001b[39m\u001b[36m\u001b[1mPowerModelsDistribution | Info ] : \u001b[22m\u001b[39mRedirecting to 'regulators.dss' on line 13 in 'Transformers.dss'\n",
      "\u001b[36m\u001b[1m[ \u001b[22m\u001b[39m\u001b[36m\u001b[1mPowerModelsDistribution | Info ] : \u001b[22m\u001b[39mRedirecting to 'p22uhs6_1247--p22udt5736/loads.dss' on line 14 in 'Regulators.dss'\n",
      "\u001b[36m\u001b[1m[ \u001b[22m\u001b[39m\u001b[36m\u001b[1mPowerModelsDistribution | Info ] : \u001b[22m\u001b[39mRedirecting to 'p22uhs6_1247--p22udt9241/loads.dss' on line 15 in 'Loads.dss'\n",
      "\u001b[36m\u001b[1m[ \u001b[22m\u001b[39m\u001b[36m\u001b[1mPowerModelsDistribution | Info ] : \u001b[22m\u001b[39mRedirecting to 'p22uhs6_1247--p22udt8374/loads.dss' on line 16 in 'Loads.dss'\n",
      "\u001b[36m\u001b[1m[ \u001b[22m\u001b[39m\u001b[36m\u001b[1mPowerModelsDistribution | Info ] : \u001b[22m\u001b[39mRedirecting to 'p22uhs6_1247--p22udt8441/loads.dss' on line 17 in 'Loads.dss'\n",
      "\u001b[36m\u001b[1m[ \u001b[22m\u001b[39m\u001b[36m\u001b[1mPowerModelsDistribution | Info ] : \u001b[22m\u001b[39mRedirecting to 'p22uhs6_1247--p22udt8384/loads.dss' on line 18 in 'Loads.dss'\n",
      "\u001b[36m\u001b[1m[ \u001b[22m\u001b[39m\u001b[36m\u001b[1mPowerModelsDistribution | Info ] : \u001b[22m\u001b[39mRedirecting to 'p22uhs6_1247--p22udt9298/loads.dss' on line 19 in 'Loads.dss'\n",
      "\u001b[36m\u001b[1m[ \u001b[22m\u001b[39m\u001b[36m\u001b[1mPowerModelsDistribution | Info ] : \u001b[22m\u001b[39mRedirecting to 'p22uhs6_1247--p22udt8415/loads.dss' on line 20 in 'Loads.dss'\n",
      "\u001b[36m\u001b[1m[ \u001b[22m\u001b[39m\u001b[36m\u001b[1mPowerModelsDistribution | Info ] : \u001b[22m\u001b[39mRedirecting to 'linecodes.dss' on line 21 in 'Loads.dss'\n",
      "\u001b[36m\u001b[1m[ \u001b[22m\u001b[39m\u001b[36m\u001b[1mPowerModelsDistribution | Info ] : \u001b[22m\u001b[39mRedirecting to 'p22uhs6_1247--p22udt5736/linecodes.dss' on line 22 in 'LineCodes.dss'\n",
      "\u001b[36m\u001b[1m[ \u001b[22m\u001b[39m\u001b[36m\u001b[1mPowerModelsDistribution | Info ] : \u001b[22m\u001b[39mRedirecting to 'p22uhs6_1247--p22udt9241/linecodes.dss' on line 23 in 'LineCodes.dss'\n",
      "\u001b[36m\u001b[1m[ \u001b[22m\u001b[39m\u001b[36m\u001b[1mPowerModelsDistribution | Info ] : \u001b[22m\u001b[39mRedirecting to 'p22uhs6_1247--p22udt8374/linecodes.dss' on line 24 in 'LineCodes.dss'\n",
      "\u001b[36m\u001b[1m[ \u001b[22m\u001b[39m\u001b[36m\u001b[1mPowerModelsDistribution | Info ] : \u001b[22m\u001b[39mRedirecting to 'p22uhs6_1247--p22udt8441/linecodes.dss' on line 25 in 'LineCodes.dss'\n",
      "\u001b[36m\u001b[1m[ \u001b[22m\u001b[39m\u001b[36m\u001b[1mPowerModelsDistribution | Info ] : \u001b[22m\u001b[39mRedirecting to 'p22uhs6_1247--p22udt8384/linecodes.dss' on line 26 in 'LineCodes.dss'\n",
      "\u001b[36m\u001b[1m[ \u001b[22m\u001b[39m\u001b[36m\u001b[1mPowerModelsDistribution | Info ] : \u001b[22m\u001b[39mRedirecting to 'p22uhs6_1247--p22udt9298/linecodes.dss' on line 27 in 'LineCodes.dss'\n",
      "\u001b[36m\u001b[1m[ \u001b[22m\u001b[39m\u001b[36m\u001b[1mPowerModelsDistribution | Info ] : \u001b[22m\u001b[39mRedirecting to 'p22uhs6_1247--p22udt8415/linecodes.dss' on line 28 in 'LineCodes.dss'\n",
      "\u001b[36m\u001b[1m[ \u001b[22m\u001b[39m\u001b[36m\u001b[1mPowerModelsDistribution | Info ] : \u001b[22m\u001b[39mRedirecting to 'lines.dss' on line 29 in 'LineCodes.dss'\n",
      "\u001b[36m\u001b[1m[ \u001b[22m\u001b[39m\u001b[36m\u001b[1mPowerModelsDistribution | Info ] : \u001b[22m\u001b[39mRedirecting to 'p22uhs6_1247--p22udt5736/lines.dss' on line 30 in 'Lines.dss'\n",
      "\u001b[36m\u001b[1m[ \u001b[22m\u001b[39m\u001b[36m\u001b[1mPowerModelsDistribution | Info ] : \u001b[22m\u001b[39mRedirecting to 'p22uhs6_1247--p22udt9241/lines.dss' on line 31 in 'Lines.dss'\n",
      "\u001b[36m\u001b[1m[ \u001b[22m\u001b[39m\u001b[36m\u001b[1mPowerModelsDistribution | Info ] : \u001b[22m\u001b[39mRedirecting to 'p22uhs6_1247--p22udt8374/lines.dss' on line 32 in 'Lines.dss'\n",
      "\u001b[36m\u001b[1m[ \u001b[22m\u001b[39m\u001b[36m\u001b[1mPowerModelsDistribution | Info ] : \u001b[22m\u001b[39mRedirecting to 'p22uhs6_1247--p22udt8441/lines.dss' on line 33 in 'Lines.dss'\n",
      "\u001b[36m\u001b[1m[ \u001b[22m\u001b[39m\u001b[36m\u001b[1mPowerModelsDistribution | Info ] : \u001b[22m\u001b[39mRedirecting to 'p22uhs6_1247--p22udt8384/lines.dss' on line 34 in 'Lines.dss'\n",
      "\u001b[36m\u001b[1m[ \u001b[22m\u001b[39m\u001b[36m\u001b[1mPowerModelsDistribution | Info ] : \u001b[22m\u001b[39mRedirecting to 'p22uhs6_1247--p22udt9298/lines.dss' on line 35 in 'Lines.dss'\n",
      "\u001b[36m\u001b[1m[ \u001b[22m\u001b[39m\u001b[36m\u001b[1mPowerModelsDistribution | Info ] : \u001b[22m\u001b[39mRedirecting to 'p22uhs6_1247--p22udt8415/lines.dss' on line 36 in 'Lines.dss'\n",
      "\u001b[36m\u001b[1m[ \u001b[22m\u001b[39m\u001b[36m\u001b[1mPowerModelsDistribution | Info ] : \u001b[22m\u001b[39mRedirecting to 'p22uhs6_1247--p22udt5736/capacitors.dss' on line 37 in 'Lines.dss'\n",
      "\u001b[36m\u001b[1m[ \u001b[22m\u001b[39m\u001b[36m\u001b[1mPowerModelsDistribution | Info ] : \u001b[22m\u001b[39mRedirecting to 'p22uhs6_1247--p22udt9241/capacitors.dss' on line 38 in 'Capacitors.dss'\n",
      "\u001b[36m\u001b[1m[ \u001b[22m\u001b[39m\u001b[36m\u001b[1mPowerModelsDistribution | Info ] : \u001b[22m\u001b[39mRedirecting to 'p22uhs6_1247--p22udt8374/capacitors.dss' on line 39 in 'Capacitors.dss'\n",
      "\u001b[36m\u001b[1m[ \u001b[22m\u001b[39m\u001b[36m\u001b[1mPowerModelsDistribution | Info ] : \u001b[22m\u001b[39mRedirecting to 'p22uhs6_1247--p22udt8441/capacitors.dss' on line 40 in 'Capacitors.dss'\n",
      "\u001b[36m\u001b[1m[ \u001b[22m\u001b[39m\u001b[36m\u001b[1mPowerModelsDistribution | Info ] : \u001b[22m\u001b[39mRedirecting to 'p22uhs6_1247--p22udt8384/capacitors.dss' on line 41 in 'Capacitors.dss'\n",
      "\u001b[36m\u001b[1m[ \u001b[22m\u001b[39m\u001b[36m\u001b[1mPowerModelsDistribution | Info ] : \u001b[22m\u001b[39mRedirecting to 'p22uhs6_1247--p22udt9298/capacitors.dss' on line 42 in 'Capacitors.dss'\n",
      "\u001b[36m\u001b[1m[ \u001b[22m\u001b[39m\u001b[36m\u001b[1mPowerModelsDistribution | Info ] : \u001b[22m\u001b[39mRedirecting to 'p22uhs6_1247--p22udt8415/capacitors.dss' on line 43 in 'Capacitors.dss'\n",
      "\u001b[36m\u001b[1m[ \u001b[22m\u001b[39m\u001b[36m\u001b[1mPowerModelsDistribution | Info ] : \u001b[22m\u001b[39mCommand 'calcvoltagebases' on line 47 in 'Master.dss' is not supported, skipping.\n",
      "\u001b[36m\u001b[1m[ \u001b[22m\u001b[39m\u001b[36m\u001b[1mPowerModelsDistribution | Info ] : \u001b[22m\u001b[39mReading Buscoords in 'buscoords.dss' on line 49 in 'Capacitors.dss'\n",
      "\u001b[36m\u001b[1m[ \u001b[22m\u001b[39m\u001b[36m\u001b[1mPowerModelsDistribution | Info ] : \u001b[22m\u001b[39mCommand 'solve' on line 51 in 'Master.dss' is not supported, skipping.\n",
      "\u001b[36m\u001b[1m[ \u001b[22m\u001b[39m\u001b[36m\u001b[1mPowerModelsDistribution | Info ] : \u001b[22m\u001b[39mbasemva=100 is the default value, you may want to adjust sbase_default for better convergence\n"
     ]
    },
    {
     "name": "stdout",
     "output_type": "stream",
     "text": [
      "2381.986442 seconds (454.08 M allocations: 13.473 GiB, 0.17% gc time)\n",
      "p22uhs0_1247"
     ]
    },
    {
     "name": "stderr",
     "output_type": "stream",
     "text": [
      "\u001b[36m\u001b[1m[ \u001b[22m\u001b[39m\u001b[36m\u001b[1mPowerModelsDistribution | Info ] : \u001b[22m\u001b[39mno generators found in the given network data, disabling island\n",
      "\u001b[36m\u001b[1m[ \u001b[22m\u001b[39m\u001b[36m\u001b[1mPowerModelsDistribution | Info ] : \u001b[22m\u001b[39mno generators found in the given network data, disabling island\n",
      "\u001b[36m\u001b[1m[ \u001b[22m\u001b[39m\u001b[36m\u001b[1mPowerModelsDistribution | Info ] : \u001b[22m\u001b[39mno generators found in the given network data, disabling island\n",
      "\u001b[36m\u001b[1m[ \u001b[22m\u001b[39m\u001b[36m\u001b[1mPowerModelsDistribution | Info ] : \u001b[22m\u001b[39mno generators found in the given network data, disabling island\n"
     ]
    },
    {
     "name": "stdout",
     "output_type": "stream",
     "text": [
      "\n"
     ]
    },
    {
     "name": "stderr",
     "output_type": "stream",
     "text": [
      "\u001b[36m\u001b[1m[ \u001b[22m\u001b[39m\u001b[36m\u001b[1mPowerModelsDistribution | Info ] : \u001b[22m\u001b[39mCircuit has been reset with the 'clear' on line 1 in 'Master.dss'\n",
      "\u001b[36m\u001b[1m[ \u001b[22m\u001b[39m\u001b[36m\u001b[1mPowerModelsDistribution | Info ] : \u001b[22m\u001b[39mRedirecting to 'transformers.dss' on line 5 in 'Master.dss'\n",
      "\u001b[36m\u001b[1m[ \u001b[22m\u001b[39m\u001b[36m\u001b[1mPowerModelsDistribution | Info ] : \u001b[22m\u001b[39mRedirecting to 'p22uhs0_1247--p22udt1177/transformers.dss' on line 6 in 'Transformers.dss'\n",
      "\u001b[36m\u001b[1m[ \u001b[22m\u001b[39m\u001b[36m\u001b[1mPowerModelsDistribution | Info ] : \u001b[22m\u001b[39mRedirecting to 'p22uhs0_1247--p22udt1231/transformers.dss' on line 7 in 'Transformers.dss'\n",
      "\u001b[36m\u001b[1m[ \u001b[22m\u001b[39m\u001b[36m\u001b[1mPowerModelsDistribution | Info ] : \u001b[22m\u001b[39mRedirecting to 'p22uhs0_1247--p22udt287/transformers.dss' on line 8 in 'Transformers.dss'\n",
      "\u001b[36m\u001b[1m[ \u001b[22m\u001b[39m\u001b[36m\u001b[1mPowerModelsDistribution | Info ] : \u001b[22m\u001b[39mRedirecting to 'regulators.dss' on line 9 in 'Transformers.dss'\n",
      "\u001b[36m\u001b[1m[ \u001b[22m\u001b[39m\u001b[36m\u001b[1mPowerModelsDistribution | Info ] : \u001b[22m\u001b[39mRedirecting to 'p22uhs0_1247--p22udt1177/loads.dss' on line 10 in 'Regulators.dss'\n",
      "\u001b[36m\u001b[1m[ \u001b[22m\u001b[39m\u001b[36m\u001b[1mPowerModelsDistribution | Info ] : \u001b[22m\u001b[39mRedirecting to 'p22uhs0_1247--p22udt1231/loads.dss' on line 11 in 'Loads.dss'\n",
      "\u001b[36m\u001b[1m[ \u001b[22m\u001b[39m\u001b[36m\u001b[1mPowerModelsDistribution | Info ] : \u001b[22m\u001b[39mRedirecting to 'p22uhs0_1247--p22udt287/loads.dss' on line 12 in 'Loads.dss'\n",
      "\u001b[36m\u001b[1m[ \u001b[22m\u001b[39m\u001b[36m\u001b[1mPowerModelsDistribution | Info ] : \u001b[22m\u001b[39mRedirecting to 'linecodes.dss' on line 13 in 'Loads.dss'\n",
      "\u001b[36m\u001b[1m[ \u001b[22m\u001b[39m\u001b[36m\u001b[1mPowerModelsDistribution | Info ] : \u001b[22m\u001b[39mRedirecting to 'p22uhs0_1247--p22udt1177/linecodes.dss' on line 14 in 'LineCodes.dss'\n",
      "\u001b[36m\u001b[1m[ \u001b[22m\u001b[39m\u001b[36m\u001b[1mPowerModelsDistribution | Info ] : \u001b[22m\u001b[39mRedirecting to 'p22uhs0_1247--p22udt1231/linecodes.dss' on line 15 in 'LineCodes.dss'\n",
      "\u001b[36m\u001b[1m[ \u001b[22m\u001b[39m\u001b[36m\u001b[1mPowerModelsDistribution | Info ] : \u001b[22m\u001b[39mRedirecting to 'p22uhs0_1247--p22udt287/linecodes.dss' on line 16 in 'LineCodes.dss'\n",
      "\u001b[36m\u001b[1m[ \u001b[22m\u001b[39m\u001b[36m\u001b[1mPowerModelsDistribution | Info ] : \u001b[22m\u001b[39mRedirecting to 'lines.dss' on line 17 in 'LineCodes.dss'\n",
      "\u001b[36m\u001b[1m[ \u001b[22m\u001b[39m\u001b[36m\u001b[1mPowerModelsDistribution | Info ] : \u001b[22m\u001b[39mRedirecting to 'p22uhs0_1247--p22udt1177/lines.dss' on line 18 in 'Lines.dss'\n",
      "\u001b[36m\u001b[1m[ \u001b[22m\u001b[39m\u001b[36m\u001b[1mPowerModelsDistribution | Info ] : \u001b[22m\u001b[39mRedirecting to 'p22uhs0_1247--p22udt1231/lines.dss' on line 19 in 'Lines.dss'\n",
      "\u001b[36m\u001b[1m[ \u001b[22m\u001b[39m\u001b[36m\u001b[1mPowerModelsDistribution | Info ] : \u001b[22m\u001b[39mRedirecting to 'p22uhs0_1247--p22udt287/lines.dss' on line 20 in 'Lines.dss'\n",
      "\u001b[36m\u001b[1m[ \u001b[22m\u001b[39m\u001b[36m\u001b[1mPowerModelsDistribution | Info ] : \u001b[22m\u001b[39mRedirecting to 'p22uhs0_1247--p22udt1177/capacitors.dss' on line 21 in 'Lines.dss'\n",
      "\u001b[36m\u001b[1m[ \u001b[22m\u001b[39m\u001b[36m\u001b[1mPowerModelsDistribution | Info ] : \u001b[22m\u001b[39mRedirecting to 'p22uhs0_1247--p22udt287/capacitors.dss' on line 22 in 'Capacitors.dss'\n",
      "\u001b[36m\u001b[1m[ \u001b[22m\u001b[39m\u001b[36m\u001b[1mPowerModelsDistribution | Info ] : \u001b[22m\u001b[39mCommand 'calcvoltagebases' on line 26 in 'Master.dss' is not supported, skipping.\n",
      "\u001b[36m\u001b[1m[ \u001b[22m\u001b[39m\u001b[36m\u001b[1mPowerModelsDistribution | Info ] : \u001b[22m\u001b[39mReading Buscoords in 'buscoords.dss' on line 28 in 'Capacitors.dss'\n",
      "\u001b[36m\u001b[1m[ \u001b[22m\u001b[39m\u001b[36m\u001b[1mPowerModelsDistribution | Info ] : \u001b[22m\u001b[39mCommand 'solve' on line 30 in 'Master.dss' is not supported, skipping.\n",
      "\u001b[36m\u001b[1m[ \u001b[22m\u001b[39m\u001b[36m\u001b[1mPowerModelsDistribution | Info ] : \u001b[22m\u001b[39mbasemva=100 is the default value, you may want to adjust sbase_default for better convergence\n",
      "\u001b[36m\u001b[1m[ \u001b[22m\u001b[39m\u001b[36m\u001b[1mPowerModelsDistribution | Info ] : \u001b[22m\u001b[39mno generators found in the given network data, disabling island\n"
     ]
    },
    {
     "name": "stdout",
     "output_type": "stream",
     "text": [
      "7236.028176 seconds (979.77 M allocations: 28.823 GiB, 0.14% gc time)\n",
      "p22uhs10_1247"
     ]
    },
    {
     "name": "stderr",
     "output_type": "stream",
     "text": [
      "\u001b[36m\u001b[1m[ \u001b[22m\u001b[39m\u001b[36m\u001b[1mPowerModelsDistribution | Info ] : \u001b[22m\u001b[39mno generators found in the given network data, disabling island\n",
      "\u001b[36m\u001b[1m[ \u001b[22m\u001b[39m\u001b[36m\u001b[1mPowerModelsDistribution | Info ] : \u001b[22m\u001b[39mno generators found in the given network data, disabling island\n",
      "\u001b[36m\u001b[1m[ \u001b[22m\u001b[39m\u001b[36m\u001b[1mPowerModelsDistribution | Info ] : \u001b[22m\u001b[39mno generators found in the given network data, disabling island\n",
      "\u001b[36m\u001b[1m[ \u001b[22m\u001b[39m\u001b[36m\u001b[1mPowerModelsDistribution | Info ] : \u001b[22m\u001b[39mno generators found in the given network data, disabling island\n",
      "\u001b[36m\u001b[1m[ \u001b[22m\u001b[39m\u001b[36m\u001b[1mPowerModelsDistribution | Info ] : \u001b[22m\u001b[39mno generators found in the given network data, disabling island\n",
      "\u001b[36m\u001b[1m[ \u001b[22m\u001b[39m\u001b[36m\u001b[1mPowerModelsDistribution | Info ] : \u001b[22m\u001b[39mno generators found in the given network data, disabling island\n",
      "\u001b[36m\u001b[1m[ \u001b[22m\u001b[39m\u001b[36m\u001b[1mPowerModelsDistribution | Info ] : \u001b[22m\u001b[39mno generators found in the given network data, disabling island\n",
      "\u001b[36m\u001b[1m[ \u001b[22m\u001b[39m\u001b[36m\u001b[1mPowerModelsDistribution | Info ] : \u001b[22m\u001b[39mno generators found in the given network data, disabling island\n",
      "\u001b[36m\u001b[1m[ \u001b[22m\u001b[39m\u001b[36m\u001b[1mPowerModelsDistribution | Info ] : \u001b[22m\u001b[39mno generators found in the given network data, disabling island\n"
     ]
    },
    {
     "name": "stdout",
     "output_type": "stream",
     "text": [
      "\n"
     ]
    },
    {
     "name": "stderr",
     "output_type": "stream",
     "text": [
      "\u001b[36m\u001b[1m[ \u001b[22m\u001b[39m\u001b[36m\u001b[1mPowerModelsDistribution | Info ] : \u001b[22m\u001b[39mCircuit has been reset with the 'clear' on line 1 in 'Master.dss'\n",
      "\u001b[36m\u001b[1m[ \u001b[22m\u001b[39m\u001b[36m\u001b[1mPowerModelsDistribution | Info ] : \u001b[22m\u001b[39mRedirecting to 'transformers.dss' on line 5 in 'Master.dss'\n",
      "\u001b[36m\u001b[1m[ \u001b[22m\u001b[39m\u001b[36m\u001b[1mPowerModelsDistribution | Info ] : \u001b[22m\u001b[39mRedirecting to 'p22uhs10_1247--p22udt6885/transformers.dss' on line 6 in 'Transformers.dss'\n",
      "\u001b[36m\u001b[1m[ \u001b[22m\u001b[39m\u001b[36m\u001b[1mPowerModelsDistribution | Info ] : \u001b[22m\u001b[39mRedirecting to 'p22uhs10_1247--p22udt11290/transformers.dss' on line 7 in 'Transformers.dss'\n",
      "\u001b[36m\u001b[1m[ \u001b[22m\u001b[39m\u001b[36m\u001b[1mPowerModelsDistribution | Info ] : \u001b[22m\u001b[39mRedirecting to 'p22uhs10_1247--p22udt11295/transformers.dss' on line 8 in 'Transformers.dss'\n",
      "\u001b[36m\u001b[1m[ \u001b[22m\u001b[39m\u001b[36m\u001b[1mPowerModelsDistribution | Info ] : \u001b[22m\u001b[39mRedirecting to 'regulators.dss' on line 9 in 'Transformers.dss'\n",
      "\u001b[36m\u001b[1m[ \u001b[22m\u001b[39m\u001b[36m\u001b[1mPowerModelsDistribution | Info ] : \u001b[22m\u001b[39mRedirecting to 'p22uhs10_1247--p22udt6885/loads.dss' on line 10 in 'Regulators.dss'\n",
      "\u001b[36m\u001b[1m[ \u001b[22m\u001b[39m\u001b[36m\u001b[1mPowerModelsDistribution | Info ] : \u001b[22m\u001b[39mRedirecting to 'p22uhs10_1247--p22udt11290/loads.dss' on line 11 in 'Loads.dss'\n",
      "\u001b[36m\u001b[1m[ \u001b[22m\u001b[39m\u001b[36m\u001b[1mPowerModelsDistribution | Info ] : \u001b[22m\u001b[39mRedirecting to 'p22uhs10_1247--p22udt11295/loads.dss' on line 12 in 'Loads.dss'\n",
      "\u001b[36m\u001b[1m[ \u001b[22m\u001b[39m\u001b[36m\u001b[1mPowerModelsDistribution | Info ] : \u001b[22m\u001b[39mRedirecting to 'linecodes.dss' on line 13 in 'Loads.dss'\n",
      "\u001b[36m\u001b[1m[ \u001b[22m\u001b[39m\u001b[36m\u001b[1mPowerModelsDistribution | Info ] : \u001b[22m\u001b[39mRedirecting to 'p22uhs10_1247--p22udt11290/linecodes.dss' on line 14 in 'LineCodes.dss'\n",
      "\u001b[36m\u001b[1m[ \u001b[22m\u001b[39m\u001b[36m\u001b[1mPowerModelsDistribution | Info ] : \u001b[22m\u001b[39mRedirecting to 'p22uhs10_1247--p22udt6885/linecodes.dss' on line 15 in 'LineCodes.dss'\n",
      "\u001b[36m\u001b[1m[ \u001b[22m\u001b[39m\u001b[36m\u001b[1mPowerModelsDistribution | Info ] : \u001b[22m\u001b[39mRedirecting to 'p22uhs10_1247--p22udt11295/linecodes.dss' on line 16 in 'LineCodes.dss'\n",
      "\u001b[36m\u001b[1m[ \u001b[22m\u001b[39m\u001b[36m\u001b[1mPowerModelsDistribution | Info ] : \u001b[22m\u001b[39mRedirecting to 'lines.dss' on line 17 in 'LineCodes.dss'\n",
      "\u001b[36m\u001b[1m[ \u001b[22m\u001b[39m\u001b[36m\u001b[1mPowerModelsDistribution | Info ] : \u001b[22m\u001b[39mRedirecting to 'p22uhs10_1247--p22udt11290/lines.dss' on line 18 in 'Lines.dss'\n",
      "\u001b[36m\u001b[1m[ \u001b[22m\u001b[39m\u001b[36m\u001b[1mPowerModelsDistribution | Info ] : \u001b[22m\u001b[39mRedirecting to 'p22uhs10_1247--p22udt6885/lines.dss' on line 19 in 'Lines.dss'\n",
      "\u001b[36m\u001b[1m[ \u001b[22m\u001b[39m\u001b[36m\u001b[1mPowerModelsDistribution | Info ] : \u001b[22m\u001b[39mRedirecting to 'p22uhs10_1247--p22udt11295/lines.dss' on line 20 in 'Lines.dss'\n",
      "\u001b[36m\u001b[1m[ \u001b[22m\u001b[39m\u001b[36m\u001b[1mPowerModelsDistribution | Info ] : \u001b[22m\u001b[39mRedirecting to 'p22uhs10_1247--p22udt11290/capacitors.dss' on line 21 in 'Lines.dss'\n",
      "\u001b[36m\u001b[1m[ \u001b[22m\u001b[39m\u001b[36m\u001b[1mPowerModelsDistribution | Info ] : \u001b[22m\u001b[39mRedirecting to 'p22uhs10_1247--p22udt6885/capacitors.dss' on line 22 in 'Capacitors.dss'\n",
      "\u001b[36m\u001b[1m[ \u001b[22m\u001b[39m\u001b[36m\u001b[1mPowerModelsDistribution | Info ] : \u001b[22m\u001b[39mRedirecting to 'p22uhs10_1247--p22udt11295/capacitors.dss' on line 23 in 'Capacitors.dss'\n",
      "\u001b[36m\u001b[1m[ \u001b[22m\u001b[39m\u001b[36m\u001b[1mPowerModelsDistribution | Info ] : \u001b[22m\u001b[39mCommand 'calcvoltagebases' on line 27 in 'Master.dss' is not supported, skipping.\n",
      "\u001b[36m\u001b[1m[ \u001b[22m\u001b[39m\u001b[36m\u001b[1mPowerModelsDistribution | Info ] : \u001b[22m\u001b[39mReading Buscoords in 'buscoords.dss' on line 29 in 'Capacitors.dss'\n",
      "\u001b[36m\u001b[1m[ \u001b[22m\u001b[39m\u001b[36m\u001b[1mPowerModelsDistribution | Info ] : \u001b[22m\u001b[39mCommand 'solve' on line 31 in 'Master.dss' is not supported, skipping.\n",
      "\u001b[36m\u001b[1m[ \u001b[22m\u001b[39m\u001b[36m\u001b[1mPowerModelsDistribution | Info ] : \u001b[22m\u001b[39mbasemva=100 is the default value, you may want to adjust sbase_default for better convergence\n",
      "\u001b[36m\u001b[1m[ \u001b[22m\u001b[39m\u001b[36m\u001b[1mPowerModelsDistribution | Info ] : \u001b[22m\u001b[39mno generators found in the given network data, disabling island\n",
      "\u001b[36m\u001b[1m[ \u001b[22m\u001b[39m\u001b[36m\u001b[1mPowerModelsDistribution | Info ] : \u001b[22m\u001b[39mno generators found in the given network data, disabling island\n",
      "\u001b[36m\u001b[1m[ \u001b[22m\u001b[39m\u001b[36m\u001b[1mPowerModelsDistribution | Info ] : \u001b[22m\u001b[39mno generators found in the given network data, disabling island\n",
      "\u001b[36m\u001b[1m[ \u001b[22m\u001b[39m\u001b[36m\u001b[1mPowerModelsDistribution | Info ] : \u001b[22m\u001b[39mno generators found in the given network data, disabling island\n",
      "\u001b[36m\u001b[1m[ \u001b[22m\u001b[39m\u001b[36m\u001b[1mPowerModelsDistribution | Info ] : \u001b[22m\u001b[39mno generators found in the given network data, disabling island\n",
      "\u001b[36m\u001b[1m[ \u001b[22m\u001b[39m\u001b[36m\u001b[1mPowerModelsDistribution | Info ] : \u001b[22m\u001b[39mno generators found in the given network data, disabling island\n"
     ]
    },
    {
     "name": "stdout",
     "output_type": "stream",
     "text": [
      "8388.942172 seconds (1.71 G allocations: 50.114 GiB, 0.18% gc time)\n",
      "p22uhs11_1247"
     ]
    },
    {
     "name": "stderr",
     "output_type": "stream",
     "text": [
      "\u001b[36m\u001b[1m[ \u001b[22m\u001b[39m\u001b[36m\u001b[1mPowerModelsDistribution | Info ] : \u001b[22m\u001b[39mno generators found in the given network data, disabling island\n"
     ]
    },
    {
     "name": "stdout",
     "output_type": "stream",
     "text": [
      "\n"
     ]
    },
    {
     "name": "stderr",
     "output_type": "stream",
     "text": [
      "\u001b[36m\u001b[1m[ \u001b[22m\u001b[39m\u001b[36m\u001b[1mPowerModelsDistribution | Info ] : \u001b[22m\u001b[39mCircuit has been reset with the 'clear' on line 1 in 'Master.dss'\n",
      "\u001b[36m\u001b[1m[ \u001b[22m\u001b[39m\u001b[36m\u001b[1mPowerModelsDistribution | Info ] : \u001b[22m\u001b[39mRedirecting to 'transformers.dss' on line 5 in 'Master.dss'\n",
      "\u001b[36m\u001b[1m[ \u001b[22m\u001b[39m\u001b[36m\u001b[1mPowerModelsDistribution | Info ] : \u001b[22m\u001b[39mRedirecting to 'p22uhs11_1247--p22udt11081/transformers.dss' on line 6 in 'Transformers.dss'\n",
      "\u001b[36m\u001b[1m[ \u001b[22m\u001b[39m\u001b[36m\u001b[1mPowerModelsDistribution | Info ] : \u001b[22m\u001b[39mRedirecting to 'p22uhs11_1247--p22udt5241/transformers.dss' on line 7 in 'Transformers.dss'\n",
      "\u001b[36m\u001b[1m[ \u001b[22m\u001b[39m\u001b[36m\u001b[1mPowerModelsDistribution | Info ] : \u001b[22m\u001b[39mRedirecting to 'p22uhs11_1247--p22udt10627/transformers.dss' on line 8 in 'Transformers.dss'\n",
      "\u001b[36m\u001b[1m[ \u001b[22m\u001b[39m\u001b[36m\u001b[1mPowerModelsDistribution | Info ] : \u001b[22m\u001b[39mRedirecting to 'p22uhs11_1247--p22udt5265/transformers.dss' on line 9 in 'Transformers.dss'\n",
      "\u001b[36m\u001b[1m[ \u001b[22m\u001b[39m\u001b[36m\u001b[1mPowerModelsDistribution | Info ] : \u001b[22m\u001b[39mRedirecting to 'p22uhs11_1247--p22udt11531/transformers.dss' on line 10 in 'Transformers.dss'\n",
      "\u001b[36m\u001b[1m[ \u001b[22m\u001b[39m\u001b[36m\u001b[1mPowerModelsDistribution | Info ] : \u001b[22m\u001b[39mRedirecting to 'regulators.dss' on line 11 in 'Transformers.dss'\n",
      "\u001b[36m\u001b[1m[ \u001b[22m\u001b[39m\u001b[36m\u001b[1mPowerModelsDistribution | Info ] : \u001b[22m\u001b[39mRedirecting to 'p22uhs11_1247--p22udt11081/loads.dss' on line 12 in 'Regulators.dss'\n",
      "\u001b[36m\u001b[1m[ \u001b[22m\u001b[39m\u001b[36m\u001b[1mPowerModelsDistribution | Info ] : \u001b[22m\u001b[39mRedirecting to 'p22uhs11_1247--p22udt5241/loads.dss' on line 13 in 'Loads.dss'\n",
      "\u001b[36m\u001b[1m[ \u001b[22m\u001b[39m\u001b[36m\u001b[1mPowerModelsDistribution | Info ] : \u001b[22m\u001b[39mRedirecting to 'p22uhs11_1247--p22udt10627/loads.dss' on line 14 in 'Loads.dss'\n",
      "\u001b[36m\u001b[1m[ \u001b[22m\u001b[39m\u001b[36m\u001b[1mPowerModelsDistribution | Info ] : \u001b[22m\u001b[39mRedirecting to 'p22uhs11_1247--p22udt5265/loads.dss' on line 15 in 'Loads.dss'\n",
      "\u001b[36m\u001b[1m[ \u001b[22m\u001b[39m\u001b[36m\u001b[1mPowerModelsDistribution | Info ] : \u001b[22m\u001b[39mRedirecting to 'p22uhs11_1247--p22udt11531/loads.dss' on line 16 in 'Loads.dss'\n",
      "\u001b[36m\u001b[1m[ \u001b[22m\u001b[39m\u001b[36m\u001b[1mPowerModelsDistribution | Info ] : \u001b[22m\u001b[39mRedirecting to 'linecodes.dss' on line 17 in 'Loads.dss'\n",
      "\u001b[36m\u001b[1m[ \u001b[22m\u001b[39m\u001b[36m\u001b[1mPowerModelsDistribution | Info ] : \u001b[22m\u001b[39mRedirecting to 'p22uhs11_1247--p22udt11081/linecodes.dss' on line 18 in 'LineCodes.dss'\n",
      "\u001b[36m\u001b[1m[ \u001b[22m\u001b[39m\u001b[36m\u001b[1mPowerModelsDistribution | Info ] : \u001b[22m\u001b[39mRedirecting to 'p22uhs11_1247--p22udt5241/linecodes.dss' on line 19 in 'LineCodes.dss'\n",
      "\u001b[36m\u001b[1m[ \u001b[22m\u001b[39m\u001b[36m\u001b[1mPowerModelsDistribution | Info ] : \u001b[22m\u001b[39mRedirecting to 'p22uhs11_1247--p22udt10627/linecodes.dss' on line 20 in 'LineCodes.dss'\n",
      "\u001b[36m\u001b[1m[ \u001b[22m\u001b[39m\u001b[36m\u001b[1mPowerModelsDistribution | Info ] : \u001b[22m\u001b[39mRedirecting to 'p22uhs11_1247--p22udt5265/linecodes.dss' on line 21 in 'LineCodes.dss'\n",
      "\u001b[36m\u001b[1m[ \u001b[22m\u001b[39m\u001b[36m\u001b[1mPowerModelsDistribution | Info ] : \u001b[22m\u001b[39mRedirecting to 'p22uhs11_1247--p22udt11531/linecodes.dss' on line 22 in 'LineCodes.dss'\n",
      "\u001b[36m\u001b[1m[ \u001b[22m\u001b[39m\u001b[36m\u001b[1mPowerModelsDistribution | Info ] : \u001b[22m\u001b[39mRedirecting to 'lines.dss' on line 23 in 'LineCodes.dss'\n",
      "\u001b[36m\u001b[1m[ \u001b[22m\u001b[39m\u001b[36m\u001b[1mPowerModelsDistribution | Info ] : \u001b[22m\u001b[39mRedirecting to 'p22uhs11_1247--p22udt11081/lines.dss' on line 24 in 'Lines.dss'\n",
      "\u001b[36m\u001b[1m[ \u001b[22m\u001b[39m\u001b[36m\u001b[1mPowerModelsDistribution | Info ] : \u001b[22m\u001b[39mRedirecting to 'p22uhs11_1247--p22udt5241/lines.dss' on line 25 in 'Lines.dss'\n",
      "\u001b[36m\u001b[1m[ \u001b[22m\u001b[39m\u001b[36m\u001b[1mPowerModelsDistribution | Info ] : \u001b[22m\u001b[39mRedirecting to 'p22uhs11_1247--p22udt10627/lines.dss' on line 26 in 'Lines.dss'\n",
      "\u001b[36m\u001b[1m[ \u001b[22m\u001b[39m\u001b[36m\u001b[1mPowerModelsDistribution | Info ] : \u001b[22m\u001b[39mRedirecting to 'p22uhs11_1247--p22udt5265/lines.dss' on line 27 in 'Lines.dss'\n",
      "\u001b[36m\u001b[1m[ \u001b[22m\u001b[39m\u001b[36m\u001b[1mPowerModelsDistribution | Info ] : \u001b[22m\u001b[39mRedirecting to 'p22uhs11_1247--p22udt11531/lines.dss' on line 28 in 'Lines.dss'\n",
      "\u001b[36m\u001b[1m[ \u001b[22m\u001b[39m\u001b[36m\u001b[1mPowerModelsDistribution | Info ] : \u001b[22m\u001b[39mRedirecting to 'p22uhs11_1247--p22udt11081/capacitors.dss' on line 29 in 'Lines.dss'\n",
      "\u001b[36m\u001b[1m[ \u001b[22m\u001b[39m\u001b[36m\u001b[1mPowerModelsDistribution | Info ] : \u001b[22m\u001b[39mRedirecting to 'p22uhs11_1247--p22udt5241/capacitors.dss' on line 30 in 'Capacitors.dss'\n",
      "\u001b[36m\u001b[1m[ \u001b[22m\u001b[39m\u001b[36m\u001b[1mPowerModelsDistribution | Info ] : \u001b[22m\u001b[39mRedirecting to 'p22uhs11_1247--p22udt10627/capacitors.dss' on line 31 in 'Capacitors.dss'\n",
      "\u001b[36m\u001b[1m[ \u001b[22m\u001b[39m\u001b[36m\u001b[1mPowerModelsDistribution | Info ] : \u001b[22m\u001b[39mRedirecting to 'p22uhs11_1247--p22udt5265/capacitors.dss' on line 32 in 'Capacitors.dss'\n",
      "\u001b[36m\u001b[1m[ \u001b[22m\u001b[39m\u001b[36m\u001b[1mPowerModelsDistribution | Info ] : \u001b[22m\u001b[39mRedirecting to 'p22uhs11_1247--p22udt11531/capacitors.dss' on line 33 in 'Capacitors.dss'\n",
      "\u001b[36m\u001b[1m[ \u001b[22m\u001b[39m\u001b[36m\u001b[1mPowerModelsDistribution | Info ] : \u001b[22m\u001b[39mCommand 'calcvoltagebases' on line 37 in 'Master.dss' is not supported, skipping.\n",
      "\u001b[36m\u001b[1m[ \u001b[22m\u001b[39m\u001b[36m\u001b[1mPowerModelsDistribution | Info ] : \u001b[22m\u001b[39mReading Buscoords in 'buscoords.dss' on line 39 in 'Capacitors.dss'\n",
      "\u001b[36m\u001b[1m[ \u001b[22m\u001b[39m\u001b[36m\u001b[1mPowerModelsDistribution | Info ] : \u001b[22m\u001b[39mCommand 'solve' on line 41 in 'Master.dss' is not supported, skipping.\n",
      "\u001b[36m\u001b[1m[ \u001b[22m\u001b[39m\u001b[36m\u001b[1mPowerModelsDistribution | Info ] : \u001b[22m\u001b[39mbasemva=100 is the default value, you may want to adjust sbase_default for better convergence\n",
      "\u001b[36m\u001b[1m[ \u001b[22m\u001b[39m\u001b[36m\u001b[1mPowerModelsDistribution | Info ] : \u001b[22m\u001b[39mno generators found in the given network data, disabling island\n",
      "\u001b[36m\u001b[1m[ \u001b[22m\u001b[39m\u001b[36m\u001b[1mPowerModelsDistribution | Info ] : \u001b[22m\u001b[39mno generators found in the given network data, disabling island\n",
      "\u001b[36m\u001b[1m[ \u001b[22m\u001b[39m\u001b[36m\u001b[1mPowerModelsDistribution | Info ] : \u001b[22m\u001b[39mno generators found in the given network data, disabling island\n",
      "\u001b[36m\u001b[1m[ \u001b[22m\u001b[39m\u001b[36m\u001b[1mPowerModelsDistribution | Info ] : \u001b[22m\u001b[39mno generators found in the given network data, disabling island\n"
     ]
    },
    {
     "name": "stdout",
     "output_type": "stream",
     "text": [
      "10108.767271 seconds (2.07 G allocations: 60.311 GiB, 0.25% gc time)\n",
      "p22uhs12_1247"
     ]
    },
    {
     "name": "stderr",
     "output_type": "stream",
     "text": [
      "\u001b[36m\u001b[1m[ \u001b[22m\u001b[39m\u001b[36m\u001b[1mPowerModelsDistribution | Info ] : \u001b[22m\u001b[39mno generators found in the given network data, disabling island\n",
      "\u001b[36m\u001b[1m[ \u001b[22m\u001b[39m\u001b[36m\u001b[1mPowerModelsDistribution | Info ] : \u001b[22m\u001b[39mno generators found in the given network data, disabling island\n",
      "\u001b[36m\u001b[1m[ \u001b[22m\u001b[39m\u001b[36m\u001b[1mPowerModelsDistribution | Info ] : \u001b[22m\u001b[39mno generators found in the given network data, disabling island\n"
     ]
    },
    {
     "name": "stdout",
     "output_type": "stream",
     "text": [
      "\n"
     ]
    },
    {
     "name": "stderr",
     "output_type": "stream",
     "text": [
      "\u001b[36m\u001b[1m[ \u001b[22m\u001b[39m\u001b[36m\u001b[1mPowerModelsDistribution | Info ] : \u001b[22m\u001b[39mCircuit has been reset with the 'clear' on line 1 in 'Master.dss'\n",
      "\u001b[36m\u001b[1m[ \u001b[22m\u001b[39m\u001b[36m\u001b[1mPowerModelsDistribution | Info ] : \u001b[22m\u001b[39mRedirecting to 'transformers.dss' on line 5 in 'Master.dss'\n",
      "\u001b[36m\u001b[1m[ \u001b[22m\u001b[39m\u001b[36m\u001b[1mPowerModelsDistribution | Info ] : \u001b[22m\u001b[39mRedirecting to 'p22uhs12_1247--p22udt13471/transformers.dss' on line 6 in 'Transformers.dss'\n",
      "\u001b[36m\u001b[1m[ \u001b[22m\u001b[39m\u001b[36m\u001b[1mPowerModelsDistribution | Info ] : \u001b[22m\u001b[39mRedirecting to 'p22uhs12_1247--p22udt15047/transformers.dss' on line 7 in 'Transformers.dss'\n",
      "\u001b[36m\u001b[1m[ \u001b[22m\u001b[39m\u001b[36m\u001b[1mPowerModelsDistribution | Info ] : \u001b[22m\u001b[39mRedirecting to 'p22uhs12_1247--p22udt13569/transformers.dss' on line 8 in 'Transformers.dss'\n",
      "\u001b[36m\u001b[1m[ \u001b[22m\u001b[39m\u001b[36m\u001b[1mPowerModelsDistribution | Info ] : \u001b[22m\u001b[39mRedirecting to 'p22uhs12_1247--p22udt12968/transformers.dss' on line 9 in 'Transformers.dss'\n",
      "\u001b[36m\u001b[1m[ \u001b[22m\u001b[39m\u001b[36m\u001b[1mPowerModelsDistribution | Info ] : \u001b[22m\u001b[39mRedirecting to 'p22uhs12_1247--p22udt12961/transformers.dss' on line 10 in 'Transformers.dss'\n",
      "\u001b[36m\u001b[1m[ \u001b[22m\u001b[39m\u001b[36m\u001b[1mPowerModelsDistribution | Info ] : \u001b[22m\u001b[39mRedirecting to 'p22uhs12_1247--p22udt13088/transformers.dss' on line 11 in 'Transformers.dss'\n",
      "\u001b[36m\u001b[1m[ \u001b[22m\u001b[39m\u001b[36m\u001b[1mPowerModelsDistribution | Info ] : \u001b[22m\u001b[39mRedirecting to 'regulators.dss' on line 12 in 'Transformers.dss'\n",
      "\u001b[36m\u001b[1m[ \u001b[22m\u001b[39m\u001b[36m\u001b[1mPowerModelsDistribution | Info ] : \u001b[22m\u001b[39mRedirecting to 'p22uhs12_1247--p22udt13471/loads.dss' on line 13 in 'Regulators.dss'\n",
      "\u001b[36m\u001b[1m[ \u001b[22m\u001b[39m\u001b[36m\u001b[1mPowerModelsDistribution | Info ] : \u001b[22m\u001b[39mRedirecting to 'p22uhs12_1247--p22udt15047/loads.dss' on line 14 in 'Loads.dss'\n",
      "\u001b[36m\u001b[1m[ \u001b[22m\u001b[39m\u001b[36m\u001b[1mPowerModelsDistribution | Info ] : \u001b[22m\u001b[39mRedirecting to 'p22uhs12_1247--p22udt13569/loads.dss' on line 15 in 'Loads.dss'\n",
      "\u001b[36m\u001b[1m[ \u001b[22m\u001b[39m\u001b[36m\u001b[1mPowerModelsDistribution | Info ] : \u001b[22m\u001b[39mRedirecting to 'p22uhs12_1247--p22udt12968/loads.dss' on line 16 in 'Loads.dss'\n",
      "\u001b[36m\u001b[1m[ \u001b[22m\u001b[39m\u001b[36m\u001b[1mPowerModelsDistribution | Info ] : \u001b[22m\u001b[39mRedirecting to 'p22uhs12_1247--p22udt12961/loads.dss' on line 17 in 'Loads.dss'\n",
      "\u001b[36m\u001b[1m[ \u001b[22m\u001b[39m\u001b[36m\u001b[1mPowerModelsDistribution | Info ] : \u001b[22m\u001b[39mRedirecting to 'p22uhs12_1247--p22udt13088/loads.dss' on line 18 in 'Loads.dss'\n",
      "\u001b[36m\u001b[1m[ \u001b[22m\u001b[39m\u001b[36m\u001b[1mPowerModelsDistribution | Info ] : \u001b[22m\u001b[39mRedirecting to 'linecodes.dss' on line 19 in 'Loads.dss'\n",
      "\u001b[36m\u001b[1m[ \u001b[22m\u001b[39m\u001b[36m\u001b[1mPowerModelsDistribution | Info ] : \u001b[22m\u001b[39mRedirecting to 'p22uhs12_1247--p22udt13471/linecodes.dss' on line 20 in 'LineCodes.dss'\n",
      "\u001b[36m\u001b[1m[ \u001b[22m\u001b[39m\u001b[36m\u001b[1mPowerModelsDistribution | Info ] : \u001b[22m\u001b[39mRedirecting to 'p22uhs12_1247--p22udt15047/linecodes.dss' on line 21 in 'LineCodes.dss'\n",
      "\u001b[36m\u001b[1m[ \u001b[22m\u001b[39m\u001b[36m\u001b[1mPowerModelsDistribution | Info ] : \u001b[22m\u001b[39mRedirecting to 'p22uhs12_1247--p22udt13569/linecodes.dss' on line 22 in 'LineCodes.dss'\n",
      "\u001b[36m\u001b[1m[ \u001b[22m\u001b[39m\u001b[36m\u001b[1mPowerModelsDistribution | Info ] : \u001b[22m\u001b[39mRedirecting to 'p22uhs12_1247--p22udt12968/linecodes.dss' on line 23 in 'LineCodes.dss'\n",
      "\u001b[36m\u001b[1m[ \u001b[22m\u001b[39m\u001b[36m\u001b[1mPowerModelsDistribution | Info ] : \u001b[22m\u001b[39mRedirecting to 'p22uhs12_1247--p22udt12961/linecodes.dss' on line 24 in 'LineCodes.dss'\n",
      "\u001b[36m\u001b[1m[ \u001b[22m\u001b[39m\u001b[36m\u001b[1mPowerModelsDistribution | Info ] : \u001b[22m\u001b[39mRedirecting to 'p22uhs12_1247--p22udt13088/linecodes.dss' on line 25 in 'LineCodes.dss'\n",
      "\u001b[36m\u001b[1m[ \u001b[22m\u001b[39m\u001b[36m\u001b[1mPowerModelsDistribution | Info ] : \u001b[22m\u001b[39mRedirecting to 'lines.dss' on line 26 in 'LineCodes.dss'\n",
      "\u001b[36m\u001b[1m[ \u001b[22m\u001b[39m\u001b[36m\u001b[1mPowerModelsDistribution | Info ] : \u001b[22m\u001b[39mRedirecting to 'p22uhs12_1247--p22udt13471/lines.dss' on line 27 in 'Lines.dss'\n",
      "\u001b[36m\u001b[1m[ \u001b[22m\u001b[39m\u001b[36m\u001b[1mPowerModelsDistribution | Info ] : \u001b[22m\u001b[39mRedirecting to 'p22uhs12_1247--p22udt15047/lines.dss' on line 28 in 'Lines.dss'\n",
      "\u001b[36m\u001b[1m[ \u001b[22m\u001b[39m\u001b[36m\u001b[1mPowerModelsDistribution | Info ] : \u001b[22m\u001b[39mRedirecting to 'p22uhs12_1247--p22udt13569/lines.dss' on line 29 in 'Lines.dss'\n",
      "\u001b[36m\u001b[1m[ \u001b[22m\u001b[39m\u001b[36m\u001b[1mPowerModelsDistribution | Info ] : \u001b[22m\u001b[39mRedirecting to 'p22uhs12_1247--p22udt12968/lines.dss' on line 30 in 'Lines.dss'\n",
      "\u001b[36m\u001b[1m[ \u001b[22m\u001b[39m\u001b[36m\u001b[1mPowerModelsDistribution | Info ] : \u001b[22m\u001b[39mRedirecting to 'p22uhs12_1247--p22udt12961/lines.dss' on line 31 in 'Lines.dss'\n",
      "\u001b[36m\u001b[1m[ \u001b[22m\u001b[39m\u001b[36m\u001b[1mPowerModelsDistribution | Info ] : \u001b[22m\u001b[39mRedirecting to 'p22uhs12_1247--p22udt13088/lines.dss' on line 32 in 'Lines.dss'\n",
      "\u001b[36m\u001b[1m[ \u001b[22m\u001b[39m\u001b[36m\u001b[1mPowerModelsDistribution | Info ] : \u001b[22m\u001b[39mRedirecting to 'p22uhs12_1247--p22udt13471/capacitors.dss' on line 33 in 'Lines.dss'\n",
      "\u001b[36m\u001b[1m[ \u001b[22m\u001b[39m\u001b[36m\u001b[1mPowerModelsDistribution | Info ] : \u001b[22m\u001b[39mRedirecting to 'p22uhs12_1247--p22udt15047/capacitors.dss' on line 34 in 'Capacitors.dss'\n",
      "\u001b[36m\u001b[1m[ \u001b[22m\u001b[39m\u001b[36m\u001b[1mPowerModelsDistribution | Info ] : \u001b[22m\u001b[39mRedirecting to 'p22uhs12_1247--p22udt13569/capacitors.dss' on line 35 in 'Capacitors.dss'\n",
      "\u001b[36m\u001b[1m[ \u001b[22m\u001b[39m\u001b[36m\u001b[1mPowerModelsDistribution | Info ] : \u001b[22m\u001b[39mRedirecting to 'p22uhs12_1247--p22udt12968/capacitors.dss' on line 36 in 'Capacitors.dss'\n",
      "\u001b[36m\u001b[1m[ \u001b[22m\u001b[39m\u001b[36m\u001b[1mPowerModelsDistribution | Info ] : \u001b[22m\u001b[39mRedirecting to 'p22uhs12_1247--p22udt12961/capacitors.dss' on line 37 in 'Capacitors.dss'\n",
      "\u001b[36m\u001b[1m[ \u001b[22m\u001b[39m\u001b[36m\u001b[1mPowerModelsDistribution | Info ] : \u001b[22m\u001b[39mCommand 'calcvoltagebases' on line 41 in 'Master.dss' is not supported, skipping.\n",
      "\u001b[36m\u001b[1m[ \u001b[22m\u001b[39m\u001b[36m\u001b[1mPowerModelsDistribution | Info ] : \u001b[22m\u001b[39mReading Buscoords in 'buscoords.dss' on line 43 in 'Capacitors.dss'\n",
      "\u001b[36m\u001b[1m[ \u001b[22m\u001b[39m\u001b[36m\u001b[1mPowerModelsDistribution | Info ] : \u001b[22m\u001b[39mCommand 'solve' on line 45 in 'Master.dss' is not supported, skipping.\n",
      "\u001b[36m\u001b[1m[ \u001b[22m\u001b[39m\u001b[36m\u001b[1mPowerModelsDistribution | Info ] : \u001b[22m\u001b[39mbasemva=100 is the default value, you may want to adjust sbase_default for better convergence\n"
     ]
    }
   ],
   "source": [
    "for file in files\n",
    "    # Get the parent folder's name (the second-to-last component of the path)\n",
    "    parent_folder = splitpath(file)[end-1]\n",
    "    println(parent_folder)\n",
    "    # Measure the time for the function execution\n",
    "    @time begin\n",
    "        result = PMD_solve_mc_pf(file)\n",
    "        df = process_bus_data(result, joinpath(results_directory, parent_folder*\".csv\"))\n",
    "    end\n",
    "end"
   ]
  },
  {
   "cell_type": "code",
   "execution_count": null,
   "metadata": {},
   "outputs": [],
   "source": []
  }
 ],
 "metadata": {
  "kernelspec": {
   "display_name": "Julia 1.11.0",
   "language": "julia",
   "name": "julia-1.11"
  },
  "language_info": {
   "file_extension": ".jl",
   "mimetype": "application/julia",
   "name": "julia",
   "version": "1.11.0"
  }
 },
 "nbformat": 4,
 "nbformat_minor": 2
}
