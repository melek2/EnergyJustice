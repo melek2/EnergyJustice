{
 "cells": [
  {
   "cell_type": "markdown",
   "metadata": {},
   "source": [
    "# Import dependencies"
   ]
  },
  {
   "cell_type": "code",
   "execution_count": 1,
   "metadata": {},
   "outputs": [],
   "source": [
    "begin\n",
    "\tusing PowerModelsDistribution\n",
    "\timport InfrastructureModels\n",
    "\timport JuMP\n",
    "\tusing Ipopt\n",
    "\timport JSON\n",
    "\timport CSV\n",
    "\timport LinearAlgebra\n",
    "end"
   ]
  },
  {
   "cell_type": "markdown",
   "metadata": {},
   "source": [
    "Function to pull bus voltages:"
   ]
  },
  {
   "cell_type": "code",
   "execution_count": 2,
   "metadata": {},
   "outputs": [
    {
     "data": {
      "text/plain": [
       "process_bus_data (generic function with 2 methods)"
      ]
     },
     "execution_count": 2,
     "metadata": {},
     "output_type": "execute_result"
    }
   ],
   "source": [
    "include(\"Functions/process_bus_data.jl\")"
   ]
  },
  {
   "cell_type": "markdown",
   "metadata": {},
   "source": [
    "Function for solve PowerModelDistribution solver using [`solve_mc_pf`](https://github.com/lanl-ansi/PowerModelsDistribution.jl/blob/main/docs/src/manual/power-flow.md#generic-power-flow)"
   ]
  },
  {
   "cell_type": "code",
   "execution_count": 3,
   "metadata": {},
   "outputs": [
    {
     "data": {
      "text/plain": [
       "PMD_solve_mc_pf (generic function with 1 method)"
      ]
     },
     "execution_count": 3,
     "metadata": {},
     "output_type": "execute_result"
    }
   ],
   "source": [
    "include(\"Functions/PMD_solve_mc_pf.jl\")"
   ]
  },
  {
   "cell_type": "markdown",
   "metadata": {},
   "source": [
    "directory to save result(s):"
   ]
  },
  {
   "cell_type": "code",
   "execution_count": 4,
   "metadata": {},
   "outputs": [
    {
     "data": {
      "text/plain": [
       "\"/Users/melek/Desktop/Research/Research Fall 2023/DER EJ/Results/\""
      ]
     },
     "execution_count": 4,
     "metadata": {},
     "output_type": "execute_result"
    }
   ],
   "source": [
    "results_directory = \"/Users/melek/Desktop/Research/Research Fall 2023/DER EJ/Results/\""
   ]
  },
  {
   "cell_type": "markdown",
   "metadata": {},
   "source": [
    "# Systems to solve"
   ]
  },
  {
   "cell_type": "code",
   "execution_count": 5,
   "metadata": {},
   "outputs": [
    {
     "name": "stdout",
     "output_type": "stream",
     "text": [
      "[\"/Users/melek/Desktop/Research/Research Fall 2023/DER EJ/Data/SFO/P22U/p22uhs9_1247/Master.dss\", \"/Users/melek/Desktop/Research/Research Fall 2023/DER EJ/Data/SFO/P22U/p22uhs8_1247/Master.dss\", \"/Users/melek/Desktop/Research/Research Fall 2023/DER EJ/Data/SFO/P22U/p22uhs7_1247/Master.dss\", \"/Users/melek/Desktop/Research/Research Fall 2023/DER EJ/Data/SFO/P22U/p22uhs6_1247/Master.dss\", \"/Users/melek/Desktop/Research/Research Fall 2023/DER EJ/Data/SFO/P22U/p22uhs0_1247/Master.dss\", \"/Users/melek/Desktop/Research/Research Fall 2023/DER EJ/Data/SFO/P22U/p22uhs10_1247/Master.dss\", \"/Users/melek/Desktop/Research/Research Fall 2023/DER EJ/Data/SFO/P22U/p22uhs11_1247/Master.dss\", \"/Users/melek/Desktop/Research/Research Fall 2023/DER EJ/Data/SFO/P22U/p22uhs12_1247/Master.dss\", \"/Users/melek/Desktop/Research/Research Fall 2023/DER EJ/Data/SFO/P22U/p22uhs13_1247/Master.dss\", \"/Users/melek/Desktop/Research/Research Fall 2023/DER EJ/Data/SFO/P22U/p22uhs14_1247/Master.dss\", \"/Users/melek/Desktop/Research/Research Fall 2023/DER EJ/Data/SFO/P22U/p22uhs15_1247/Master.dss\", \"/Users/melek/Desktop/Research/Research Fall 2023/DER EJ/Data/SFO/P22U/p22uhs1_1247/Master.dss\", \"/Users/melek/Desktop/Research/Research Fall 2023/DER EJ/Data/SFO/P22U/p22uhs2_1247/Master.dss\", \"/Users/melek/Desktop/Research/Research Fall 2023/DER EJ/Data/SFO/P22U/p22uhs3_1247/Master.dss\", \"/Users/melek/Desktop/Research/Research Fall 2023/DER EJ/Data/SFO/P22U/p22uhs4_1247/Master.dss\", \"/Users/melek/Desktop/Research/Research Fall 2023/DER EJ/Data/SFO/P22U/p22uhs5_1247/Master.dss\"]"
     ]
    }
   ],
   "source": [
    "using Glob\n",
    "folder_directory = \"/Users/melek/Desktop/Research/Research Fall 2023/DER EJ/Data/SFO/P22U\"\n",
    "files = glob(\"**/Master.dss\",folder_directory)\n",
    "print(files)"
   ]
  },
  {
   "cell_type": "code",
   "execution_count": 6,
   "metadata": {},
   "outputs": [
    {
     "name": "stdout",
     "output_type": "stream",
     "text": [
      "/Users/melek/Desktop/Research/Research Fall 2023/DER EJ/Data/SFO/P22U/p22uhs9_1247/Master.dss/Users/melek/Desktop/Research/Research Fall 2023/DER EJ/Data/SFO/P22U/p22uhs8_1247/Master.dss/Users/melek/Desktop/Research/Research Fall 2023/DER EJ/Data/SFO/P22U/p22uhs7_1247/Master.dss/Users/melek/Desktop/Research/Research Fall 2023/DER EJ/Data/SFO/P22U/p22uhs6_1247/Master.dss/Users/melek/Desktop/Research/Research Fall 2023/DER EJ/Data/SFO/P22U/p22uhs0_1247/Master.dss/Users/melek/Desktop/Research/Research Fall 2023/DER EJ/Data/SFO/P22U/p22uhs10_1247/Master.dss/Users/melek/Desktop/Research/Research Fall 2023/DER EJ/Data/SFO/P22U/p22uhs11_1247/Master.dss/Users/melek/Desktop/Research/Research Fall 2023/DER EJ/Data/SFO/P22U/p22uhs12_1247/Master.dss/Users/melek/Desktop/Research/Research Fall 2023/DER EJ/Data/SFO/P22U/p22uhs13_1247/Master.dss/Users/melek/Desktop/Research/Research Fall 2023/DER EJ/Data/SFO/P22U/p22uhs14_1247/Master.dss/Users/melek/Desktop/Research/Research Fall 2023/DER EJ/Data/SFO/P22U/p22uhs15_1247/Master.dss/Users/melek/Desktop/Research/Research Fall 2023/DER EJ/Data/SFO/P22U/p22uhs1_1247/Master.dss/Users/melek/Desktop/Research/Research Fall 2023/DER EJ/Data/SFO/P22U/p22uhs2_1247/Master.dss/Users/melek/Desktop/Research/Research Fall 2023/DER EJ/Data/SFO/P22U/p22uhs3_1247/Master.dss/Users/melek/Desktop/Research/Research Fall 2023/DER EJ/Data/SFO/P22U/p22uhs4_1247/Master.dss/Users/melek/Desktop/Research/Research Fall 2023/DER EJ/Data/SFO/P22U/p22uhs5_1247/Master.dss"
     ]
    }
   ],
   "source": [
    "for file in files\n",
    "    print(file)\n",
    "end"
   ]
  },
  {
   "cell_type": "code",
   "execution_count": null,
   "metadata": {},
   "outputs": [
    {
     "name": "stdout",
     "output_type": "stream",
     "text": [
      "p22uhs9_1247\n"
     ]
    },
    {
     "name": "stdout",
     "output_type": "stream",
     "text": [
      "p22uhs8_1247\n",
      "p22uhs7_1247\n",
      "p22uhs6_1247\n",
      "p22uhs0_1247\n",
      "p22uhs10_1247\n",
      "p22uhs11_1247\n",
      "p22uhs12_1247\n",
      "p22uhs13_1247\n",
      "p22uhs14_1247\n",
      "p22uhs15_1247\n",
      "p22uhs1_1247\n",
      "p22uhs2_1247\n",
      "p22uhs3_1247\n",
      "p22uhs4_1247\n",
      "p22uhs5_1247\n"
     ]
    }
   ],
   "source": [
    "for file in files\n",
    "    # Get the parent folder's name (the second-to-last component of the path)\n",
    "    parent_folder = splitpath(file)[end-1]\n",
    "    println(parent_folder)\n",
    "    # Measure the time for the function execution\n",
    "    @time begin\n",
    "        result = PMD_solve_mc_pf(file)\n",
    "        df = process_bus_data(result, joinpath(results_directory, parent_folder*\".csv\"))\n",
    "    end\n",
    "end"
   ]
  }
 ],
 "metadata": {
  "kernelspec": {
   "display_name": "Julia 1.11.0",
   "language": "julia",
   "name": "julia-1.11"
  },
  "language_info": {
   "file_extension": ".jl",
   "mimetype": "application/julia",
   "name": "julia",
   "version": "1.11.0"
  }
 },
 "nbformat": 4,
 "nbformat_minor": 2
}
